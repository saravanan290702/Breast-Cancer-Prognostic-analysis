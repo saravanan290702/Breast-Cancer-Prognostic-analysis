{
 "cells": [
  {
   "cell_type": "code",
   "execution_count": 1,
   "id": "d5836ab3",
   "metadata": {},
   "outputs": [],
   "source": [
    "## ML models applied to WPBC\n",
    "## Highest accuracy got is 87.87 got by LGBM\n"
   ]
  },
  {
   "cell_type": "markdown",
   "id": "d174878e",
   "metadata": {},
   "source": [
    "## Importing Libraries"
   ]
  },
  {
   "cell_type": "code",
   "execution_count": 2,
   "id": "a9ba8daa",
   "metadata": {},
   "outputs": [],
   "source": [
    "import numpy as np\n",
    "import pandas as pd\n",
    "import matplotlib.pyplot as plt\n",
    "import seaborn as sns\n",
    "%matplotlib inline"
   ]
  },
  {
   "cell_type": "markdown",
   "id": "e7d87751",
   "metadata": {},
   "source": [
    "## Reading the file"
   ]
  },
  {
   "cell_type": "code",
   "execution_count": 3,
   "id": "ef1ca764",
   "metadata": {},
   "outputs": [],
   "source": [
    "df=pd.read_csv(\"C:/Users/lenovo/Downloads/archive/wpbc.data.csv\")"
   ]
  },
  {
   "cell_type": "code",
   "execution_count": 4,
   "id": "97e87b8e",
   "metadata": {},
   "outputs": [
    {
     "name": "stdout",
     "output_type": "stream",
     "text": [
      "<class 'pandas.core.frame.DataFrame'>\n",
      "RangeIndex: 198 entries, 0 to 197\n",
      "Data columns (total 35 columns):\n",
      " #   Column                   Non-Null Count  Dtype  \n",
      "---  ------                   --------------  -----  \n",
      " 0   id                       198 non-null    int64  \n",
      " 1   Recurrence               198 non-null    object \n",
      " 2   Time                     198 non-null    int64  \n",
      " 3   radius_mean              198 non-null    float64\n",
      " 4   texture_mean             198 non-null    float64\n",
      " 5   perimeter_mean           198 non-null    float64\n",
      " 6   area_mean                198 non-null    float64\n",
      " 7   smoothness_mean          198 non-null    float64\n",
      " 8   compactness_mean         198 non-null    float64\n",
      " 9   concavity_mean           198 non-null    float64\n",
      " 10  concave points_mean      198 non-null    float64\n",
      " 11  symmetry_mean            198 non-null    float64\n",
      " 12  fractal_dimension_mean   198 non-null    float64\n",
      " 13  radius_se                198 non-null    float64\n",
      " 14  texture_se               198 non-null    float64\n",
      " 15  perimeter_se             198 non-null    float64\n",
      " 16  area_se                  198 non-null    float64\n",
      " 17  smoothness_se            198 non-null    float64\n",
      " 18  compactness_se           198 non-null    float64\n",
      " 19  concavity_se             198 non-null    float64\n",
      " 20  concave points_se        198 non-null    float64\n",
      " 21  symmetry_se              198 non-null    float64\n",
      " 22  fractal_dimension_se     198 non-null    float64\n",
      " 23  radius_worst             198 non-null    float64\n",
      " 24  texture_worst            198 non-null    float64\n",
      " 25  perimeter_worst          198 non-null    float64\n",
      " 26  area_worst               198 non-null    float64\n",
      " 27  smoothness_worst         198 non-null    float64\n",
      " 28  compactness_worst        198 non-null    float64\n",
      " 29  concavity_worst          198 non-null    float64\n",
      " 30  concave points_worst     198 non-null    float64\n",
      " 31  symmetry_worst           198 non-null    float64\n",
      " 32  fractal_dimension_worst  198 non-null    float64\n",
      " 33  Tumor Size               198 non-null    float64\n",
      " 34  Lymph node status        198 non-null    object \n",
      "dtypes: float64(31), int64(2), object(2)\n",
      "memory usage: 54.3+ KB\n"
     ]
    }
   ],
   "source": [
    "df.info()"
   ]
  },
  {
   "cell_type": "markdown",
   "id": "a73fb094",
   "metadata": {},
   "source": [
    "## Cleaning dataset"
   ]
  },
  {
   "cell_type": "code",
   "execution_count": 5,
   "id": "be7e06f0",
   "metadata": {},
   "outputs": [
    {
     "data": {
      "text/plain": [
       "array(['5.1', '2', '0', '?', '10', '1', '20', '6', '13', '4', '17', '15',\n",
       "       '11', '9', '8', '7', '3', '14', '27', '5', '24', '18', '16', '21'],\n",
       "      dtype=object)"
      ]
     },
     "execution_count": 5,
     "metadata": {},
     "output_type": "execute_result"
    }
   ],
   "source": [
    "df['Lymph node status'].unique()"
   ]
  },
  {
   "cell_type": "code",
   "execution_count": 6,
   "id": "ef97c589",
   "metadata": {},
   "outputs": [],
   "source": [
    "df['Lymph node status']=df['Lymph node status'].apply(lambda x: np.nan if x == '?' else x) "
   ]
  },
  {
   "cell_type": "code",
   "execution_count": 7,
   "id": "fcdb6be5",
   "metadata": {},
   "outputs": [],
   "source": [
    "df['Lymph node status']=df['Lymph node status'].astype(float)"
   ]
  },
  {
   "cell_type": "code",
   "execution_count": 8,
   "id": "aa3ed810",
   "metadata": {},
   "outputs": [
    {
     "name": "stdout",
     "output_type": "stream",
     "text": [
      "<class 'pandas.core.frame.DataFrame'>\n",
      "RangeIndex: 198 entries, 0 to 197\n",
      "Data columns (total 35 columns):\n",
      " #   Column                   Non-Null Count  Dtype  \n",
      "---  ------                   --------------  -----  \n",
      " 0   id                       198 non-null    int64  \n",
      " 1   Recurrence               198 non-null    object \n",
      " 2   Time                     198 non-null    int64  \n",
      " 3   radius_mean              198 non-null    float64\n",
      " 4   texture_mean             198 non-null    float64\n",
      " 5   perimeter_mean           198 non-null    float64\n",
      " 6   area_mean                198 non-null    float64\n",
      " 7   smoothness_mean          198 non-null    float64\n",
      " 8   compactness_mean         198 non-null    float64\n",
      " 9   concavity_mean           198 non-null    float64\n",
      " 10  concave points_mean      198 non-null    float64\n",
      " 11  symmetry_mean            198 non-null    float64\n",
      " 12  fractal_dimension_mean   198 non-null    float64\n",
      " 13  radius_se                198 non-null    float64\n",
      " 14  texture_se               198 non-null    float64\n",
      " 15  perimeter_se             198 non-null    float64\n",
      " 16  area_se                  198 non-null    float64\n",
      " 17  smoothness_se            198 non-null    float64\n",
      " 18  compactness_se           198 non-null    float64\n",
      " 19  concavity_se             198 non-null    float64\n",
      " 20  concave points_se        198 non-null    float64\n",
      " 21  symmetry_se              198 non-null    float64\n",
      " 22  fractal_dimension_se     198 non-null    float64\n",
      " 23  radius_worst             198 non-null    float64\n",
      " 24  texture_worst            198 non-null    float64\n",
      " 25  perimeter_worst          198 non-null    float64\n",
      " 26  area_worst               198 non-null    float64\n",
      " 27  smoothness_worst         198 non-null    float64\n",
      " 28  compactness_worst        198 non-null    float64\n",
      " 29  concavity_worst          198 non-null    float64\n",
      " 30  concave points_worst     198 non-null    float64\n",
      " 31  symmetry_worst           198 non-null    float64\n",
      " 32  fractal_dimension_worst  198 non-null    float64\n",
      " 33  Tumor Size               198 non-null    float64\n",
      " 34  Lymph node status        194 non-null    float64\n",
      "dtypes: float64(32), int64(2), object(1)\n",
      "memory usage: 54.3+ KB\n"
     ]
    }
   ],
   "source": [
    "df.info()"
   ]
  },
  {
   "cell_type": "code",
   "execution_count": 9,
   "id": "270edda2",
   "metadata": {},
   "outputs": [],
   "source": [
    "df['Lymph node status']=df['Lymph node status'].fillna(df['Lymph node status'].mean())"
   ]
  },
  {
   "cell_type": "code",
   "execution_count": 10,
   "id": "1bea3830",
   "metadata": {},
   "outputs": [],
   "source": [
    "X=df.iloc[:,2:34]"
   ]
  },
  {
   "cell_type": "code",
   "execution_count": 11,
   "id": "f02d9f7c",
   "metadata": {},
   "outputs": [
    {
     "data": {
      "text/html": [
       "<div>\n",
       "<style scoped>\n",
       "    .dataframe tbody tr th:only-of-type {\n",
       "        vertical-align: middle;\n",
       "    }\n",
       "\n",
       "    .dataframe tbody tr th {\n",
       "        vertical-align: top;\n",
       "    }\n",
       "\n",
       "    .dataframe thead th {\n",
       "        text-align: right;\n",
       "    }\n",
       "</style>\n",
       "<table border=\"1\" class=\"dataframe\">\n",
       "  <thead>\n",
       "    <tr style=\"text-align: right;\">\n",
       "      <th></th>\n",
       "      <th>Time</th>\n",
       "      <th>radius_mean</th>\n",
       "      <th>texture_mean</th>\n",
       "      <th>perimeter_mean</th>\n",
       "      <th>area_mean</th>\n",
       "      <th>smoothness_mean</th>\n",
       "      <th>compactness_mean</th>\n",
       "      <th>concavity_mean</th>\n",
       "      <th>concave points_mean</th>\n",
       "      <th>symmetry_mean</th>\n",
       "      <th>...</th>\n",
       "      <th>texture_worst</th>\n",
       "      <th>perimeter_worst</th>\n",
       "      <th>area_worst</th>\n",
       "      <th>smoothness_worst</th>\n",
       "      <th>compactness_worst</th>\n",
       "      <th>concavity_worst</th>\n",
       "      <th>concave points_worst</th>\n",
       "      <th>symmetry_worst</th>\n",
       "      <th>fractal_dimension_worst</th>\n",
       "      <th>Tumor Size</th>\n",
       "    </tr>\n",
       "  </thead>\n",
       "  <tbody>\n",
       "    <tr>\n",
       "      <th>0</th>\n",
       "      <td>31</td>\n",
       "      <td>18.02</td>\n",
       "      <td>27.60</td>\n",
       "      <td>117.50</td>\n",
       "      <td>1013.0</td>\n",
       "      <td>0.09489</td>\n",
       "      <td>0.10360</td>\n",
       "      <td>0.10860</td>\n",
       "      <td>0.07055</td>\n",
       "      <td>0.1865</td>\n",
       "      <td>...</td>\n",
       "      <td>37.08</td>\n",
       "      <td>139.70</td>\n",
       "      <td>1436.0</td>\n",
       "      <td>0.11950</td>\n",
       "      <td>0.1926</td>\n",
       "      <td>0.3140</td>\n",
       "      <td>0.11700</td>\n",
       "      <td>0.2677</td>\n",
       "      <td>0.08113</td>\n",
       "      <td>5.0</td>\n",
       "    </tr>\n",
       "    <tr>\n",
       "      <th>1</th>\n",
       "      <td>61</td>\n",
       "      <td>17.99</td>\n",
       "      <td>10.38</td>\n",
       "      <td>122.80</td>\n",
       "      <td>1001.0</td>\n",
       "      <td>0.11840</td>\n",
       "      <td>0.27760</td>\n",
       "      <td>0.30010</td>\n",
       "      <td>0.14710</td>\n",
       "      <td>0.2419</td>\n",
       "      <td>...</td>\n",
       "      <td>17.33</td>\n",
       "      <td>184.60</td>\n",
       "      <td>2019.0</td>\n",
       "      <td>0.16220</td>\n",
       "      <td>0.6656</td>\n",
       "      <td>0.7119</td>\n",
       "      <td>0.26540</td>\n",
       "      <td>0.4601</td>\n",
       "      <td>0.11890</td>\n",
       "      <td>3.0</td>\n",
       "    </tr>\n",
       "    <tr>\n",
       "      <th>2</th>\n",
       "      <td>116</td>\n",
       "      <td>21.37</td>\n",
       "      <td>17.44</td>\n",
       "      <td>137.50</td>\n",
       "      <td>1373.0</td>\n",
       "      <td>0.08836</td>\n",
       "      <td>0.11890</td>\n",
       "      <td>0.12550</td>\n",
       "      <td>0.08180</td>\n",
       "      <td>0.2333</td>\n",
       "      <td>...</td>\n",
       "      <td>20.98</td>\n",
       "      <td>159.10</td>\n",
       "      <td>1949.0</td>\n",
       "      <td>0.11880</td>\n",
       "      <td>0.3449</td>\n",
       "      <td>0.3414</td>\n",
       "      <td>0.20320</td>\n",
       "      <td>0.4334</td>\n",
       "      <td>0.09067</td>\n",
       "      <td>2.5</td>\n",
       "    </tr>\n",
       "    <tr>\n",
       "      <th>3</th>\n",
       "      <td>123</td>\n",
       "      <td>11.42</td>\n",
       "      <td>20.38</td>\n",
       "      <td>77.58</td>\n",
       "      <td>386.1</td>\n",
       "      <td>0.14250</td>\n",
       "      <td>0.28390</td>\n",
       "      <td>0.24140</td>\n",
       "      <td>0.10520</td>\n",
       "      <td>0.2597</td>\n",
       "      <td>...</td>\n",
       "      <td>26.50</td>\n",
       "      <td>98.87</td>\n",
       "      <td>567.7</td>\n",
       "      <td>0.20980</td>\n",
       "      <td>0.8663</td>\n",
       "      <td>0.6869</td>\n",
       "      <td>0.25750</td>\n",
       "      <td>0.6638</td>\n",
       "      <td>0.17300</td>\n",
       "      <td>2.0</td>\n",
       "    </tr>\n",
       "    <tr>\n",
       "      <th>4</th>\n",
       "      <td>27</td>\n",
       "      <td>20.29</td>\n",
       "      <td>14.34</td>\n",
       "      <td>135.10</td>\n",
       "      <td>1297.0</td>\n",
       "      <td>0.10030</td>\n",
       "      <td>0.13280</td>\n",
       "      <td>0.19800</td>\n",
       "      <td>0.10430</td>\n",
       "      <td>0.1809</td>\n",
       "      <td>...</td>\n",
       "      <td>16.67</td>\n",
       "      <td>152.20</td>\n",
       "      <td>1575.0</td>\n",
       "      <td>0.13740</td>\n",
       "      <td>0.2050</td>\n",
       "      <td>0.4000</td>\n",
       "      <td>0.16250</td>\n",
       "      <td>0.2364</td>\n",
       "      <td>0.07678</td>\n",
       "      <td>3.5</td>\n",
       "    </tr>\n",
       "    <tr>\n",
       "      <th>...</th>\n",
       "      <td>...</td>\n",
       "      <td>...</td>\n",
       "      <td>...</td>\n",
       "      <td>...</td>\n",
       "      <td>...</td>\n",
       "      <td>...</td>\n",
       "      <td>...</td>\n",
       "      <td>...</td>\n",
       "      <td>...</td>\n",
       "      <td>...</td>\n",
       "      <td>...</td>\n",
       "      <td>...</td>\n",
       "      <td>...</td>\n",
       "      <td>...</td>\n",
       "      <td>...</td>\n",
       "      <td>...</td>\n",
       "      <td>...</td>\n",
       "      <td>...</td>\n",
       "      <td>...</td>\n",
       "      <td>...</td>\n",
       "      <td>...</td>\n",
       "    </tr>\n",
       "    <tr>\n",
       "      <th>193</th>\n",
       "      <td>10</td>\n",
       "      <td>22.52</td>\n",
       "      <td>21.92</td>\n",
       "      <td>146.90</td>\n",
       "      <td>1597.0</td>\n",
       "      <td>0.07592</td>\n",
       "      <td>0.09162</td>\n",
       "      <td>0.06862</td>\n",
       "      <td>0.06367</td>\n",
       "      <td>0.1728</td>\n",
       "      <td>...</td>\n",
       "      <td>24.81</td>\n",
       "      <td>162.10</td>\n",
       "      <td>1902.0</td>\n",
       "      <td>0.08191</td>\n",
       "      <td>0.1319</td>\n",
       "      <td>0.1056</td>\n",
       "      <td>0.09378</td>\n",
       "      <td>0.2061</td>\n",
       "      <td>0.05788</td>\n",
       "      <td>6.0</td>\n",
       "    </tr>\n",
       "    <tr>\n",
       "      <th>194</th>\n",
       "      <td>8</td>\n",
       "      <td>15.44</td>\n",
       "      <td>31.18</td>\n",
       "      <td>101.00</td>\n",
       "      <td>740.4</td>\n",
       "      <td>0.09399</td>\n",
       "      <td>0.10620</td>\n",
       "      <td>0.13750</td>\n",
       "      <td>0.06500</td>\n",
       "      <td>0.1735</td>\n",
       "      <td>...</td>\n",
       "      <td>41.48</td>\n",
       "      <td>112.60</td>\n",
       "      <td>929.0</td>\n",
       "      <td>0.12720</td>\n",
       "      <td>0.2362</td>\n",
       "      <td>0.2975</td>\n",
       "      <td>0.12860</td>\n",
       "      <td>0.2914</td>\n",
       "      <td>0.08024</td>\n",
       "      <td>1.5</td>\n",
       "    </tr>\n",
       "    <tr>\n",
       "      <th>195</th>\n",
       "      <td>12</td>\n",
       "      <td>17.17</td>\n",
       "      <td>29.19</td>\n",
       "      <td>110.00</td>\n",
       "      <td>915.3</td>\n",
       "      <td>0.08952</td>\n",
       "      <td>0.06655</td>\n",
       "      <td>0.06583</td>\n",
       "      <td>0.05068</td>\n",
       "      <td>0.1793</td>\n",
       "      <td>...</td>\n",
       "      <td>36.66</td>\n",
       "      <td>132.50</td>\n",
       "      <td>1295.0</td>\n",
       "      <td>0.12610</td>\n",
       "      <td>0.1572</td>\n",
       "      <td>0.2141</td>\n",
       "      <td>0.09520</td>\n",
       "      <td>0.3362</td>\n",
       "      <td>0.06033</td>\n",
       "      <td>3.7</td>\n",
       "    </tr>\n",
       "    <tr>\n",
       "      <th>196</th>\n",
       "      <td>3</td>\n",
       "      <td>21.42</td>\n",
       "      <td>22.84</td>\n",
       "      <td>145.00</td>\n",
       "      <td>1440.0</td>\n",
       "      <td>0.10700</td>\n",
       "      <td>0.19390</td>\n",
       "      <td>0.23800</td>\n",
       "      <td>0.13180</td>\n",
       "      <td>0.1884</td>\n",
       "      <td>...</td>\n",
       "      <td>27.98</td>\n",
       "      <td>198.30</td>\n",
       "      <td>2375.0</td>\n",
       "      <td>0.14980</td>\n",
       "      <td>0.4379</td>\n",
       "      <td>0.5411</td>\n",
       "      <td>0.22150</td>\n",
       "      <td>0.2832</td>\n",
       "      <td>0.08981</td>\n",
       "      <td>3.0</td>\n",
       "    </tr>\n",
       "    <tr>\n",
       "      <th>197</th>\n",
       "      <td>6</td>\n",
       "      <td>16.70</td>\n",
       "      <td>28.13</td>\n",
       "      <td>110.30</td>\n",
       "      <td>885.4</td>\n",
       "      <td>0.08896</td>\n",
       "      <td>0.11310</td>\n",
       "      <td>0.10120</td>\n",
       "      <td>0.04989</td>\n",
       "      <td>0.1890</td>\n",
       "      <td>...</td>\n",
       "      <td>34.92</td>\n",
       "      <td>128.80</td>\n",
       "      <td>1213.0</td>\n",
       "      <td>0.13300</td>\n",
       "      <td>0.2808</td>\n",
       "      <td>0.3455</td>\n",
       "      <td>0.13170</td>\n",
       "      <td>0.3035</td>\n",
       "      <td>0.08036</td>\n",
       "      <td>3.5</td>\n",
       "    </tr>\n",
       "  </tbody>\n",
       "</table>\n",
       "<p>198 rows × 32 columns</p>\n",
       "</div>"
      ],
      "text/plain": [
       "     Time  radius_mean  texture_mean  perimeter_mean  area_mean  \\\n",
       "0      31        18.02         27.60          117.50     1013.0   \n",
       "1      61        17.99         10.38          122.80     1001.0   \n",
       "2     116        21.37         17.44          137.50     1373.0   \n",
       "3     123        11.42         20.38           77.58      386.1   \n",
       "4      27        20.29         14.34          135.10     1297.0   \n",
       "..    ...          ...           ...             ...        ...   \n",
       "193    10        22.52         21.92          146.90     1597.0   \n",
       "194     8        15.44         31.18          101.00      740.4   \n",
       "195    12        17.17         29.19          110.00      915.3   \n",
       "196     3        21.42         22.84          145.00     1440.0   \n",
       "197     6        16.70         28.13          110.30      885.4   \n",
       "\n",
       "     smoothness_mean  compactness_mean  concavity_mean  concave points_mean  \\\n",
       "0            0.09489           0.10360         0.10860              0.07055   \n",
       "1            0.11840           0.27760         0.30010              0.14710   \n",
       "2            0.08836           0.11890         0.12550              0.08180   \n",
       "3            0.14250           0.28390         0.24140              0.10520   \n",
       "4            0.10030           0.13280         0.19800              0.10430   \n",
       "..               ...               ...             ...                  ...   \n",
       "193          0.07592           0.09162         0.06862              0.06367   \n",
       "194          0.09399           0.10620         0.13750              0.06500   \n",
       "195          0.08952           0.06655         0.06583              0.05068   \n",
       "196          0.10700           0.19390         0.23800              0.13180   \n",
       "197          0.08896           0.11310         0.10120              0.04989   \n",
       "\n",
       "     symmetry_mean  ...  texture_worst  perimeter_worst  area_worst  \\\n",
       "0           0.1865  ...          37.08           139.70      1436.0   \n",
       "1           0.2419  ...          17.33           184.60      2019.0   \n",
       "2           0.2333  ...          20.98           159.10      1949.0   \n",
       "3           0.2597  ...          26.50            98.87       567.7   \n",
       "4           0.1809  ...          16.67           152.20      1575.0   \n",
       "..             ...  ...            ...              ...         ...   \n",
       "193         0.1728  ...          24.81           162.10      1902.0   \n",
       "194         0.1735  ...          41.48           112.60       929.0   \n",
       "195         0.1793  ...          36.66           132.50      1295.0   \n",
       "196         0.1884  ...          27.98           198.30      2375.0   \n",
       "197         0.1890  ...          34.92           128.80      1213.0   \n",
       "\n",
       "     smoothness_worst  compactness_worst  concavity_worst  \\\n",
       "0             0.11950             0.1926           0.3140   \n",
       "1             0.16220             0.6656           0.7119   \n",
       "2             0.11880             0.3449           0.3414   \n",
       "3             0.20980             0.8663           0.6869   \n",
       "4             0.13740             0.2050           0.4000   \n",
       "..                ...                ...              ...   \n",
       "193           0.08191             0.1319           0.1056   \n",
       "194           0.12720             0.2362           0.2975   \n",
       "195           0.12610             0.1572           0.2141   \n",
       "196           0.14980             0.4379           0.5411   \n",
       "197           0.13300             0.2808           0.3455   \n",
       "\n",
       "     concave points_worst  symmetry_worst  fractal_dimension_worst  Tumor Size  \n",
       "0                 0.11700          0.2677                  0.08113         5.0  \n",
       "1                 0.26540          0.4601                  0.11890         3.0  \n",
       "2                 0.20320          0.4334                  0.09067         2.5  \n",
       "3                 0.25750          0.6638                  0.17300         2.0  \n",
       "4                 0.16250          0.2364                  0.07678         3.5  \n",
       "..                    ...             ...                      ...         ...  \n",
       "193               0.09378          0.2061                  0.05788         6.0  \n",
       "194               0.12860          0.2914                  0.08024         1.5  \n",
       "195               0.09520          0.3362                  0.06033         3.7  \n",
       "196               0.22150          0.2832                  0.08981         3.0  \n",
       "197               0.13170          0.3035                  0.08036         3.5  \n",
       "\n",
       "[198 rows x 32 columns]"
      ]
     },
     "execution_count": 11,
     "metadata": {},
     "output_type": "execute_result"
    }
   ],
   "source": [
    "X"
   ]
  },
  {
   "cell_type": "code",
   "execution_count": 12,
   "id": "84efb14b",
   "metadata": {},
   "outputs": [],
   "source": [
    "y=df['Recurrence']"
   ]
  },
  {
   "cell_type": "markdown",
   "id": "da8d6f6e",
   "metadata": {},
   "source": [
    "## Removing correlated columns"
   ]
  },
  {
   "cell_type": "code",
   "execution_count": 13,
   "id": "37efdf55",
   "metadata": {},
   "outputs": [
    {
     "data": {
      "text/html": [
       "<div>\n",
       "<style scoped>\n",
       "    .dataframe tbody tr th:only-of-type {\n",
       "        vertical-align: middle;\n",
       "    }\n",
       "\n",
       "    .dataframe tbody tr th {\n",
       "        vertical-align: top;\n",
       "    }\n",
       "\n",
       "    .dataframe thead th {\n",
       "        text-align: right;\n",
       "    }\n",
       "</style>\n",
       "<table border=\"1\" class=\"dataframe\">\n",
       "  <thead>\n",
       "    <tr style=\"text-align: right;\">\n",
       "      <th></th>\n",
       "      <th>feature1</th>\n",
       "      <th>feature2</th>\n",
       "      <th>Correlation</th>\n",
       "    </tr>\n",
       "  </thead>\n",
       "  <tbody>\n",
       "    <tr>\n",
       "      <th>0</th>\n",
       "      <td>radius_mean</td>\n",
       "      <td>perimeter_mean</td>\n",
       "      <td>0.995933</td>\n",
       "    </tr>\n",
       "    <tr>\n",
       "      <th>1</th>\n",
       "      <td>perimeter_mean</td>\n",
       "      <td>radius_mean</td>\n",
       "      <td>0.995933</td>\n",
       "    </tr>\n",
       "    <tr>\n",
       "      <th>2</th>\n",
       "      <td>radius_mean</td>\n",
       "      <td>area_mean</td>\n",
       "      <td>0.992855</td>\n",
       "    </tr>\n",
       "    <tr>\n",
       "      <th>3</th>\n",
       "      <td>area_mean</td>\n",
       "      <td>radius_mean</td>\n",
       "      <td>0.992855</td>\n",
       "    </tr>\n",
       "    <tr>\n",
       "      <th>4</th>\n",
       "      <td>perimeter_mean</td>\n",
       "      <td>area_mean</td>\n",
       "      <td>0.990699</td>\n",
       "    </tr>\n",
       "  </tbody>\n",
       "</table>\n",
       "</div>"
      ],
      "text/plain": [
       "         feature1        feature2  Correlation\n",
       "0     radius_mean  perimeter_mean     0.995933\n",
       "1  perimeter_mean     radius_mean     0.995933\n",
       "2     radius_mean       area_mean     0.992855\n",
       "3       area_mean     radius_mean     0.992855\n",
       "4  perimeter_mean       area_mean     0.990699"
      ]
     },
     "execution_count": 13,
     "metadata": {},
     "output_type": "execute_result"
    }
   ],
   "source": [
    "# Build a Dataframe with Correlation between Features\n",
    "corr_matrix = X.corr()\n",
    "# Take absolute values of correlated coefficients\n",
    "corr_matrix = corr_matrix.abs().unstack()\n",
    "corr_matrix = corr_matrix.sort_values(ascending=False)\n",
    "# Take only features with correlation above threshold of 0.8\n",
    "corr_matrix = corr_matrix[corr_matrix >= 0.8]\n",
    "corr_matrix = corr_matrix[corr_matrix < 1]\n",
    "corr_matrix = pd.DataFrame(corr_matrix).reset_index()\n",
    "corr_matrix.columns = ['feature1', 'feature2', 'Correlation']\n",
    "corr_matrix.head()\n"
   ]
  },
  {
   "cell_type": "code",
   "execution_count": 14,
   "id": "21a4ad7b",
   "metadata": {},
   "outputs": [],
   "source": [
    "from sklearn.model_selection import train_test_split\n",
    "X_train, X_test, y_train, y_test = train_test_split(X, y, test_size=0.33, random_state=42)"
   ]
  },
  {
   "cell_type": "code",
   "execution_count": 15,
   "id": "a41e4008",
   "metadata": {},
   "outputs": [
    {
     "name": "stdout",
     "output_type": "stream",
     "text": [
      "Found 9 correlated feature groups\n",
      "out of 32 total features.\n"
     ]
    }
   ],
   "source": [
    "# Get groups of features that are correlated amongs themselves\n",
    "grouped_features = []\n",
    "correlated_groups = []\n",
    "\n",
    "for feature in corr_matrix.feature1.unique():\n",
    "    if feature not in grouped_features:\n",
    "        # Find all features correlated to a single feature\n",
    "        correlated_block = corr_matrix[corr_matrix.feature1 == feature]\n",
    "        grouped_features = grouped_features + list(correlated_block.feature2.unique()) + [feature]\n",
    "        \n",
    "        # Append block of features to the list\n",
    "        correlated_groups.append(correlated_block)\n",
    "\n",
    "print('Found {} correlated feature groups'.format(len(correlated_groups)))\n",
    "print('out of {} total features.'.format(X_train.shape[1]))"
   ]
  },
  {
   "cell_type": "code",
   "execution_count": 16,
   "id": "0cbc5631",
   "metadata": {},
   "outputs": [
    {
     "name": "stdout",
     "output_type": "stream",
     "text": [
      "       feature1         feature2  Correlation\n",
      "0   radius_mean   perimeter_mean     0.995933\n",
      "2   radius_mean        area_mean     0.992855\n",
      "22  radius_mean     radius_worst     0.924183\n",
      "28  radius_mean  perimeter_worst     0.915053\n",
      "34  radius_mean       area_worst     0.891489\n",
      "\n",
      "\n",
      "        feature1   feature2  Correlation\n",
      "12  perimeter_se  radius_se     0.973267\n",
      "18  perimeter_se    area_se     0.929603\n",
      "\n",
      "\n",
      "               feature1        feature2  Correlation\n",
      "32  concave points_mean  concavity_mean      0.90999\n",
      "\n",
      "\n",
      "        feature1       feature2  Correlation\n",
      "38  texture_mean  texture_worst      0.86205\n",
      "\n",
      "\n",
      "             feature1                 feature2  Correlation\n",
      "40  compactness_worst  fractal_dimension_worst     0.847403\n",
      "49  compactness_worst          concavity_worst     0.835064\n",
      "\n",
      "\n",
      "                feature1        feature2  Correlation\n",
      "42  fractal_dimension_se  compactness_se     0.845176\n",
      "\n",
      "\n",
      "                  feature1                 feature2  Correlation\n",
      "44  fractal_dimension_mean  fractal_dimension_worst     0.838737\n",
      "\n",
      "\n",
      "            feature1        feature2  Correlation\n",
      "46  compactness_mean  concavity_mean     0.836015\n",
      "\n",
      "\n",
      "        feature1        feature2  Correlation\n",
      "50  concavity_se  compactness_se     0.813994\n",
      "\n",
      "\n"
     ]
    }
   ],
   "source": [
    "# Visualize Correlated Feature Groups\n",
    "for group in correlated_groups:\n",
    "    print(group)\n",
    "    print('\\n')"
   ]
  },
  {
   "cell_type": "code",
   "execution_count": 17,
   "id": "68a65aba",
   "metadata": {},
   "outputs": [],
   "source": [
    "df.drop(\"perimeter_mean\",axis=1,inplace=True)\n",
    "df.drop(\"area_mean\",axis=1,inplace=True)\n",
    "df.drop(\"radius_worst\",axis=1,inplace=True)\n",
    "df.drop(\"perimeter_worst\",axis=1,inplace=True)\n",
    "df.drop(\"area_worst\",axis=1,inplace=True)"
   ]
  },
  {
   "cell_type": "code",
   "execution_count": 18,
   "id": "da630429",
   "metadata": {},
   "outputs": [],
   "source": [
    "df.drop(\"radius_se\",axis=1,inplace=True)\n",
    "df.drop(\"area_se\",axis=1,inplace=True)"
   ]
  },
  {
   "cell_type": "code",
   "execution_count": 19,
   "id": "214ef10d",
   "metadata": {},
   "outputs": [],
   "source": [
    "df.drop(\"concavity_mean\",axis=1,inplace=True)\n",
    "df.drop(\"texture_worst\",axis=1,inplace=True)\n",
    "df.drop(\"fractal_dimension_worst\",axis=1,inplace=True)\n",
    "df.drop(\"concavity_worst\",axis=1,inplace=True)\n"
   ]
  },
  {
   "cell_type": "code",
   "execution_count": 20,
   "id": "c02d280b",
   "metadata": {},
   "outputs": [],
   "source": [
    "df.drop(\"compactness_se\",axis=1,inplace=True)\n",
    "\n"
   ]
  },
  {
   "cell_type": "code",
   "execution_count": 21,
   "id": "18f73c95",
   "metadata": {},
   "outputs": [
    {
     "data": {
      "text/html": [
       "<div>\n",
       "<style scoped>\n",
       "    .dataframe tbody tr th:only-of-type {\n",
       "        vertical-align: middle;\n",
       "    }\n",
       "\n",
       "    .dataframe tbody tr th {\n",
       "        vertical-align: top;\n",
       "    }\n",
       "\n",
       "    .dataframe thead th {\n",
       "        text-align: right;\n",
       "    }\n",
       "</style>\n",
       "<table border=\"1\" class=\"dataframe\">\n",
       "  <thead>\n",
       "    <tr style=\"text-align: right;\">\n",
       "      <th></th>\n",
       "      <th>id</th>\n",
       "      <th>Recurrence</th>\n",
       "      <th>Time</th>\n",
       "      <th>radius_mean</th>\n",
       "      <th>texture_mean</th>\n",
       "      <th>smoothness_mean</th>\n",
       "      <th>compactness_mean</th>\n",
       "      <th>concave points_mean</th>\n",
       "      <th>symmetry_mean</th>\n",
       "      <th>fractal_dimension_mean</th>\n",
       "      <th>...</th>\n",
       "      <th>concavity_se</th>\n",
       "      <th>concave points_se</th>\n",
       "      <th>symmetry_se</th>\n",
       "      <th>fractal_dimension_se</th>\n",
       "      <th>smoothness_worst</th>\n",
       "      <th>compactness_worst</th>\n",
       "      <th>concave points_worst</th>\n",
       "      <th>symmetry_worst</th>\n",
       "      <th>Tumor Size</th>\n",
       "      <th>Lymph node status</th>\n",
       "    </tr>\n",
       "  </thead>\n",
       "  <tbody>\n",
       "    <tr>\n",
       "      <th>0</th>\n",
       "      <td>119513</td>\n",
       "      <td>N</td>\n",
       "      <td>31</td>\n",
       "      <td>18.02</td>\n",
       "      <td>27.60</td>\n",
       "      <td>0.09489</td>\n",
       "      <td>0.10360</td>\n",
       "      <td>0.07055</td>\n",
       "      <td>0.1865</td>\n",
       "      <td>0.06333</td>\n",
       "      <td>...</td>\n",
       "      <td>0.03233</td>\n",
       "      <td>0.009854</td>\n",
       "      <td>0.01694</td>\n",
       "      <td>0.003495</td>\n",
       "      <td>0.11950</td>\n",
       "      <td>0.1926</td>\n",
       "      <td>0.11700</td>\n",
       "      <td>0.2677</td>\n",
       "      <td>5.0</td>\n",
       "      <td>5.100000</td>\n",
       "    </tr>\n",
       "    <tr>\n",
       "      <th>1</th>\n",
       "      <td>8423</td>\n",
       "      <td>N</td>\n",
       "      <td>61</td>\n",
       "      <td>17.99</td>\n",
       "      <td>10.38</td>\n",
       "      <td>0.11840</td>\n",
       "      <td>0.27760</td>\n",
       "      <td>0.14710</td>\n",
       "      <td>0.2419</td>\n",
       "      <td>0.07871</td>\n",
       "      <td>...</td>\n",
       "      <td>0.05373</td>\n",
       "      <td>0.015870</td>\n",
       "      <td>0.03003</td>\n",
       "      <td>0.006193</td>\n",
       "      <td>0.16220</td>\n",
       "      <td>0.6656</td>\n",
       "      <td>0.26540</td>\n",
       "      <td>0.4601</td>\n",
       "      <td>3.0</td>\n",
       "      <td>2.000000</td>\n",
       "    </tr>\n",
       "    <tr>\n",
       "      <th>2</th>\n",
       "      <td>842517</td>\n",
       "      <td>N</td>\n",
       "      <td>116</td>\n",
       "      <td>21.37</td>\n",
       "      <td>17.44</td>\n",
       "      <td>0.08836</td>\n",
       "      <td>0.11890</td>\n",
       "      <td>0.08180</td>\n",
       "      <td>0.2333</td>\n",
       "      <td>0.06010</td>\n",
       "      <td>...</td>\n",
       "      <td>0.03300</td>\n",
       "      <td>0.018050</td>\n",
       "      <td>0.03094</td>\n",
       "      <td>0.005039</td>\n",
       "      <td>0.11880</td>\n",
       "      <td>0.3449</td>\n",
       "      <td>0.20320</td>\n",
       "      <td>0.4334</td>\n",
       "      <td>2.5</td>\n",
       "      <td>0.000000</td>\n",
       "    </tr>\n",
       "    <tr>\n",
       "      <th>3</th>\n",
       "      <td>843483</td>\n",
       "      <td>N</td>\n",
       "      <td>123</td>\n",
       "      <td>11.42</td>\n",
       "      <td>20.38</td>\n",
       "      <td>0.14250</td>\n",
       "      <td>0.28390</td>\n",
       "      <td>0.10520</td>\n",
       "      <td>0.2597</td>\n",
       "      <td>0.09744</td>\n",
       "      <td>...</td>\n",
       "      <td>0.05661</td>\n",
       "      <td>0.018670</td>\n",
       "      <td>0.05963</td>\n",
       "      <td>0.009208</td>\n",
       "      <td>0.20980</td>\n",
       "      <td>0.8663</td>\n",
       "      <td>0.25750</td>\n",
       "      <td>0.6638</td>\n",
       "      <td>2.0</td>\n",
       "      <td>0.000000</td>\n",
       "    </tr>\n",
       "    <tr>\n",
       "      <th>4</th>\n",
       "      <td>843584</td>\n",
       "      <td>R</td>\n",
       "      <td>27</td>\n",
       "      <td>20.29</td>\n",
       "      <td>14.34</td>\n",
       "      <td>0.10030</td>\n",
       "      <td>0.13280</td>\n",
       "      <td>0.10430</td>\n",
       "      <td>0.1809</td>\n",
       "      <td>0.05883</td>\n",
       "      <td>...</td>\n",
       "      <td>0.05688</td>\n",
       "      <td>0.018850</td>\n",
       "      <td>0.01756</td>\n",
       "      <td>0.005115</td>\n",
       "      <td>0.13740</td>\n",
       "      <td>0.2050</td>\n",
       "      <td>0.16250</td>\n",
       "      <td>0.2364</td>\n",
       "      <td>3.5</td>\n",
       "      <td>0.000000</td>\n",
       "    </tr>\n",
       "    <tr>\n",
       "      <th>...</th>\n",
       "      <td>...</td>\n",
       "      <td>...</td>\n",
       "      <td>...</td>\n",
       "      <td>...</td>\n",
       "      <td>...</td>\n",
       "      <td>...</td>\n",
       "      <td>...</td>\n",
       "      <td>...</td>\n",
       "      <td>...</td>\n",
       "      <td>...</td>\n",
       "      <td>...</td>\n",
       "      <td>...</td>\n",
       "      <td>...</td>\n",
       "      <td>...</td>\n",
       "      <td>...</td>\n",
       "      <td>...</td>\n",
       "      <td>...</td>\n",
       "      <td>...</td>\n",
       "      <td>...</td>\n",
       "      <td>...</td>\n",
       "      <td>...</td>\n",
       "    </tr>\n",
       "    <tr>\n",
       "      <th>193</th>\n",
       "      <td>942640</td>\n",
       "      <td>N</td>\n",
       "      <td>10</td>\n",
       "      <td>22.52</td>\n",
       "      <td>21.92</td>\n",
       "      <td>0.07592</td>\n",
       "      <td>0.09162</td>\n",
       "      <td>0.06367</td>\n",
       "      <td>0.1728</td>\n",
       "      <td>0.05262</td>\n",
       "      <td>...</td>\n",
       "      <td>0.02433</td>\n",
       "      <td>0.020360</td>\n",
       "      <td>0.02486</td>\n",
       "      <td>0.003922</td>\n",
       "      <td>0.08191</td>\n",
       "      <td>0.1319</td>\n",
       "      <td>0.09378</td>\n",
       "      <td>0.2061</td>\n",
       "      <td>6.0</td>\n",
       "      <td>2.000000</td>\n",
       "    </tr>\n",
       "    <tr>\n",
       "      <th>194</th>\n",
       "      <td>943471</td>\n",
       "      <td>N</td>\n",
       "      <td>8</td>\n",
       "      <td>15.44</td>\n",
       "      <td>31.18</td>\n",
       "      <td>0.09399</td>\n",
       "      <td>0.10620</td>\n",
       "      <td>0.06500</td>\n",
       "      <td>0.1735</td>\n",
       "      <td>0.06105</td>\n",
       "      <td>...</td>\n",
       "      <td>0.02834</td>\n",
       "      <td>0.010790</td>\n",
       "      <td>0.02122</td>\n",
       "      <td>0.003168</td>\n",
       "      <td>0.12720</td>\n",
       "      <td>0.2362</td>\n",
       "      <td>0.12860</td>\n",
       "      <td>0.2914</td>\n",
       "      <td>1.5</td>\n",
       "      <td>0.000000</td>\n",
       "    </tr>\n",
       "    <tr>\n",
       "      <th>195</th>\n",
       "      <td>94547</td>\n",
       "      <td>N</td>\n",
       "      <td>12</td>\n",
       "      <td>17.17</td>\n",
       "      <td>29.19</td>\n",
       "      <td>0.08952</td>\n",
       "      <td>0.06655</td>\n",
       "      <td>0.05068</td>\n",
       "      <td>0.1793</td>\n",
       "      <td>0.05392</td>\n",
       "      <td>...</td>\n",
       "      <td>0.03155</td>\n",
       "      <td>0.009714</td>\n",
       "      <td>0.02734</td>\n",
       "      <td>0.001377</td>\n",
       "      <td>0.12610</td>\n",
       "      <td>0.1572</td>\n",
       "      <td>0.09520</td>\n",
       "      <td>0.3362</td>\n",
       "      <td>3.7</td>\n",
       "      <td>0.000000</td>\n",
       "    </tr>\n",
       "    <tr>\n",
       "      <th>196</th>\n",
       "      <td>947204</td>\n",
       "      <td>R</td>\n",
       "      <td>3</td>\n",
       "      <td>21.42</td>\n",
       "      <td>22.84</td>\n",
       "      <td>0.10700</td>\n",
       "      <td>0.19390</td>\n",
       "      <td>0.13180</td>\n",
       "      <td>0.1884</td>\n",
       "      <td>0.06472</td>\n",
       "      <td>...</td>\n",
       "      <td>0.04948</td>\n",
       "      <td>0.017700</td>\n",
       "      <td>0.01481</td>\n",
       "      <td>0.003979</td>\n",
       "      <td>0.14980</td>\n",
       "      <td>0.4379</td>\n",
       "      <td>0.22150</td>\n",
       "      <td>0.2832</td>\n",
       "      <td>3.0</td>\n",
       "      <td>3.211856</td>\n",
       "    </tr>\n",
       "    <tr>\n",
       "      <th>197</th>\n",
       "      <td>947489</td>\n",
       "      <td>N</td>\n",
       "      <td>6</td>\n",
       "      <td>16.70</td>\n",
       "      <td>28.13</td>\n",
       "      <td>0.08896</td>\n",
       "      <td>0.11310</td>\n",
       "      <td>0.04989</td>\n",
       "      <td>0.1890</td>\n",
       "      <td>0.06035</td>\n",
       "      <td>...</td>\n",
       "      <td>0.03957</td>\n",
       "      <td>0.014110</td>\n",
       "      <td>0.01957</td>\n",
       "      <td>0.003606</td>\n",
       "      <td>0.13300</td>\n",
       "      <td>0.2808</td>\n",
       "      <td>0.13170</td>\n",
       "      <td>0.3035</td>\n",
       "      <td>3.5</td>\n",
       "      <td>0.000000</td>\n",
       "    </tr>\n",
       "  </tbody>\n",
       "</table>\n",
       "<p>198 rows × 23 columns</p>\n",
       "</div>"
      ],
      "text/plain": [
       "         id Recurrence  Time  radius_mean  texture_mean  smoothness_mean  \\\n",
       "0    119513          N    31        18.02         27.60          0.09489   \n",
       "1      8423          N    61        17.99         10.38          0.11840   \n",
       "2    842517          N   116        21.37         17.44          0.08836   \n",
       "3    843483          N   123        11.42         20.38          0.14250   \n",
       "4    843584          R    27        20.29         14.34          0.10030   \n",
       "..      ...        ...   ...          ...           ...              ...   \n",
       "193  942640          N    10        22.52         21.92          0.07592   \n",
       "194  943471          N     8        15.44         31.18          0.09399   \n",
       "195   94547          N    12        17.17         29.19          0.08952   \n",
       "196  947204          R     3        21.42         22.84          0.10700   \n",
       "197  947489          N     6        16.70         28.13          0.08896   \n",
       "\n",
       "     compactness_mean  concave points_mean  symmetry_mean  \\\n",
       "0             0.10360              0.07055         0.1865   \n",
       "1             0.27760              0.14710         0.2419   \n",
       "2             0.11890              0.08180         0.2333   \n",
       "3             0.28390              0.10520         0.2597   \n",
       "4             0.13280              0.10430         0.1809   \n",
       "..                ...                  ...            ...   \n",
       "193           0.09162              0.06367         0.1728   \n",
       "194           0.10620              0.06500         0.1735   \n",
       "195           0.06655              0.05068         0.1793   \n",
       "196           0.19390              0.13180         0.1884   \n",
       "197           0.11310              0.04989         0.1890   \n",
       "\n",
       "     fractal_dimension_mean  ...  concavity_se  concave points_se  \\\n",
       "0                   0.06333  ...       0.03233           0.009854   \n",
       "1                   0.07871  ...       0.05373           0.015870   \n",
       "2                   0.06010  ...       0.03300           0.018050   \n",
       "3                   0.09744  ...       0.05661           0.018670   \n",
       "4                   0.05883  ...       0.05688           0.018850   \n",
       "..                      ...  ...           ...                ...   \n",
       "193                 0.05262  ...       0.02433           0.020360   \n",
       "194                 0.06105  ...       0.02834           0.010790   \n",
       "195                 0.05392  ...       0.03155           0.009714   \n",
       "196                 0.06472  ...       0.04948           0.017700   \n",
       "197                 0.06035  ...       0.03957           0.014110   \n",
       "\n",
       "     symmetry_se  fractal_dimension_se  smoothness_worst  compactness_worst  \\\n",
       "0        0.01694              0.003495           0.11950             0.1926   \n",
       "1        0.03003              0.006193           0.16220             0.6656   \n",
       "2        0.03094              0.005039           0.11880             0.3449   \n",
       "3        0.05963              0.009208           0.20980             0.8663   \n",
       "4        0.01756              0.005115           0.13740             0.2050   \n",
       "..           ...                   ...               ...                ...   \n",
       "193      0.02486              0.003922           0.08191             0.1319   \n",
       "194      0.02122              0.003168           0.12720             0.2362   \n",
       "195      0.02734              0.001377           0.12610             0.1572   \n",
       "196      0.01481              0.003979           0.14980             0.4379   \n",
       "197      0.01957              0.003606           0.13300             0.2808   \n",
       "\n",
       "     concave points_worst  symmetry_worst  Tumor Size  Lymph node status  \n",
       "0                 0.11700          0.2677         5.0           5.100000  \n",
       "1                 0.26540          0.4601         3.0           2.000000  \n",
       "2                 0.20320          0.4334         2.5           0.000000  \n",
       "3                 0.25750          0.6638         2.0           0.000000  \n",
       "4                 0.16250          0.2364         3.5           0.000000  \n",
       "..                    ...             ...         ...                ...  \n",
       "193               0.09378          0.2061         6.0           2.000000  \n",
       "194               0.12860          0.2914         1.5           0.000000  \n",
       "195               0.09520          0.3362         3.7           0.000000  \n",
       "196               0.22150          0.2832         3.0           3.211856  \n",
       "197               0.13170          0.3035         3.5           0.000000  \n",
       "\n",
       "[198 rows x 23 columns]"
      ]
     },
     "execution_count": 21,
     "metadata": {},
     "output_type": "execute_result"
    }
   ],
   "source": [
    "df"
   ]
  },
  {
   "cell_type": "markdown",
   "id": "f735b06c",
   "metadata": {},
   "source": [
    "## Normailing skewed columns"
   ]
  },
  {
   "cell_type": "code",
   "execution_count": 22,
   "id": "a1f0f3e4",
   "metadata": {},
   "outputs": [
    {
     "name": "stderr",
     "output_type": "stream",
     "text": [
      "C:\\Users\\lenovo\\AppData\\Local\\Temp\\ipykernel_26936\\3517674506.py:1: FutureWarning: Dropping of nuisance columns in DataFrame reductions (with 'numeric_only=None') is deprecated; in a future version this will raise TypeError.  Select only valid columns before calling the reduction.\n",
      "  df.skew(axis = 0)\n"
     ]
    },
    {
     "data": {
      "text/plain": [
       "id                        1.990248\n",
       "Time                      0.514322\n",
       "radius_mean               0.313726\n",
       "texture_mean              0.571373\n",
       "smoothness_mean           0.443359\n",
       "compactness_mean          0.614172\n",
       "concave points_mean       0.697699\n",
       "symmetry_mean             0.775116\n",
       "fractal_dimension_mean    0.999702\n",
       "texture_se                1.309493\n",
       "perimeter_se              1.262808\n",
       "smoothness_se             3.905352\n",
       "concavity_se              1.749850\n",
       "concave points_se         1.280522\n",
       "symmetry_se               2.130190\n",
       "fractal_dimension_se      1.683379\n",
       "smoothness_worst          0.460028\n",
       "compactness_worst         1.165402\n",
       "concave points_worst     -0.147846\n",
       "symmetry_worst            1.120878\n",
       "Tumor Size                1.752621\n",
       "Lymph node status         2.278842\n",
       "dtype: float64"
      ]
     },
     "execution_count": 22,
     "metadata": {},
     "output_type": "execute_result"
    }
   ],
   "source": [
    "df.skew(axis = 0)"
   ]
  },
  {
   "cell_type": "code",
   "execution_count": 23,
   "id": "7ef69c23",
   "metadata": {},
   "outputs": [],
   "source": [
    "df['smoothness_se']=np.log(df['smoothness_se'])"
   ]
  },
  {
   "cell_type": "code",
   "execution_count": 24,
   "id": "154941c4",
   "metadata": {},
   "outputs": [
    {
     "name": "stderr",
     "output_type": "stream",
     "text": [
      "C:\\Users\\lenovo\\AppData\\Local\\Temp\\ipykernel_26936\\3038578967.py:1: FutureWarning: Dropping of nuisance columns in DataFrame reductions (with 'numeric_only=None') is deprecated; in a future version this will raise TypeError.  Select only valid columns before calling the reduction.\n",
      "  df.skew(axis=0)\n"
     ]
    },
    {
     "data": {
      "text/plain": [
       "id                        1.990248\n",
       "Time                      0.514322\n",
       "radius_mean               0.313726\n",
       "texture_mean              0.571373\n",
       "smoothness_mean           0.443359\n",
       "compactness_mean          0.614172\n",
       "concave points_mean       0.697699\n",
       "symmetry_mean             0.775116\n",
       "fractal_dimension_mean    0.999702\n",
       "texture_se                1.309493\n",
       "perimeter_se              1.262808\n",
       "smoothness_se             0.658615\n",
       "concavity_se              1.749850\n",
       "concave points_se         1.280522\n",
       "symmetry_se               2.130190\n",
       "fractal_dimension_se      1.683379\n",
       "smoothness_worst          0.460028\n",
       "compactness_worst         1.165402\n",
       "concave points_worst     -0.147846\n",
       "symmetry_worst            1.120878\n",
       "Tumor Size                1.752621\n",
       "Lymph node status         2.278842\n",
       "dtype: float64"
      ]
     },
     "execution_count": 24,
     "metadata": {},
     "output_type": "execute_result"
    }
   ],
   "source": [
    "df.skew(axis=0)"
   ]
  },
  {
   "cell_type": "code",
   "execution_count": null,
   "id": "75e9ebe5",
   "metadata": {},
   "outputs": [],
   "source": []
  },
  {
   "cell_type": "markdown",
   "id": "206646cb",
   "metadata": {},
   "source": [
    "## Applying ML models"
   ]
  },
  {
   "cell_type": "code",
   "execution_count": 25,
   "id": "cd846221",
   "metadata": {},
   "outputs": [],
   "source": [
    "X=df.iloc[:,2:34]"
   ]
  },
  {
   "cell_type": "code",
   "execution_count": 26,
   "id": "d08ed273",
   "metadata": {},
   "outputs": [],
   "source": [
    "y=df['Recurrence']"
   ]
  },
  {
   "cell_type": "code",
   "execution_count": 27,
   "id": "84527106",
   "metadata": {},
   "outputs": [],
   "source": [
    "from sklearn.model_selection import train_test_split\n",
    "X_train, X_test, y_train, y_test = train_test_split(X, y, test_size=0.33, random_state=42)"
   ]
  },
  {
   "cell_type": "code",
   "execution_count": 28,
   "id": "ebe89e05",
   "metadata": {},
   "outputs": [
    {
     "data": {
      "text/plain": [
       "80.3030303030303"
      ]
     },
     "execution_count": 28,
     "metadata": {},
     "output_type": "execute_result"
    }
   ],
   "source": [
    "from sklearn.linear_model import LogisticRegression\n",
    "logModel=LogisticRegression(solver='lbfgs', max_iter=1000000,dual=False)\n",
    "logModel.fit(X_train, y_train,)\n",
    "predictions = logModel.predict(X_test)\n",
    "from sklearn.metrics import accuracy_score\n",
    "accuracy_score(y_test,predictions)*100"
   ]
  },
  {
   "cell_type": "code",
   "execution_count": 29,
   "id": "15a75d10",
   "metadata": {},
   "outputs": [
    {
     "data": {
      "text/plain": [
       "(0.6785714285714286, 0.6451378809869376, 0.6577582768248904, None)"
      ]
     },
     "execution_count": 29,
     "metadata": {},
     "output_type": "execute_result"
    }
   ],
   "source": [
    "from sklearn.metrics import precision_recall_fscore_support\n",
    "precision_recall_fscore_support(y_test, predictions, average='macro')"
   ]
  },
  {
   "cell_type": "code",
   "execution_count": 30,
   "id": "1930a338",
   "metadata": {},
   "outputs": [
    {
     "data": {
      "text/plain": [
       "72.72727272727273"
      ]
     },
     "execution_count": 30,
     "metadata": {},
     "output_type": "execute_result"
    }
   ],
   "source": [
    "from sklearn.linear_model import LogisticRegression\n",
    "logModel=LogisticRegression(solver='lbfgs', max_iter=1000000,dual=False,class_weight='balanced')\n",
    "logModel.fit(X_train, y_train,)\n",
    "predictions = logModel.predict(X_test)\n",
    "from sklearn.metrics import accuracy_score\n",
    "accuracy_score(y_test,predictions)*100"
   ]
  },
  {
   "cell_type": "code",
   "execution_count": 31,
   "id": "a0556a14",
   "metadata": {},
   "outputs": [
    {
     "data": {
      "text/plain": [
       "(0.6634146341463415, 0.7431059506531205, 0.6674132138857782, None)"
      ]
     },
     "execution_count": 31,
     "metadata": {},
     "output_type": "execute_result"
    }
   ],
   "source": [
    "from sklearn.metrics import precision_recall_fscore_support\n",
    "precision_recall_fscore_support(y_test, predictions, average='macro')"
   ]
  },
  {
   "cell_type": "code",
   "execution_count": 32,
   "id": "4f7f55c2",
   "metadata": {},
   "outputs": [
    {
     "name": "stdout",
     "output_type": "stream",
     "text": [
      "LightGBM Model accuracy score: 87.8788\n"
     ]
    }
   ],
   "source": [
    "import lightgbm as lgb\n",
    "clf = lgb.LGBMClassifier()\n",
    "clf.fit(X_train, y_train)\n",
    "y_pred=clf.predict(X_test)\n",
    "accuracy=accuracy_score(y_pred, y_test)\n",
    "print('LightGBM Model accuracy score: {0:0.4f}'.format(accuracy_score(y_test, y_pred)*100))"
   ]
  },
  {
   "cell_type": "code",
   "execution_count": 33,
   "id": "4d0f9cb9",
   "metadata": {},
   "outputs": [
    {
     "data": {
      "text/plain": [
       "(0.8181818181818181, 0.7793904208998549, 0.7962962962962963, None)"
      ]
     },
     "execution_count": 33,
     "metadata": {},
     "output_type": "execute_result"
    }
   ],
   "source": [
    "from sklearn.metrics import precision_recall_fscore_support\n",
    "precision_recall_fscore_support(y_test, y_pred, average='macro')"
   ]
  },
  {
   "cell_type": "code",
   "execution_count": null,
   "id": "c1c41e09",
   "metadata": {},
   "outputs": [],
   "source": [
    "## Highest accuracy"
   ]
  },
  {
   "cell_type": "code",
   "execution_count": null,
   "id": "9471e935",
   "metadata": {},
   "outputs": [],
   "source": [
    "pip install lightgbm\n"
   ]
  },
  {
   "cell_type": "code",
   "execution_count": 36,
   "id": "94d123b8",
   "metadata": {},
   "outputs": [],
   "source": [
    "from sklearn.ensemble import RandomForestClassifier\n",
    "clf = RandomForestClassifier(n_estimators = 100) \n",
    " \n",
    "# Training the model on the training dataset\n",
    "# fit function is used to train the model using the training sets as parameters\n",
    "clf.fit(X_train, y_train)\n",
    " \n",
    "# performing predictions on the test dataset\n",
    "y_pred8 = clf.predict(X_test)\n",
    " "
   ]
  },
  {
   "cell_type": "code",
   "execution_count": 37,
   "id": "b6390e74",
   "metadata": {},
   "outputs": [
    {
     "name": "stdout",
     "output_type": "stream",
     "text": [
      "\n",
      "87.87878787878788\n"
     ]
    }
   ],
   "source": [
    "# metrics are used to find accuracy or error\n",
    "from sklearn import metrics \n",
    "print()\n",
    " \n",
    "# using metrics module for accuracy calculation\n",
    "print( metrics.accuracy_score(y_test, y_pred8)*100)"
   ]
  },
  {
   "cell_type": "code",
   "execution_count": 38,
   "id": "b2293451",
   "metadata": {},
   "outputs": [
    {
     "data": {
      "text/plain": [
       "(0.9344262295081966, 0.6923076923076923, 0.7426900584795322, None)"
      ]
     },
     "execution_count": 38,
     "metadata": {},
     "output_type": "execute_result"
    }
   ],
   "source": [
    "from sklearn.metrics import precision_recall_fscore_support\n",
    "precision_recall_fscore_support(y_test, y_pred8, average='macro')"
   ]
  },
  {
   "cell_type": "code",
   "execution_count": 39,
   "id": "d773dcd0",
   "metadata": {},
   "outputs": [
    {
     "name": "stdout",
     "output_type": "stream",
     "text": [
      "83.33333333333334\n"
     ]
    }
   ],
   "source": [
    "from sklearn.ensemble import ExtraTreesClassifier\n",
    "clf = ExtraTreesClassifier(n_estimators=100,max_depth=6,min_samples_split=2,min_weight_fraction_leaf =0.0,n_jobs=-1)\n",
    "clf.fit(X_train, y_train)\n",
    "print(clf.score(X_test, y_test)*100)\n",
    "y_pred9 = clf.predict(X_test)"
   ]
  },
  {
   "cell_type": "code",
   "execution_count": 40,
   "id": "db0ce184",
   "metadata": {},
   "outputs": [
    {
     "data": {
      "text/plain": [
       "(0.9140625, 0.5769230769230769, 0.5863247863247864, None)"
      ]
     },
     "execution_count": 40,
     "metadata": {},
     "output_type": "execute_result"
    }
   ],
   "source": [
    "from sklearn.metrics import precision_recall_fscore_support\n",
    "precision_recall_fscore_support(y_test, y_pred9, average='macro')"
   ]
  },
  {
   "cell_type": "code",
   "execution_count": null,
   "id": "5de37360",
   "metadata": {},
   "outputs": [],
   "source": []
  },
  {
   "cell_type": "code",
   "execution_count": 41,
   "id": "f5a9503a",
   "metadata": {},
   "outputs": [
    {
     "name": "stdout",
     "output_type": "stream",
     "text": [
      "80.3030303030303\n"
     ]
    }
   ],
   "source": [
    "from sklearn.ensemble import ExtraTreesClassifier\n",
    "clf = ExtraTreesClassifier(n_estimators=100,max_depth=6,min_samples_split=2,min_weight_fraction_leaf =0.0,n_jobs=-1,class_weight='balanced')\n",
    "clf.fit(X_train, y_train)\n",
    "print(clf.score(X_test, y_test)*100)\n",
    "y_pred9 = clf.predict(X_test)"
   ]
  },
  {
   "cell_type": "code",
   "execution_count": 42,
   "id": "86fd4d41",
   "metadata": {},
   "outputs": [
    {
     "data": {
      "text/plain": [
       "(0.7, 0.7322206095791002, 0.7127552728490124, None)"
      ]
     },
     "execution_count": 42,
     "metadata": {},
     "output_type": "execute_result"
    }
   ],
   "source": [
    "from sklearn.metrics import precision_recall_fscore_support\n",
    "precision_recall_fscore_support(y_test, y_pred9, average='macro')"
   ]
  },
  {
   "cell_type": "code",
   "execution_count": 43,
   "id": "a5f0e6cc",
   "metadata": {},
   "outputs": [
    {
     "name": "stdout",
     "output_type": "stream",
     "text": [
      "75.75757575757575\n"
     ]
    },
    {
     "name": "stderr",
     "output_type": "stream",
     "text": [
      "C:\\Users\\lenovo\\anaconda3\\lib\\site-packages\\sklearn\\neighbors\\_classification.py:228: FutureWarning: Unlike other reduction functions (e.g. `skew`, `kurtosis`), the default behavior of `mode` typically preserves the axis it acts along. In SciPy 1.11.0, this behavior will change: the default value of `keepdims` will become False, the `axis` over which the statistic is taken will be eliminated, and the value None will no longer be accepted. Set `keepdims` to True or False to avoid this warning.\n",
      "  mode, _ = stats.mode(_y[neigh_ind, k], axis=1)\n",
      "C:\\Users\\lenovo\\anaconda3\\lib\\site-packages\\sklearn\\neighbors\\_classification.py:228: FutureWarning: Unlike other reduction functions (e.g. `skew`, `kurtosis`), the default behavior of `mode` typically preserves the axis it acts along. In SciPy 1.11.0, this behavior will change: the default value of `keepdims` will become False, the `axis` over which the statistic is taken will be eliminated, and the value None will no longer be accepted. Set `keepdims` to True or False to avoid this warning.\n",
      "  mode, _ = stats.mode(_y[neigh_ind, k], axis=1)\n"
     ]
    }
   ],
   "source": [
    "from sklearn.neighbors import KNeighborsClassifier\n",
    "knn = KNeighborsClassifier(n_neighbors=7)\n",
    " \n",
    "knn.fit(X_train, y_train)\n",
    " \n",
    "# Predict on dataset which model has not seen before\n",
    "print(knn.score(X_test, y_test)*100)\n",
    "y_pred10 = knn.predict(X_test)"
   ]
  },
  {
   "cell_type": "code",
   "execution_count": 44,
   "id": "ebd2ad7b",
   "metadata": {},
   "outputs": [
    {
     "data": {
      "text/plain": [
       "(0.549636803874092, 0.5297532656023223, 0.5285714285714286, None)"
      ]
     },
     "execution_count": 44,
     "metadata": {},
     "output_type": "execute_result"
    }
   ],
   "source": [
    "from sklearn.metrics import precision_recall_fscore_support\n",
    "precision_recall_fscore_support(y_test, y_pred10, average='macro')"
   ]
  },
  {
   "cell_type": "code",
   "execution_count": 46,
   "id": "1eb8ddbe",
   "metadata": {},
   "outputs": [
    {
     "name": "stdout",
     "output_type": "stream",
     "text": [
      "78.78787878787878\n"
     ]
    }
   ],
   "source": [
    "from sklearn.svm import SVC \n",
    "from sklearn.metrics import accuracy_score\n",
    "clf = SVC(kernel='linear') \n",
    "  \n",
    "#fitting x samples and y classes \n",
    "clf.fit(X_train, y_train) \n",
    "y_pred2=clf.predict(X_test)\n",
    "accuracy = accuracy_score(y_test, y_pred2)\n",
    "print(accuracy*100)"
   ]
  },
  {
   "cell_type": "code",
   "execution_count": 47,
   "id": "b6437c41",
   "metadata": {},
   "outputs": [
    {
     "data": {
      "text/plain": [
       "(0.6295399515738499, 0.5776487663280117, 0.5875, None)"
      ]
     },
     "execution_count": 47,
     "metadata": {},
     "output_type": "execute_result"
    }
   ],
   "source": [
    "from sklearn.metrics import precision_recall_fscore_support\n",
    "precision_recall_fscore_support(y_test, y_pred2, average='macro')"
   ]
  },
  {
   "cell_type": "code",
   "execution_count": 48,
   "id": "dd12e0de",
   "metadata": {},
   "outputs": [
    {
     "name": "stdout",
     "output_type": "stream",
     "text": [
      "65.15151515151516\n"
     ]
    }
   ],
   "source": [
    "from sklearn.svm import SVC \n",
    "from sklearn.metrics import accuracy_score\n",
    "clf = SVC(kernel='linear',class_weight='balanced') \n",
    "  \n",
    "#fitting x samples and y classes \n",
    "clf.fit(X_train, y_train) \n",
    "y_pred2=clf.predict(X_test)\n",
    "accuracy = accuracy_score(y_test, y_pred2)\n",
    "print(accuracy*100)"
   ]
  },
  {
   "cell_type": "code",
   "execution_count": 49,
   "id": "b6493ebb",
   "metadata": {},
   "outputs": [
    {
     "data": {
      "text/plain": [
       "(0.6080827067669173, 0.6669085631349783, 0.5931385687483248, None)"
      ]
     },
     "execution_count": 49,
     "metadata": {},
     "output_type": "execute_result"
    }
   ],
   "source": [
    "from sklearn.metrics import precision_recall_fscore_support\n",
    "precision_recall_fscore_support(y_test, y_pred2, average='macro')"
   ]
  },
  {
   "cell_type": "code",
   "execution_count": null,
   "id": "f4b5944d",
   "metadata": {},
   "outputs": [],
   "source": [
    "\n",
    "!pip install tensorflow\n"
   ]
  },
  {
   "cell_type": "code",
   "execution_count": null,
   "id": "59648134",
   "metadata": {},
   "outputs": [],
   "source": [
    "\n",
    "from tensorflow.keras.models import Sequential #Helps to create Forward and backward propogation\n",
    "from tensorflow.keras.layers import Dense #Helps to create neurons in ANN\n",
    "from tensorflow.keras.layers import LeakyReLU,PReLU,ELU #activation functions\n",
    "from tensorflow.keras.layers import Dropout #Regularization Parameters\n"
   ]
  },
  {
   "cell_type": "code",
   "execution_count": null,
   "id": "27c2765d",
   "metadata": {},
   "outputs": [],
   "source": [
    "classifier=Sequential()"
   ]
  },
  {
   "cell_type": "code",
   "execution_count": null,
   "id": "2ed198de",
   "metadata": {},
   "outputs": [],
   "source": []
  },
  {
   "cell_type": "code",
   "execution_count": null,
   "id": "f6e36c4a",
   "metadata": {},
   "outputs": [],
   "source": []
  },
  {
   "cell_type": "markdown",
   "id": "61aa70f1",
   "metadata": {},
   "source": [
    "## Reducing no. of Columns PCA"
   ]
  },
  {
   "cell_type": "code",
   "execution_count": 50,
   "id": "8362e26b",
   "metadata": {},
   "outputs": [],
   "source": [
    "from sklearn.decomposition import PCA\n",
    "pca_n=PCA(n_components=10,random_state=2020)"
   ]
  },
  {
   "cell_type": "code",
   "execution_count": 51,
   "id": "2618bc7d",
   "metadata": {},
   "outputs": [
    {
     "data": {
      "text/plain": [
       "PCA(n_components=10, random_state=2020)"
      ]
     },
     "execution_count": 51,
     "metadata": {},
     "output_type": "execute_result"
    }
   ],
   "source": [
    "pca_n.fit(X)"
   ]
  },
  {
   "cell_type": "code",
   "execution_count": 52,
   "id": "bdab14ad",
   "metadata": {},
   "outputs": [],
   "source": [
    "X_pca_n=pca_n.transform(X)"
   ]
  },
  {
   "cell_type": "code",
   "execution_count": 53,
   "id": "2caebde7",
   "metadata": {},
   "outputs": [
    {
     "data": {
      "text/plain": [
       "99.99982181480833"
      ]
     },
     "execution_count": 53,
     "metadata": {},
     "output_type": "execute_result"
    }
   ],
   "source": [
    "sum(pca_n.explained_variance_ratio_*100)"
   ]
  },
  {
   "cell_type": "code",
   "execution_count": 54,
   "id": "4c96fd99",
   "metadata": {},
   "outputs": [
    {
     "data": {
      "text/plain": [
       "array([94.93410889, 97.31637047, 98.69228049, 99.55235438, 99.77357819,\n",
       "       99.97462217, 99.99078529, 99.99719936, 99.99957426, 99.99982181])"
      ]
     },
     "execution_count": 54,
     "metadata": {},
     "output_type": "execute_result"
    }
   ],
   "source": [
    "np.cumsum(pca_n.explained_variance_ratio_*100)"
   ]
  },
  {
   "cell_type": "code",
   "execution_count": 55,
   "id": "a1784ee4",
   "metadata": {},
   "outputs": [
    {
     "data": {
      "text/plain": [
       "Text(0, 0.5, 'Explained variance')"
      ]
     },
     "execution_count": 55,
     "metadata": {},
     "output_type": "execute_result"
    },
    {
     "data": {
      "image/png": "[encoded data removed]",
      "text/plain": [
       "<Figure size 640x480 with 1 Axes>"
      ]
     },
     "metadata": {},
     "output_type": "display_data"
    }
   ],
   "source": [
    "plt.plot(np.cumsum(pca_n.explained_variance_ratio_*100))\n",
    "plt.xlabel('No. of components')\n",
    "plt.ylabel('Explained variance')"
   ]
  },
  {
   "cell_type": "code",
   "execution_count": 56,
   "id": "81dbfd52",
   "metadata": {},
   "outputs": [],
   "source": [
    "pca_98=PCA(n_components=0.99,random_state=2020)"
   ]
  },
  {
   "cell_type": "code",
   "execution_count": 57,
   "id": "c1cc5871",
   "metadata": {},
   "outputs": [],
   "source": [
    "pca_98.fit(X)\n",
    "X_pca_98=pca_98.transform(X)"
   ]
  },
  {
   "cell_type": "code",
   "execution_count": 58,
   "id": "2ec4b6c4",
   "metadata": {},
   "outputs": [],
   "source": [
    "X_new=pd.DataFrame(X_pca_98,columns=['PC1','PC2','PC3','PC4'])"
   ]
  },
  {
   "cell_type": "code",
   "execution_count": 59,
   "id": "a7605066",
   "metadata": {},
   "outputs": [],
   "source": [
    "from sklearn.model_selection import train_test_split\n",
    "X_train, X_test, y_train, y_test = train_test_split(X_new, y, test_size=0.33, random_state=42)"
   ]
  },
  {
   "cell_type": "code",
   "execution_count": 60,
   "id": "3c58b63f",
   "metadata": {},
   "outputs": [],
   "source": [
    "from sklearn.preprocessing import StandardScaler\n",
    "sc=StandardScaler()\n",
    "X_train=sc.fit_transform(X_train)\n",
    "X_test=sc.fit_transform(X_test)"
   ]
  },
  {
   "cell_type": "code",
   "execution_count": 61,
   "id": "ba4b2671",
   "metadata": {},
   "outputs": [
    {
     "name": "stdout",
     "output_type": "stream",
     "text": [
      "LightGBM Model accuracy score: 83.3333\n"
     ]
    }
   ],
   "source": [
    "import lightgbm as lgb\n",
    "clf = lgb.LGBMClassifier()\n",
    "clf.fit(X_train, y_train)\n",
    "y_pred=clf.predict(X_test)\n",
    "accuracy=accuracy_score(y_pred, y_test)\n",
    "print('LightGBM Model accuracy score: {0:0.4f}'.format(accuracy_score(y_test, y_pred)*100))"
   ]
  },
  {
   "cell_type": "code",
   "execution_count": 63,
   "id": "7a30ae0c",
   "metadata": {},
   "outputs": [
    {
     "data": {
      "text/plain": [
       "(0.7375, 0.6930333817126271, 0.710410849621061, None)"
      ]
     },
     "execution_count": 63,
     "metadata": {},
     "output_type": "execute_result"
    }
   ],
   "source": [
    "from sklearn.metrics import precision_recall_fscore_support\n",
    "precision_recall_fscore_support(y_test, y_pred, average='macro')"
   ]
  },
  {
   "cell_type": "code",
   "execution_count": 62,
   "id": "577d70e8",
   "metadata": {},
   "outputs": [
    {
     "name": "stdout",
     "output_type": "stream",
     "text": [
      "78.78787878787878\n"
     ]
    }
   ],
   "source": [
    "from sklearn.ensemble import ExtraTreesClassifier\n",
    "clf = ExtraTreesClassifier(n_estimators=100,max_depth=6,min_samples_split=2,min_weight_fraction_leaf =0.0,n_jobs=-1)\n",
    "clf.fit(X_train, y_train)\n",
    "print(clf.score(X_test, y_test)*100)"
   ]
  },
  {
   "cell_type": "code",
   "execution_count": 64,
   "id": "68899c62",
   "metadata": {},
   "outputs": [],
   "source": [
    "from sklearn.ensemble import RandomForestClassifier\n",
    "clf = RandomForestClassifier(n_estimators = 200) \n",
    " \n",
    "# Training the model on the training dataset\n",
    "# fit function is used to train the model using the training sets as parameters\n",
    "clf.fit(X_train, y_train)\n",
    " \n",
    "# performing predictions on the test dataset\n",
    "y_pred8 = clf.predict(X_test)"
   ]
  },
  {
   "cell_type": "code",
   "execution_count": 65,
   "id": "3bdc80d8",
   "metadata": {},
   "outputs": [
    {
     "name": "stdout",
     "output_type": "stream",
     "text": [
      "\n",
      "74.24242424242425\n"
     ]
    }
   ],
   "source": [
    "# metrics are used to find accuracy or error\n",
    "from sklearn import metrics \n",
    "print()\n",
    " \n",
    "# using metrics module for accuracy calculation\n",
    "print( metrics.accuracy_score(y_test, y_pred8)*100)"
   ]
  },
  {
   "cell_type": "code",
   "execution_count": 66,
   "id": "1d94a83c",
   "metadata": {},
   "outputs": [
    {
     "name": "stdout",
     "output_type": "stream",
     "text": [
      "83.33333333333334\n"
     ]
    },
    {
     "name": "stderr",
     "output_type": "stream",
     "text": [
      "C:\\Users\\lenovo\\anaconda3\\lib\\site-packages\\sklearn\\neighbors\\_classification.py:228: FutureWarning: Unlike other reduction functions (e.g. `skew`, `kurtosis`), the default behavior of `mode` typically preserves the axis it acts along. In SciPy 1.11.0, this behavior will change: the default value of `keepdims` will become False, the `axis` over which the statistic is taken will be eliminated, and the value None will no longer be accepted. Set `keepdims` to True or False to avoid this warning.\n",
      "  mode, _ = stats.mode(_y[neigh_ind, k], axis=1)\n"
     ]
    }
   ],
   "source": [
    "from sklearn.neighbors import KNeighborsClassifier\n",
    "knn = KNeighborsClassifier(n_neighbors=7)\n",
    " \n",
    "knn.fit(X_train, y_train)\n",
    " \n",
    "# Predict on dataset which model has not seen before\n",
    "print(knn.score(X_test, y_test)*100)"
   ]
  },
  {
   "cell_type": "code",
   "execution_count": 67,
   "id": "ef15cb82",
   "metadata": {},
   "outputs": [
    {
     "name": "stdout",
     "output_type": "stream",
     "text": [
      "80.3030303030303\n"
     ]
    }
   ],
   "source": [
    "from sklearn.svm import SVC  \n",
    "clf = SVC(kernel='linear') \n",
    "  \n",
    "#fitting x samples and y classes \n",
    "clf.fit(X_train, y_train) \n",
    "y_pred2=clf.predict(X_test)\n",
    "accuracy = accuracy_score(y_test, y_pred2)\n",
    "print(accuracy*100)"
   ]
  },
  {
   "cell_type": "code",
   "execution_count": 68,
   "id": "c3a8fb84",
   "metadata": {},
   "outputs": [
    {
     "data": {
      "text/plain": [
       "84.84848484848484"
      ]
     },
     "execution_count": 68,
     "metadata": {},
     "output_type": "execute_result"
    }
   ],
   "source": [
    "from sklearn.linear_model import LogisticRegression\n",
    "logModel=LogisticRegression(solver='lbfgs', max_iter=1000000,dual=False)\n",
    "logModel.fit(X_train, y_train,)\n",
    "predictions = logModel.predict(X_test)\n",
    "from sklearn.metrics import accuracy_score\n",
    "accuracy_score(y_test,predictions)*100"
   ]
  },
  {
   "cell_type": "code",
   "execution_count": 69,
   "id": "69778245",
   "metadata": {},
   "outputs": [
    {
     "name": "stderr",
     "output_type": "stream",
     "text": [
      "C:\\Users\\lenovo\\anaconda3\\lib\\site-packages\\xgboost\\compat.py:36: FutureWarning: pandas.Int64Index is deprecated and will be removed from pandas in a future version. Use pandas.Index with the appropriate dtype instead.\n",
      "  from pandas import MultiIndex, Int64Index\n",
      "C:\\Users\\lenovo\\anaconda3\\lib\\site-packages\\xgboost\\sklearn.py:1224: UserWarning: The use of label encoder in XGBClassifier is deprecated and will be removed in a future release. To remove this warning, do the following: 1) Pass option use_label_encoder=False when constructing XGBClassifier object; and 2) Encode your labels (y) as integers starting with 0, i.e. 0, 1, 2, ..., [num_class - 1].\n",
      "  warnings.warn(label_encoder_deprecation_msg, UserWarning)\n"
     ]
    },
    {
     "name": "stdout",
     "output_type": "stream",
     "text": [
      "83.33333333333334\n"
     ]
    }
   ],
   "source": [
    "from xgboost import XGBClassifier\n",
    "from sklearn.metrics import accuracy_score\n",
    "model = XGBClassifier(eval_metric='mlogloss')\n",
    "model.fit(X_train, y_train)\n",
    "y_pred1 = model.predict(X_test)\n",
    "accuracy = accuracy_score(y_test, y_pred1)\n",
    "print(accuracy*100)"
   ]
  },
  {
   "cell_type": "markdown",
   "id": "743168d0",
   "metadata": {},
   "source": [
    "## LDA"
   ]
  },
  {
   "cell_type": "code",
   "execution_count": 70,
   "id": "98323334",
   "metadata": {},
   "outputs": [],
   "source": [
    "# apply Linear Discriminant Analysis\n",
    "from sklearn.discriminant_analysis import LinearDiscriminantAnalysis\n",
    "# apply Linear Discriminant Analysis\n",
    "lda = LinearDiscriminantAnalysis(n_components=1)\n",
    "X_train = lda.fit_transform(X_train, y_train)\n",
    "X_test = lda.transform(X_test)"
   ]
  },
  {
   "cell_type": "code",
   "execution_count": 71,
   "id": "5cf5068d",
   "metadata": {},
   "outputs": [],
   "source": [
    "# classify using random forest classifier\n",
    "classifier = RandomForestClassifier(max_depth=2, random_state=0)\n",
    "classifier.fit(X_train, y_train)\n",
    "y_pred = classifier.predict(X_test)"
   ]
  },
  {
   "cell_type": "code",
   "execution_count": 72,
   "id": "10e6952a",
   "metadata": {},
   "outputs": [
    {
     "name": "stdout",
     "output_type": "stream",
     "text": [
      "Accuracy : 75.75757575757575\n"
     ]
    }
   ],
   "source": [
    "print('Accuracy : ' + str(accuracy_score(y_test, y_pred)*100))"
   ]
  },
  {
   "cell_type": "code",
   "execution_count": 73,
   "id": "90835d13",
   "metadata": {},
   "outputs": [
    {
     "name": "stdout",
     "output_type": "stream",
     "text": [
      "LightGBM Model accuracy score: 78.7879\n"
     ]
    }
   ],
   "source": [
    "import lightgbm as lgb\n",
    "clf = lgb.LGBMClassifier()\n",
    "clf.fit(X_train, y_train)\n",
    "y_pred=clf.predict(X_test)\n",
    "accuracy=accuracy_score(y_pred, y_test)\n",
    "print('LightGBM Model accuracy score: {0:0.4f}'.format(accuracy_score(y_test, y_pred)*100))"
   ]
  },
  {
   "cell_type": "code",
   "execution_count": 74,
   "id": "9b0ff5af",
   "metadata": {},
   "outputs": [
    {
     "data": {
      "text/plain": [
       "81.81818181818183"
      ]
     },
     "execution_count": 74,
     "metadata": {},
     "output_type": "execute_result"
    }
   ],
   "source": [
    "from sklearn.linear_model import LogisticRegression\n",
    "logModel=LogisticRegression(solver='lbfgs', max_iter=1000000,dual=False)\n",
    "logModel.fit(X_train, y_train,)\n",
    "predictions = logModel.predict(X_test)\n",
    "from sklearn.metrics import accuracy_score\n",
    "accuracy_score(y_test,predictions)*100"
   ]
  },
  {
   "cell_type": "code",
   "execution_count": 75,
   "id": "54b65ad3",
   "metadata": {},
   "outputs": [
    {
     "name": "stdout",
     "output_type": "stream",
     "text": [
      "72.72727272727273\n"
     ]
    },
    {
     "name": "stderr",
     "output_type": "stream",
     "text": [
      "C:\\Users\\lenovo\\anaconda3\\lib\\site-packages\\xgboost\\sklearn.py:1224: UserWarning: The use of label encoder in XGBClassifier is deprecated and will be removed in a future release. To remove this warning, do the following: 1) Pass option use_label_encoder=False when constructing XGBClassifier object; and 2) Encode your labels (y) as integers starting with 0, i.e. 0, 1, 2, ..., [num_class - 1].\n",
      "  warnings.warn(label_encoder_deprecation_msg, UserWarning)\n"
     ]
    }
   ],
   "source": [
    "from xgboost import XGBClassifier\n",
    "from sklearn.metrics import accuracy_score\n",
    "model = XGBClassifier(eval_metric='mlogloss')\n",
    "model.fit(X_train, y_train)\n",
    "y_pred1 = model.predict(X_test)\n",
    "accuracy = accuracy_score(y_test, y_pred1)\n",
    "print(accuracy*100)"
   ]
  },
  {
   "cell_type": "code",
   "execution_count": 76,
   "id": "193ffbaf",
   "metadata": {},
   "outputs": [
    {
     "name": "stdout",
     "output_type": "stream",
     "text": [
      "80.3030303030303\n"
     ]
    }
   ],
   "source": [
    "from sklearn.svm import SVC  \n",
    "clf = SVC(kernel='linear') \n",
    "  \n",
    "#fitting x samples and y classes \n",
    "clf.fit(X_train, y_train) \n",
    "y_pred2=clf.predict(X_test)\n",
    "accuracy = accuracy_score(y_test, y_pred2)\n",
    "print(accuracy*100)"
   ]
  },
  {
   "cell_type": "code",
   "execution_count": 77,
   "id": "6432b05f",
   "metadata": {},
   "outputs": [
    {
     "name": "stdout",
     "output_type": "stream",
     "text": [
      "77.27272727272727\n"
     ]
    },
    {
     "name": "stderr",
     "output_type": "stream",
     "text": [
      "C:\\Users\\lenovo\\anaconda3\\lib\\site-packages\\sklearn\\neighbors\\_classification.py:228: FutureWarning: Unlike other reduction functions (e.g. `skew`, `kurtosis`), the default behavior of `mode` typically preserves the axis it acts along. In SciPy 1.11.0, this behavior will change: the default value of `keepdims` will become False, the `axis` over which the statistic is taken will be eliminated, and the value None will no longer be accepted. Set `keepdims` to True or False to avoid this warning.\n",
      "  mode, _ = stats.mode(_y[neigh_ind, k], axis=1)\n"
     ]
    }
   ],
   "source": [
    "from sklearn.neighbors import KNeighborsClassifier\n",
    "knn = KNeighborsClassifier(n_neighbors=7)\n",
    " \n",
    "knn.fit(X_train, y_train)\n",
    " \n",
    "# Predict on dataset which model has not seen before\n",
    "print(knn.score(X_test, y_test)*100)"
   ]
  },
  {
   "cell_type": "code",
   "execution_count": null,
   "id": "ba51475d",
   "metadata": {},
   "outputs": [],
   "source": [
    "\n"
   ]
  },
  {
   "cell_type": "code",
   "execution_count": null,
   "id": "d1234c55",
   "metadata": {},
   "outputs": [],
   "source": []
  },
  {
   "cell_type": "code",
   "execution_count": null,
   "id": "ad19b4ec",
   "metadata": {},
   "outputs": [],
   "source": []
  },
  {
   "cell_type": "code",
   "execution_count": null,
   "id": "d1914e9c",
   "metadata": {},
   "outputs": [],
   "source": []
  }
 ],
 "metadata": {
  "kernelspec": {
   "display_name": "Python 3 (ipykernel)",
   "language": "python",
   "name": "python3"
  },
  "language_info": {
   "codemirror_mode": {
    "name": "ipython",
    "version": 3
   },
   "file_extension": ".py",
   "mimetype": "text/x-python",
   "name": "python",
   "nbconvert_exporter": "python",
   "pygments_lexer": "ipython3",
   "version": "3.9.13"
  }
 },
 "nbformat": 4,
 "nbformat_minor": 5
}
