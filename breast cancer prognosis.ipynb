{
 "cells": [
  {
   "cell_type": "code",
   "execution_count": 1,
   "id": "34ec2dec",
   "metadata": {
    "_cell_guid": "b1076dfc-b9ad-4769-8c92-a6c4dae69d19",
    "_uuid": "8f2839f25d086af736a60e9eeb907d3b93b6e0e5",
    "execution": {
     "iopub.execute_input": "2023-01-16T04:53:10.240820Z",
     "iopub.status.busy": "2023-01-16T04:53:10.239934Z",
     "iopub.status.idle": "2023-01-16T04:53:10.273414Z",
     "shell.execute_reply": "2023-01-16T04:53:10.271694Z"
    },
    "papermill": {
     "duration": 0.060705,
     "end_time": "2023-01-16T04:53:10.276658",
     "exception": false,
     "start_time": "2023-01-16T04:53:10.215953",
     "status": "completed"
    },
    "tags": []
   },
   "outputs": [
    {
     "name": "stdout",
     "output_type": "stream",
     "text": [
      "/kaggle/input/improve-breast-cancer-prognostics-using-machine/unformatted-data.csv\n",
      "/kaggle/input/improve-breast-cancer-prognostics-using-machine/wdbc.data.csv\n",
      "/kaggle/input/improve-breast-cancer-prognostics-using-machine/wpbc.data.csv\n",
      "/kaggle/input/improve-breast-cancer-prognostics-using-machine/breast-cancer-wisconsin.data.csv\n",
      "/kaggle/input/wiscinsonprognosisdataset/wpbc.data.csv\n"
     ]
    }
   ],
   "source": [
    "# This Python 3 environment comes with many helpful analytics libraries installed\n",
    "# It is defined by the kaggle/python Docker image: https://github.com/kaggle/docker-python\n",
    "# For example, here's several helpful packages to load\n",
    "\n",
    "import numpy as np # linear algebra\n",
    "import pandas as pd # data processing, CSV file I/O (e.g. pd.read_csv)\n",
    "\n",
    "# Input data files are available in the read-only \"../input/\" directory\n",
    "# For example, running this (by clicking run or pressing Shift+Enter) will list all files under the input directory\n",
    "\n",
    "import os\n",
    "for dirname, _, filenames in os.walk('/kaggle/input'):\n",
    "    for filename in filenames:\n",
    "        print(os.path.join(dirname, filename))\n",
    "\n",
    "# You can write up to 20GB to the current directory (/kaggle/working/) that gets preserved as output when you create a version using \"Save & Run All\" \n",
    "# You can also write temporary files to /kaggle/temp/, but they won't be saved outside of the current session"
   ]
  },
  {
   "cell_type": "markdown",
   "id": "d80c818a",
   "metadata": {
    "papermill": {
     "duration": 0.016327,
     "end_time": "2023-01-16T04:53:10.309856",
     "exception": false,
     "start_time": "2023-01-16T04:53:10.293529",
     "status": "completed"
    },
    "tags": []
   },
   "source": [
    "## Highest accuracy achieved is 87.8% by LightGBM algorithm after removing the highly correlated columns\n"
   ]
  },
  {
   "cell_type": "markdown",
   "id": "182d45a5",
   "metadata": {
    "papermill": {
     "duration": 0.016072,
     "end_time": "2023-01-16T04:53:10.342310",
     "exception": false,
     "start_time": "2023-01-16T04:53:10.326238",
     "status": "completed"
    },
    "tags": []
   },
   "source": [
    "## Normal execution without feature selection,feature selection using correlation coefficient and feature transformation using PCA has been done"
   ]
  },
  {
   "cell_type": "code",
   "execution_count": 2,
   "id": "883f6443",
   "metadata": {
    "execution": {
     "iopub.execute_input": "2023-01-16T04:53:10.377565Z",
     "iopub.status.busy": "2023-01-16T04:53:10.376408Z",
     "iopub.status.idle": "2023-01-16T04:53:11.632101Z",
     "shell.execute_reply": "2023-01-16T04:53:11.631073Z"
    },
    "papermill": {
     "duration": 1.276309,
     "end_time": "2023-01-16T04:53:11.634936",
     "exception": false,
     "start_time": "2023-01-16T04:53:10.358627",
     "status": "completed"
    },
    "tags": []
   },
   "outputs": [],
   "source": [
    "import numpy as np\n",
    "import pandas as pd\n",
    "import matplotlib.pyplot as plt\n",
    "import seaborn as sns\n",
    "%matplotlib inline"
   ]
  },
  {
   "cell_type": "code",
   "execution_count": 3,
   "id": "e8c680fb",
   "metadata": {
    "execution": {
     "iopub.execute_input": "2023-01-16T04:53:11.671432Z",
     "iopub.status.busy": "2023-01-16T04:53:11.670048Z",
     "iopub.status.idle": "2023-01-16T04:53:11.691896Z",
     "shell.execute_reply": "2023-01-16T04:53:11.690721Z"
    },
    "papermill": {
     "duration": 0.043123,
     "end_time": "2023-01-16T04:53:11.695034",
     "exception": false,
     "start_time": "2023-01-16T04:53:11.651911",
     "status": "completed"
    },
    "tags": []
   },
   "outputs": [],
   "source": [
    "df=pd.read_csv(\"/kaggle/input/wiscinsonprognosisdataset/wpbc.data.csv\")"
   ]
  },
  {
   "cell_type": "code",
   "execution_count": 4,
   "id": "0e35e1b1",
   "metadata": {
    "execution": {
     "iopub.execute_input": "2023-01-16T04:53:11.730234Z",
     "iopub.status.busy": "2023-01-16T04:53:11.729757Z",
     "iopub.status.idle": "2023-01-16T04:53:11.783251Z",
     "shell.execute_reply": "2023-01-16T04:53:11.781763Z"
    },
    "papermill": {
     "duration": 0.074463,
     "end_time": "2023-01-16T04:53:11.786145",
     "exception": false,
     "start_time": "2023-01-16T04:53:11.711682",
     "status": "completed"
    },
    "tags": []
   },
   "outputs": [
    {
     "data": {
      "text/html": [
       "<div>\n",
       "<style scoped>\n",
       "    .dataframe tbody tr th:only-of-type {\n",
       "        vertical-align: middle;\n",
       "    }\n",
       "\n",
       "    .dataframe tbody tr th {\n",
       "        vertical-align: top;\n",
       "    }\n",
       "\n",
       "    .dataframe thead th {\n",
       "        text-align: right;\n",
       "    }\n",
       "</style>\n",
       "<table border=\"1\" class=\"dataframe\">\n",
       "  <thead>\n",
       "    <tr style=\"text-align: right;\">\n",
       "      <th></th>\n",
       "      <th>id</th>\n",
       "      <th>Recurrence</th>\n",
       "      <th>Time</th>\n",
       "      <th>radius_mean</th>\n",
       "      <th>texture_mean</th>\n",
       "      <th>perimeter_mean</th>\n",
       "      <th>area_mean</th>\n",
       "      <th>smoothness_mean</th>\n",
       "      <th>compactness_mean</th>\n",
       "      <th>concavity_mean</th>\n",
       "      <th>...</th>\n",
       "      <th>perimeter_worst</th>\n",
       "      <th>area_worst</th>\n",
       "      <th>smoothness_worst</th>\n",
       "      <th>compactness_worst</th>\n",
       "      <th>concavity_worst</th>\n",
       "      <th>concave points_worst</th>\n",
       "      <th>symmetry_worst</th>\n",
       "      <th>fractal_dimension_worst</th>\n",
       "      <th>Tumor Size</th>\n",
       "      <th>Lymph node status</th>\n",
       "    </tr>\n",
       "  </thead>\n",
       "  <tbody>\n",
       "    <tr>\n",
       "      <th>0</th>\n",
       "      <td>119513</td>\n",
       "      <td>N</td>\n",
       "      <td>31</td>\n",
       "      <td>18.02</td>\n",
       "      <td>27.60</td>\n",
       "      <td>117.50</td>\n",
       "      <td>1013.0</td>\n",
       "      <td>0.09489</td>\n",
       "      <td>0.10360</td>\n",
       "      <td>0.10860</td>\n",
       "      <td>...</td>\n",
       "      <td>139.70</td>\n",
       "      <td>1436.0</td>\n",
       "      <td>0.11950</td>\n",
       "      <td>0.1926</td>\n",
       "      <td>0.3140</td>\n",
       "      <td>0.11700</td>\n",
       "      <td>0.2677</td>\n",
       "      <td>0.08113</td>\n",
       "      <td>5.0</td>\n",
       "      <td>5.1</td>\n",
       "    </tr>\n",
       "    <tr>\n",
       "      <th>1</th>\n",
       "      <td>8423</td>\n",
       "      <td>N</td>\n",
       "      <td>61</td>\n",
       "      <td>17.99</td>\n",
       "      <td>10.38</td>\n",
       "      <td>122.80</td>\n",
       "      <td>1001.0</td>\n",
       "      <td>0.11840</td>\n",
       "      <td>0.27760</td>\n",
       "      <td>0.30010</td>\n",
       "      <td>...</td>\n",
       "      <td>184.60</td>\n",
       "      <td>2019.0</td>\n",
       "      <td>0.16220</td>\n",
       "      <td>0.6656</td>\n",
       "      <td>0.7119</td>\n",
       "      <td>0.26540</td>\n",
       "      <td>0.4601</td>\n",
       "      <td>0.11890</td>\n",
       "      <td>3.0</td>\n",
       "      <td>2</td>\n",
       "    </tr>\n",
       "    <tr>\n",
       "      <th>2</th>\n",
       "      <td>842517</td>\n",
       "      <td>N</td>\n",
       "      <td>116</td>\n",
       "      <td>21.37</td>\n",
       "      <td>17.44</td>\n",
       "      <td>137.50</td>\n",
       "      <td>1373.0</td>\n",
       "      <td>0.08836</td>\n",
       "      <td>0.11890</td>\n",
       "      <td>0.12550</td>\n",
       "      <td>...</td>\n",
       "      <td>159.10</td>\n",
       "      <td>1949.0</td>\n",
       "      <td>0.11880</td>\n",
       "      <td>0.3449</td>\n",
       "      <td>0.3414</td>\n",
       "      <td>0.20320</td>\n",
       "      <td>0.4334</td>\n",
       "      <td>0.09067</td>\n",
       "      <td>2.5</td>\n",
       "      <td>0</td>\n",
       "    </tr>\n",
       "    <tr>\n",
       "      <th>3</th>\n",
       "      <td>843483</td>\n",
       "      <td>N</td>\n",
       "      <td>123</td>\n",
       "      <td>11.42</td>\n",
       "      <td>20.38</td>\n",
       "      <td>77.58</td>\n",
       "      <td>386.1</td>\n",
       "      <td>0.14250</td>\n",
       "      <td>0.28390</td>\n",
       "      <td>0.24140</td>\n",
       "      <td>...</td>\n",
       "      <td>98.87</td>\n",
       "      <td>567.7</td>\n",
       "      <td>0.20980</td>\n",
       "      <td>0.8663</td>\n",
       "      <td>0.6869</td>\n",
       "      <td>0.25750</td>\n",
       "      <td>0.6638</td>\n",
       "      <td>0.17300</td>\n",
       "      <td>2.0</td>\n",
       "      <td>0</td>\n",
       "    </tr>\n",
       "    <tr>\n",
       "      <th>4</th>\n",
       "      <td>843584</td>\n",
       "      <td>R</td>\n",
       "      <td>27</td>\n",
       "      <td>20.29</td>\n",
       "      <td>14.34</td>\n",
       "      <td>135.10</td>\n",
       "      <td>1297.0</td>\n",
       "      <td>0.10030</td>\n",
       "      <td>0.13280</td>\n",
       "      <td>0.19800</td>\n",
       "      <td>...</td>\n",
       "      <td>152.20</td>\n",
       "      <td>1575.0</td>\n",
       "      <td>0.13740</td>\n",
       "      <td>0.2050</td>\n",
       "      <td>0.4000</td>\n",
       "      <td>0.16250</td>\n",
       "      <td>0.2364</td>\n",
       "      <td>0.07678</td>\n",
       "      <td>3.5</td>\n",
       "      <td>0</td>\n",
       "    </tr>\n",
       "    <tr>\n",
       "      <th>...</th>\n",
       "      <td>...</td>\n",
       "      <td>...</td>\n",
       "      <td>...</td>\n",
       "      <td>...</td>\n",
       "      <td>...</td>\n",
       "      <td>...</td>\n",
       "      <td>...</td>\n",
       "      <td>...</td>\n",
       "      <td>...</td>\n",
       "      <td>...</td>\n",
       "      <td>...</td>\n",
       "      <td>...</td>\n",
       "      <td>...</td>\n",
       "      <td>...</td>\n",
       "      <td>...</td>\n",
       "      <td>...</td>\n",
       "      <td>...</td>\n",
       "      <td>...</td>\n",
       "      <td>...</td>\n",
       "      <td>...</td>\n",
       "      <td>...</td>\n",
       "    </tr>\n",
       "    <tr>\n",
       "      <th>193</th>\n",
       "      <td>942640</td>\n",
       "      <td>N</td>\n",
       "      <td>10</td>\n",
       "      <td>22.52</td>\n",
       "      <td>21.92</td>\n",
       "      <td>146.90</td>\n",
       "      <td>1597.0</td>\n",
       "      <td>0.07592</td>\n",
       "      <td>0.09162</td>\n",
       "      <td>0.06862</td>\n",
       "      <td>...</td>\n",
       "      <td>162.10</td>\n",
       "      <td>1902.0</td>\n",
       "      <td>0.08191</td>\n",
       "      <td>0.1319</td>\n",
       "      <td>0.1056</td>\n",
       "      <td>0.09378</td>\n",
       "      <td>0.2061</td>\n",
       "      <td>0.05788</td>\n",
       "      <td>6.0</td>\n",
       "      <td>2</td>\n",
       "    </tr>\n",
       "    <tr>\n",
       "      <th>194</th>\n",
       "      <td>943471</td>\n",
       "      <td>N</td>\n",
       "      <td>8</td>\n",
       "      <td>15.44</td>\n",
       "      <td>31.18</td>\n",
       "      <td>101.00</td>\n",
       "      <td>740.4</td>\n",
       "      <td>0.09399</td>\n",
       "      <td>0.10620</td>\n",
       "      <td>0.13750</td>\n",
       "      <td>...</td>\n",
       "      <td>112.60</td>\n",
       "      <td>929.0</td>\n",
       "      <td>0.12720</td>\n",
       "      <td>0.2362</td>\n",
       "      <td>0.2975</td>\n",
       "      <td>0.12860</td>\n",
       "      <td>0.2914</td>\n",
       "      <td>0.08024</td>\n",
       "      <td>1.5</td>\n",
       "      <td>0</td>\n",
       "    </tr>\n",
       "    <tr>\n",
       "      <th>195</th>\n",
       "      <td>94547</td>\n",
       "      <td>N</td>\n",
       "      <td>12</td>\n",
       "      <td>17.17</td>\n",
       "      <td>29.19</td>\n",
       "      <td>110.00</td>\n",
       "      <td>915.3</td>\n",
       "      <td>0.08952</td>\n",
       "      <td>0.06655</td>\n",
       "      <td>0.06583</td>\n",
       "      <td>...</td>\n",
       "      <td>132.50</td>\n",
       "      <td>1295.0</td>\n",
       "      <td>0.12610</td>\n",
       "      <td>0.1572</td>\n",
       "      <td>0.2141</td>\n",
       "      <td>0.09520</td>\n",
       "      <td>0.3362</td>\n",
       "      <td>0.06033</td>\n",
       "      <td>3.7</td>\n",
       "      <td>0</td>\n",
       "    </tr>\n",
       "    <tr>\n",
       "      <th>196</th>\n",
       "      <td>947204</td>\n",
       "      <td>R</td>\n",
       "      <td>3</td>\n",
       "      <td>21.42</td>\n",
       "      <td>22.84</td>\n",
       "      <td>145.00</td>\n",
       "      <td>1440.0</td>\n",
       "      <td>0.10700</td>\n",
       "      <td>0.19390</td>\n",
       "      <td>0.23800</td>\n",
       "      <td>...</td>\n",
       "      <td>198.30</td>\n",
       "      <td>2375.0</td>\n",
       "      <td>0.14980</td>\n",
       "      <td>0.4379</td>\n",
       "      <td>0.5411</td>\n",
       "      <td>0.22150</td>\n",
       "      <td>0.2832</td>\n",
       "      <td>0.08981</td>\n",
       "      <td>3.0</td>\n",
       "      <td>?</td>\n",
       "    </tr>\n",
       "    <tr>\n",
       "      <th>197</th>\n",
       "      <td>947489</td>\n",
       "      <td>N</td>\n",
       "      <td>6</td>\n",
       "      <td>16.70</td>\n",
       "      <td>28.13</td>\n",
       "      <td>110.30</td>\n",
       "      <td>885.4</td>\n",
       "      <td>0.08896</td>\n",
       "      <td>0.11310</td>\n",
       "      <td>0.10120</td>\n",
       "      <td>...</td>\n",
       "      <td>128.80</td>\n",
       "      <td>1213.0</td>\n",
       "      <td>0.13300</td>\n",
       "      <td>0.2808</td>\n",
       "      <td>0.3455</td>\n",
       "      <td>0.13170</td>\n",
       "      <td>0.3035</td>\n",
       "      <td>0.08036</td>\n",
       "      <td>3.5</td>\n",
       "      <td>0</td>\n",
       "    </tr>\n",
       "  </tbody>\n",
       "</table>\n",
       "<p>198 rows × 35 columns</p>\n",
       "</div>"
      ],
      "text/plain": [
       "         id Recurrence  Time  radius_mean  texture_mean  perimeter_mean  \\\n",
       "0    119513          N    31        18.02         27.60          117.50   \n",
       "1      8423          N    61        17.99         10.38          122.80   \n",
       "2    842517          N   116        21.37         17.44          137.50   \n",
       "3    843483          N   123        11.42         20.38           77.58   \n",
       "4    843584          R    27        20.29         14.34          135.10   \n",
       "..      ...        ...   ...          ...           ...             ...   \n",
       "193  942640          N    10        22.52         21.92          146.90   \n",
       "194  943471          N     8        15.44         31.18          101.00   \n",
       "195   94547          N    12        17.17         29.19          110.00   \n",
       "196  947204          R     3        21.42         22.84          145.00   \n",
       "197  947489          N     6        16.70         28.13          110.30   \n",
       "\n",
       "     area_mean  smoothness_mean  compactness_mean  concavity_mean  ...  \\\n",
       "0       1013.0          0.09489           0.10360         0.10860  ...   \n",
       "1       1001.0          0.11840           0.27760         0.30010  ...   \n",
       "2       1373.0          0.08836           0.11890         0.12550  ...   \n",
       "3        386.1          0.14250           0.28390         0.24140  ...   \n",
       "4       1297.0          0.10030           0.13280         0.19800  ...   \n",
       "..         ...              ...               ...             ...  ...   \n",
       "193     1597.0          0.07592           0.09162         0.06862  ...   \n",
       "194      740.4          0.09399           0.10620         0.13750  ...   \n",
       "195      915.3          0.08952           0.06655         0.06583  ...   \n",
       "196     1440.0          0.10700           0.19390         0.23800  ...   \n",
       "197      885.4          0.08896           0.11310         0.10120  ...   \n",
       "\n",
       "     perimeter_worst  area_worst  smoothness_worst  compactness_worst  \\\n",
       "0             139.70      1436.0           0.11950             0.1926   \n",
       "1             184.60      2019.0           0.16220             0.6656   \n",
       "2             159.10      1949.0           0.11880             0.3449   \n",
       "3              98.87       567.7           0.20980             0.8663   \n",
       "4             152.20      1575.0           0.13740             0.2050   \n",
       "..               ...         ...               ...                ...   \n",
       "193           162.10      1902.0           0.08191             0.1319   \n",
       "194           112.60       929.0           0.12720             0.2362   \n",
       "195           132.50      1295.0           0.12610             0.1572   \n",
       "196           198.30      2375.0           0.14980             0.4379   \n",
       "197           128.80      1213.0           0.13300             0.2808   \n",
       "\n",
       "     concavity_worst  concave points_worst  symmetry_worst  \\\n",
       "0             0.3140               0.11700          0.2677   \n",
       "1             0.7119               0.26540          0.4601   \n",
       "2             0.3414               0.20320          0.4334   \n",
       "3             0.6869               0.25750          0.6638   \n",
       "4             0.4000               0.16250          0.2364   \n",
       "..               ...                   ...             ...   \n",
       "193           0.1056               0.09378          0.2061   \n",
       "194           0.2975               0.12860          0.2914   \n",
       "195           0.2141               0.09520          0.3362   \n",
       "196           0.5411               0.22150          0.2832   \n",
       "197           0.3455               0.13170          0.3035   \n",
       "\n",
       "     fractal_dimension_worst  Tumor Size  Lymph node status  \n",
       "0                    0.08113         5.0                5.1  \n",
       "1                    0.11890         3.0                  2  \n",
       "2                    0.09067         2.5                  0  \n",
       "3                    0.17300         2.0                  0  \n",
       "4                    0.07678         3.5                  0  \n",
       "..                       ...         ...                ...  \n",
       "193                  0.05788         6.0                  2  \n",
       "194                  0.08024         1.5                  0  \n",
       "195                  0.06033         3.7                  0  \n",
       "196                  0.08981         3.0                  ?  \n",
       "197                  0.08036         3.5                  0  \n",
       "\n",
       "[198 rows x 35 columns]"
      ]
     },
     "execution_count": 4,
     "metadata": {},
     "output_type": "execute_result"
    }
   ],
   "source": [
    "df"
   ]
  },
  {
   "cell_type": "code",
   "execution_count": 5,
   "id": "f58347bd",
   "metadata": {
    "execution": {
     "iopub.execute_input": "2023-01-16T04:53:11.822904Z",
     "iopub.status.busy": "2023-01-16T04:53:11.822412Z",
     "iopub.status.idle": "2023-01-16T04:53:11.835880Z",
     "shell.execute_reply": "2023-01-16T04:53:11.835031Z"
    },
    "papermill": {
     "duration": 0.034435,
     "end_time": "2023-01-16T04:53:11.838036",
     "exception": false,
     "start_time": "2023-01-16T04:53:11.803601",
     "status": "completed"
    },
    "tags": []
   },
   "outputs": [
    {
     "data": {
      "text/plain": [
       "array(['5.1', '2', '0', '?', '10', '1', '20', '6', '13', '4', '17', '15',\n",
       "       '11', '9', '8', '7', '3', '14', '27', '5', '24', '18', '16', '21'],\n",
       "      dtype=object)"
      ]
     },
     "execution_count": 5,
     "metadata": {},
     "output_type": "execute_result"
    }
   ],
   "source": [
    "df['Lymph node status'].unique()"
   ]
  },
  {
   "cell_type": "code",
   "execution_count": 6,
   "id": "bdb6502d",
   "metadata": {
    "execution": {
     "iopub.execute_input": "2023-01-16T04:53:11.876147Z",
     "iopub.status.busy": "2023-01-16T04:53:11.874576Z",
     "iopub.status.idle": "2023-01-16T04:53:11.882444Z",
     "shell.execute_reply": "2023-01-16T04:53:11.881037Z"
    },
    "papermill": {
     "duration": 0.031419,
     "end_time": "2023-01-16T04:53:11.887060",
     "exception": false,
     "start_time": "2023-01-16T04:53:11.855641",
     "status": "completed"
    },
    "tags": []
   },
   "outputs": [],
   "source": [
    "df['Lymph node status']=df['Lymph node status'].apply(lambda x: np.nan if x == '?' else x) "
   ]
  },
  {
   "cell_type": "code",
   "execution_count": 7,
   "id": "9f6015c4",
   "metadata": {
    "execution": {
     "iopub.execute_input": "2023-01-16T04:53:11.936680Z",
     "iopub.status.busy": "2023-01-16T04:53:11.935597Z",
     "iopub.status.idle": "2023-01-16T04:53:11.945831Z",
     "shell.execute_reply": "2023-01-16T04:53:11.943263Z"
    },
    "papermill": {
     "duration": 0.038113,
     "end_time": "2023-01-16T04:53:11.948877",
     "exception": false,
     "start_time": "2023-01-16T04:53:11.910764",
     "status": "completed"
    },
    "tags": []
   },
   "outputs": [],
   "source": [
    "df['Lymph node status']=df['Lymph node status'].astype(float)"
   ]
  },
  {
   "cell_type": "code",
   "execution_count": 8,
   "id": "53a48eb5",
   "metadata": {
    "execution": {
     "iopub.execute_input": "2023-01-16T04:53:11.996212Z",
     "iopub.status.busy": "2023-01-16T04:53:11.995537Z",
     "iopub.status.idle": "2023-01-16T04:53:12.017466Z",
     "shell.execute_reply": "2023-01-16T04:53:12.016511Z"
    },
    "papermill": {
     "duration": 0.048868,
     "end_time": "2023-01-16T04:53:12.020609",
     "exception": false,
     "start_time": "2023-01-16T04:53:11.971741",
     "status": "completed"
    },
    "tags": []
   },
   "outputs": [
    {
     "name": "stdout",
     "output_type": "stream",
     "text": [
      "<class 'pandas.core.frame.DataFrame'>\n",
      "RangeIndex: 198 entries, 0 to 197\n",
      "Data columns (total 35 columns):\n",
      " #   Column                   Non-Null Count  Dtype  \n",
      "---  ------                   --------------  -----  \n",
      " 0   id                       198 non-null    int64  \n",
      " 1   Recurrence               198 non-null    object \n",
      " 2   Time                     198 non-null    int64  \n",
      " 3   radius_mean              198 non-null    float64\n",
      " 4   texture_mean             198 non-null    float64\n",
      " 5   perimeter_mean           198 non-null    float64\n",
      " 6   area_mean                198 non-null    float64\n",
      " 7   smoothness_mean          198 non-null    float64\n",
      " 8   compactness_mean         198 non-null    float64\n",
      " 9   concavity_mean           198 non-null    float64\n",
      " 10  concave points_mean      198 non-null    float64\n",
      " 11  symmetry_mean            198 non-null    float64\n",
      " 12  fractal_dimension_mean   198 non-null    float64\n",
      " 13  radius_se                198 non-null    float64\n",
      " 14  texture_se               198 non-null    float64\n",
      " 15  perimeter_se             198 non-null    float64\n",
      " 16  area_se                  198 non-null    float64\n",
      " 17  smoothness_se            198 non-null    float64\n",
      " 18  compactness_se           198 non-null    float64\n",
      " 19  concavity_se             198 non-null    float64\n",
      " 20  concave points_se        198 non-null    float64\n",
      " 21  symmetry_se              198 non-null    float64\n",
      " 22  fractal_dimension_se     198 non-null    float64\n",
      " 23  radius_worst             198 non-null    float64\n",
      " 24  texture_worst            198 non-null    float64\n",
      " 25  perimeter_worst          198 non-null    float64\n",
      " 26  area_worst               198 non-null    float64\n",
      " 27  smoothness_worst         198 non-null    float64\n",
      " 28  compactness_worst        198 non-null    float64\n",
      " 29  concavity_worst          198 non-null    float64\n",
      " 30  concave points_worst     198 non-null    float64\n",
      " 31  symmetry_worst           198 non-null    float64\n",
      " 32  fractal_dimension_worst  198 non-null    float64\n",
      " 33  Tumor Size               198 non-null    float64\n",
      " 34  Lymph node status        194 non-null    float64\n",
      "dtypes: float64(32), int64(2), object(1)\n",
      "memory usage: 54.3+ KB\n"
     ]
    }
   ],
   "source": [
    "df.info()"
   ]
  },
  {
   "cell_type": "code",
   "execution_count": 9,
   "id": "3613b5a3",
   "metadata": {
    "execution": {
     "iopub.execute_input": "2023-01-16T04:53:12.058625Z",
     "iopub.status.busy": "2023-01-16T04:53:12.058152Z",
     "iopub.status.idle": "2023-01-16T04:53:12.064478Z",
     "shell.execute_reply": "2023-01-16T04:53:12.063128Z"
    },
    "papermill": {
     "duration": 0.028239,
     "end_time": "2023-01-16T04:53:12.067112",
     "exception": false,
     "start_time": "2023-01-16T04:53:12.038873",
     "status": "completed"
    },
    "tags": []
   },
   "outputs": [],
   "source": [
    "df['Lymph node status']=df['Lymph node status'].fillna(df['Lymph node status'].mean())"
   ]
  },
  {
   "cell_type": "code",
   "execution_count": 10,
   "id": "8d7d10e6",
   "metadata": {
    "execution": {
     "iopub.execute_input": "2023-01-16T04:53:12.104133Z",
     "iopub.status.busy": "2023-01-16T04:53:12.103658Z",
     "iopub.status.idle": "2023-01-16T04:53:12.285736Z",
     "shell.execute_reply": "2023-01-16T04:53:12.284467Z"
    },
    "papermill": {
     "duration": 0.203721,
     "end_time": "2023-01-16T04:53:12.288375",
     "exception": false,
     "start_time": "2023-01-16T04:53:12.084654",
     "status": "completed"
    },
    "tags": []
   },
   "outputs": [
    {
     "data": {
      "text/html": [
       "<div>\n",
       "<style scoped>\n",
       "    .dataframe tbody tr th:only-of-type {\n",
       "        vertical-align: middle;\n",
       "    }\n",
       "\n",
       "    .dataframe tbody tr th {\n",
       "        vertical-align: top;\n",
       "    }\n",
       "\n",
       "    .dataframe thead th {\n",
       "        text-align: right;\n",
       "    }\n",
       "</style>\n",
       "<table border=\"1\" class=\"dataframe\">\n",
       "  <thead>\n",
       "    <tr style=\"text-align: right;\">\n",
       "      <th></th>\n",
       "      <th>id</th>\n",
       "      <th>Recurrence</th>\n",
       "      <th>Time</th>\n",
       "      <th>radius_mean</th>\n",
       "      <th>texture_mean</th>\n",
       "      <th>perimeter_mean</th>\n",
       "      <th>area_mean</th>\n",
       "      <th>smoothness_mean</th>\n",
       "      <th>compactness_mean</th>\n",
       "      <th>concavity_mean</th>\n",
       "      <th>...</th>\n",
       "      <th>perimeter_worst</th>\n",
       "      <th>area_worst</th>\n",
       "      <th>smoothness_worst</th>\n",
       "      <th>compactness_worst</th>\n",
       "      <th>concavity_worst</th>\n",
       "      <th>concave points_worst</th>\n",
       "      <th>symmetry_worst</th>\n",
       "      <th>fractal_dimension_worst</th>\n",
       "      <th>Tumor Size</th>\n",
       "      <th>Lymph node status</th>\n",
       "    </tr>\n",
       "  </thead>\n",
       "  <tbody>\n",
       "    <tr>\n",
       "      <th>0</th>\n",
       "      <td>119513</td>\n",
       "      <td>0</td>\n",
       "      <td>31</td>\n",
       "      <td>18.02</td>\n",
       "      <td>27.60</td>\n",
       "      <td>117.50</td>\n",
       "      <td>1013.0</td>\n",
       "      <td>0.09489</td>\n",
       "      <td>0.1036</td>\n",
       "      <td>0.1086</td>\n",
       "      <td>...</td>\n",
       "      <td>139.70</td>\n",
       "      <td>1436.0</td>\n",
       "      <td>0.1195</td>\n",
       "      <td>0.1926</td>\n",
       "      <td>0.3140</td>\n",
       "      <td>0.1170</td>\n",
       "      <td>0.2677</td>\n",
       "      <td>0.08113</td>\n",
       "      <td>5.0</td>\n",
       "      <td>5.1</td>\n",
       "    </tr>\n",
       "    <tr>\n",
       "      <th>1</th>\n",
       "      <td>8423</td>\n",
       "      <td>0</td>\n",
       "      <td>61</td>\n",
       "      <td>17.99</td>\n",
       "      <td>10.38</td>\n",
       "      <td>122.80</td>\n",
       "      <td>1001.0</td>\n",
       "      <td>0.11840</td>\n",
       "      <td>0.2776</td>\n",
       "      <td>0.3001</td>\n",
       "      <td>...</td>\n",
       "      <td>184.60</td>\n",
       "      <td>2019.0</td>\n",
       "      <td>0.1622</td>\n",
       "      <td>0.6656</td>\n",
       "      <td>0.7119</td>\n",
       "      <td>0.2654</td>\n",
       "      <td>0.4601</td>\n",
       "      <td>0.11890</td>\n",
       "      <td>3.0</td>\n",
       "      <td>2.0</td>\n",
       "    </tr>\n",
       "    <tr>\n",
       "      <th>2</th>\n",
       "      <td>842517</td>\n",
       "      <td>0</td>\n",
       "      <td>116</td>\n",
       "      <td>21.37</td>\n",
       "      <td>17.44</td>\n",
       "      <td>137.50</td>\n",
       "      <td>1373.0</td>\n",
       "      <td>0.08836</td>\n",
       "      <td>0.1189</td>\n",
       "      <td>0.1255</td>\n",
       "      <td>...</td>\n",
       "      <td>159.10</td>\n",
       "      <td>1949.0</td>\n",
       "      <td>0.1188</td>\n",
       "      <td>0.3449</td>\n",
       "      <td>0.3414</td>\n",
       "      <td>0.2032</td>\n",
       "      <td>0.4334</td>\n",
       "      <td>0.09067</td>\n",
       "      <td>2.5</td>\n",
       "      <td>0.0</td>\n",
       "    </tr>\n",
       "    <tr>\n",
       "      <th>3</th>\n",
       "      <td>843483</td>\n",
       "      <td>0</td>\n",
       "      <td>123</td>\n",
       "      <td>11.42</td>\n",
       "      <td>20.38</td>\n",
       "      <td>77.58</td>\n",
       "      <td>386.1</td>\n",
       "      <td>0.14250</td>\n",
       "      <td>0.2839</td>\n",
       "      <td>0.2414</td>\n",
       "      <td>...</td>\n",
       "      <td>98.87</td>\n",
       "      <td>567.7</td>\n",
       "      <td>0.2098</td>\n",
       "      <td>0.8663</td>\n",
       "      <td>0.6869</td>\n",
       "      <td>0.2575</td>\n",
       "      <td>0.6638</td>\n",
       "      <td>0.17300</td>\n",
       "      <td>2.0</td>\n",
       "      <td>0.0</td>\n",
       "    </tr>\n",
       "    <tr>\n",
       "      <th>4</th>\n",
       "      <td>843584</td>\n",
       "      <td>1</td>\n",
       "      <td>27</td>\n",
       "      <td>20.29</td>\n",
       "      <td>14.34</td>\n",
       "      <td>135.10</td>\n",
       "      <td>1297.0</td>\n",
       "      <td>0.10030</td>\n",
       "      <td>0.1328</td>\n",
       "      <td>0.1980</td>\n",
       "      <td>...</td>\n",
       "      <td>152.20</td>\n",
       "      <td>1575.0</td>\n",
       "      <td>0.1374</td>\n",
       "      <td>0.2050</td>\n",
       "      <td>0.4000</td>\n",
       "      <td>0.1625</td>\n",
       "      <td>0.2364</td>\n",
       "      <td>0.07678</td>\n",
       "      <td>3.5</td>\n",
       "      <td>0.0</td>\n",
       "    </tr>\n",
       "  </tbody>\n",
       "</table>\n",
       "<p>5 rows × 35 columns</p>\n",
       "</div>"
      ],
      "text/plain": [
       "       id  Recurrence  Time  radius_mean  texture_mean  perimeter_mean  \\\n",
       "0  119513           0    31        18.02         27.60          117.50   \n",
       "1    8423           0    61        17.99         10.38          122.80   \n",
       "2  842517           0   116        21.37         17.44          137.50   \n",
       "3  843483           0   123        11.42         20.38           77.58   \n",
       "4  843584           1    27        20.29         14.34          135.10   \n",
       "\n",
       "   area_mean  smoothness_mean  compactness_mean  concavity_mean  ...  \\\n",
       "0     1013.0          0.09489            0.1036          0.1086  ...   \n",
       "1     1001.0          0.11840            0.2776          0.3001  ...   \n",
       "2     1373.0          0.08836            0.1189          0.1255  ...   \n",
       "3      386.1          0.14250            0.2839          0.2414  ...   \n",
       "4     1297.0          0.10030            0.1328          0.1980  ...   \n",
       "\n",
       "   perimeter_worst  area_worst  smoothness_worst  compactness_worst  \\\n",
       "0           139.70      1436.0            0.1195             0.1926   \n",
       "1           184.60      2019.0            0.1622             0.6656   \n",
       "2           159.10      1949.0            0.1188             0.3449   \n",
       "3            98.87       567.7            0.2098             0.8663   \n",
       "4           152.20      1575.0            0.1374             0.2050   \n",
       "\n",
       "   concavity_worst  concave points_worst  symmetry_worst  \\\n",
       "0           0.3140                0.1170          0.2677   \n",
       "1           0.7119                0.2654          0.4601   \n",
       "2           0.3414                0.2032          0.4334   \n",
       "3           0.6869                0.2575          0.6638   \n",
       "4           0.4000                0.1625          0.2364   \n",
       "\n",
       "   fractal_dimension_worst  Tumor Size  Lymph node status  \n",
       "0                  0.08113         5.0                5.1  \n",
       "1                  0.11890         3.0                2.0  \n",
       "2                  0.09067         2.5                0.0  \n",
       "3                  0.17300         2.0                0.0  \n",
       "4                  0.07678         3.5                0.0  \n",
       "\n",
       "[5 rows x 35 columns]"
      ]
     },
     "execution_count": 10,
     "metadata": {},
     "output_type": "execute_result"
    }
   ],
   "source": [
    "from sklearn import preprocessing\n",
    "# label_encoder object knows how to understand word labels.\n",
    "label_encoder = preprocessing.LabelEncoder()\n",
    "\n",
    "# Encode labels in column 'species'.\n",
    "df['Recurrence']= label_encoder.fit_transform(df['Recurrence'])\n",
    "\n",
    "df['Recurrence'].unique()\n",
    "df['Recurrence']=df['Recurrence'].astype(int)\n",
    "df.head()"
   ]
  },
  {
   "cell_type": "code",
   "execution_count": 11,
   "id": "084f3dd2",
   "metadata": {
    "execution": {
     "iopub.execute_input": "2023-01-16T04:53:12.326622Z",
     "iopub.status.busy": "2023-01-16T04:53:12.325308Z",
     "iopub.status.idle": "2023-01-16T04:53:12.331918Z",
     "shell.execute_reply": "2023-01-16T04:53:12.331013Z"
    },
    "papermill": {
     "duration": 0.028577,
     "end_time": "2023-01-16T04:53:12.334408",
     "exception": false,
     "start_time": "2023-01-16T04:53:12.305831",
     "status": "completed"
    },
    "tags": []
   },
   "outputs": [],
   "source": [
    "X=df.iloc[:,2:34]"
   ]
  },
  {
   "cell_type": "code",
   "execution_count": 12,
   "id": "de56994a",
   "metadata": {
    "execution": {
     "iopub.execute_input": "2023-01-16T04:53:12.372498Z",
     "iopub.status.busy": "2023-01-16T04:53:12.371150Z",
     "iopub.status.idle": "2023-01-16T04:53:12.409286Z",
     "shell.execute_reply": "2023-01-16T04:53:12.408045Z"
    },
    "papermill": {
     "duration": 0.060458,
     "end_time": "2023-01-16T04:53:12.412532",
     "exception": false,
     "start_time": "2023-01-16T04:53:12.352074",
     "status": "completed"
    },
    "tags": []
   },
   "outputs": [
    {
     "data": {
      "text/html": [
       "<div>\n",
       "<style scoped>\n",
       "    .dataframe tbody tr th:only-of-type {\n",
       "        vertical-align: middle;\n",
       "    }\n",
       "\n",
       "    .dataframe tbody tr th {\n",
       "        vertical-align: top;\n",
       "    }\n",
       "\n",
       "    .dataframe thead th {\n",
       "        text-align: right;\n",
       "    }\n",
       "</style>\n",
       "<table border=\"1\" class=\"dataframe\">\n",
       "  <thead>\n",
       "    <tr style=\"text-align: right;\">\n",
       "      <th></th>\n",
       "      <th>Time</th>\n",
       "      <th>radius_mean</th>\n",
       "      <th>texture_mean</th>\n",
       "      <th>perimeter_mean</th>\n",
       "      <th>area_mean</th>\n",
       "      <th>smoothness_mean</th>\n",
       "      <th>compactness_mean</th>\n",
       "      <th>concavity_mean</th>\n",
       "      <th>concave points_mean</th>\n",
       "      <th>symmetry_mean</th>\n",
       "      <th>...</th>\n",
       "      <th>texture_worst</th>\n",
       "      <th>perimeter_worst</th>\n",
       "      <th>area_worst</th>\n",
       "      <th>smoothness_worst</th>\n",
       "      <th>compactness_worst</th>\n",
       "      <th>concavity_worst</th>\n",
       "      <th>concave points_worst</th>\n",
       "      <th>symmetry_worst</th>\n",
       "      <th>fractal_dimension_worst</th>\n",
       "      <th>Tumor Size</th>\n",
       "    </tr>\n",
       "  </thead>\n",
       "  <tbody>\n",
       "    <tr>\n",
       "      <th>0</th>\n",
       "      <td>31</td>\n",
       "      <td>18.02</td>\n",
       "      <td>27.60</td>\n",
       "      <td>117.50</td>\n",
       "      <td>1013.0</td>\n",
       "      <td>0.09489</td>\n",
       "      <td>0.10360</td>\n",
       "      <td>0.10860</td>\n",
       "      <td>0.07055</td>\n",
       "      <td>0.1865</td>\n",
       "      <td>...</td>\n",
       "      <td>37.08</td>\n",
       "      <td>139.70</td>\n",
       "      <td>1436.0</td>\n",
       "      <td>0.11950</td>\n",
       "      <td>0.1926</td>\n",
       "      <td>0.3140</td>\n",
       "      <td>0.11700</td>\n",
       "      <td>0.2677</td>\n",
       "      <td>0.08113</td>\n",
       "      <td>5.0</td>\n",
       "    </tr>\n",
       "    <tr>\n",
       "      <th>1</th>\n",
       "      <td>61</td>\n",
       "      <td>17.99</td>\n",
       "      <td>10.38</td>\n",
       "      <td>122.80</td>\n",
       "      <td>1001.0</td>\n",
       "      <td>0.11840</td>\n",
       "      <td>0.27760</td>\n",
       "      <td>0.30010</td>\n",
       "      <td>0.14710</td>\n",
       "      <td>0.2419</td>\n",
       "      <td>...</td>\n",
       "      <td>17.33</td>\n",
       "      <td>184.60</td>\n",
       "      <td>2019.0</td>\n",
       "      <td>0.16220</td>\n",
       "      <td>0.6656</td>\n",
       "      <td>0.7119</td>\n",
       "      <td>0.26540</td>\n",
       "      <td>0.4601</td>\n",
       "      <td>0.11890</td>\n",
       "      <td>3.0</td>\n",
       "    </tr>\n",
       "    <tr>\n",
       "      <th>2</th>\n",
       "      <td>116</td>\n",
       "      <td>21.37</td>\n",
       "      <td>17.44</td>\n",
       "      <td>137.50</td>\n",
       "      <td>1373.0</td>\n",
       "      <td>0.08836</td>\n",
       "      <td>0.11890</td>\n",
       "      <td>0.12550</td>\n",
       "      <td>0.08180</td>\n",
       "      <td>0.2333</td>\n",
       "      <td>...</td>\n",
       "      <td>20.98</td>\n",
       "      <td>159.10</td>\n",
       "      <td>1949.0</td>\n",
       "      <td>0.11880</td>\n",
       "      <td>0.3449</td>\n",
       "      <td>0.3414</td>\n",
       "      <td>0.20320</td>\n",
       "      <td>0.4334</td>\n",
       "      <td>0.09067</td>\n",
       "      <td>2.5</td>\n",
       "    </tr>\n",
       "    <tr>\n",
       "      <th>3</th>\n",
       "      <td>123</td>\n",
       "      <td>11.42</td>\n",
       "      <td>20.38</td>\n",
       "      <td>77.58</td>\n",
       "      <td>386.1</td>\n",
       "      <td>0.14250</td>\n",
       "      <td>0.28390</td>\n",
       "      <td>0.24140</td>\n",
       "      <td>0.10520</td>\n",
       "      <td>0.2597</td>\n",
       "      <td>...</td>\n",
       "      <td>26.50</td>\n",
       "      <td>98.87</td>\n",
       "      <td>567.7</td>\n",
       "      <td>0.20980</td>\n",
       "      <td>0.8663</td>\n",
       "      <td>0.6869</td>\n",
       "      <td>0.25750</td>\n",
       "      <td>0.6638</td>\n",
       "      <td>0.17300</td>\n",
       "      <td>2.0</td>\n",
       "    </tr>\n",
       "    <tr>\n",
       "      <th>4</th>\n",
       "      <td>27</td>\n",
       "      <td>20.29</td>\n",
       "      <td>14.34</td>\n",
       "      <td>135.10</td>\n",
       "      <td>1297.0</td>\n",
       "      <td>0.10030</td>\n",
       "      <td>0.13280</td>\n",
       "      <td>0.19800</td>\n",
       "      <td>0.10430</td>\n",
       "      <td>0.1809</td>\n",
       "      <td>...</td>\n",
       "      <td>16.67</td>\n",
       "      <td>152.20</td>\n",
       "      <td>1575.0</td>\n",
       "      <td>0.13740</td>\n",
       "      <td>0.2050</td>\n",
       "      <td>0.4000</td>\n",
       "      <td>0.16250</td>\n",
       "      <td>0.2364</td>\n",
       "      <td>0.07678</td>\n",
       "      <td>3.5</td>\n",
       "    </tr>\n",
       "    <tr>\n",
       "      <th>...</th>\n",
       "      <td>...</td>\n",
       "      <td>...</td>\n",
       "      <td>...</td>\n",
       "      <td>...</td>\n",
       "      <td>...</td>\n",
       "      <td>...</td>\n",
       "      <td>...</td>\n",
       "      <td>...</td>\n",
       "      <td>...</td>\n",
       "      <td>...</td>\n",
       "      <td>...</td>\n",
       "      <td>...</td>\n",
       "      <td>...</td>\n",
       "      <td>...</td>\n",
       "      <td>...</td>\n",
       "      <td>...</td>\n",
       "      <td>...</td>\n",
       "      <td>...</td>\n",
       "      <td>...</td>\n",
       "      <td>...</td>\n",
       "      <td>...</td>\n",
       "    </tr>\n",
       "    <tr>\n",
       "      <th>193</th>\n",
       "      <td>10</td>\n",
       "      <td>22.52</td>\n",
       "      <td>21.92</td>\n",
       "      <td>146.90</td>\n",
       "      <td>1597.0</td>\n",
       "      <td>0.07592</td>\n",
       "      <td>0.09162</td>\n",
       "      <td>0.06862</td>\n",
       "      <td>0.06367</td>\n",
       "      <td>0.1728</td>\n",
       "      <td>...</td>\n",
       "      <td>24.81</td>\n",
       "      <td>162.10</td>\n",
       "      <td>1902.0</td>\n",
       "      <td>0.08191</td>\n",
       "      <td>0.1319</td>\n",
       "      <td>0.1056</td>\n",
       "      <td>0.09378</td>\n",
       "      <td>0.2061</td>\n",
       "      <td>0.05788</td>\n",
       "      <td>6.0</td>\n",
       "    </tr>\n",
       "    <tr>\n",
       "      <th>194</th>\n",
       "      <td>8</td>\n",
       "      <td>15.44</td>\n",
       "      <td>31.18</td>\n",
       "      <td>101.00</td>\n",
       "      <td>740.4</td>\n",
       "      <td>0.09399</td>\n",
       "      <td>0.10620</td>\n",
       "      <td>0.13750</td>\n",
       "      <td>0.06500</td>\n",
       "      <td>0.1735</td>\n",
       "      <td>...</td>\n",
       "      <td>41.48</td>\n",
       "      <td>112.60</td>\n",
       "      <td>929.0</td>\n",
       "      <td>0.12720</td>\n",
       "      <td>0.2362</td>\n",
       "      <td>0.2975</td>\n",
       "      <td>0.12860</td>\n",
       "      <td>0.2914</td>\n",
       "      <td>0.08024</td>\n",
       "      <td>1.5</td>\n",
       "    </tr>\n",
       "    <tr>\n",
       "      <th>195</th>\n",
       "      <td>12</td>\n",
       "      <td>17.17</td>\n",
       "      <td>29.19</td>\n",
       "      <td>110.00</td>\n",
       "      <td>915.3</td>\n",
       "      <td>0.08952</td>\n",
       "      <td>0.06655</td>\n",
       "      <td>0.06583</td>\n",
       "      <td>0.05068</td>\n",
       "      <td>0.1793</td>\n",
       "      <td>...</td>\n",
       "      <td>36.66</td>\n",
       "      <td>132.50</td>\n",
       "      <td>1295.0</td>\n",
       "      <td>0.12610</td>\n",
       "      <td>0.1572</td>\n",
       "      <td>0.2141</td>\n",
       "      <td>0.09520</td>\n",
       "      <td>0.3362</td>\n",
       "      <td>0.06033</td>\n",
       "      <td>3.7</td>\n",
       "    </tr>\n",
       "    <tr>\n",
       "      <th>196</th>\n",
       "      <td>3</td>\n",
       "      <td>21.42</td>\n",
       "      <td>22.84</td>\n",
       "      <td>145.00</td>\n",
       "      <td>1440.0</td>\n",
       "      <td>0.10700</td>\n",
       "      <td>0.19390</td>\n",
       "      <td>0.23800</td>\n",
       "      <td>0.13180</td>\n",
       "      <td>0.1884</td>\n",
       "      <td>...</td>\n",
       "      <td>27.98</td>\n",
       "      <td>198.30</td>\n",
       "      <td>2375.0</td>\n",
       "      <td>0.14980</td>\n",
       "      <td>0.4379</td>\n",
       "      <td>0.5411</td>\n",
       "      <td>0.22150</td>\n",
       "      <td>0.2832</td>\n",
       "      <td>0.08981</td>\n",
       "      <td>3.0</td>\n",
       "    </tr>\n",
       "    <tr>\n",
       "      <th>197</th>\n",
       "      <td>6</td>\n",
       "      <td>16.70</td>\n",
       "      <td>28.13</td>\n",
       "      <td>110.30</td>\n",
       "      <td>885.4</td>\n",
       "      <td>0.08896</td>\n",
       "      <td>0.11310</td>\n",
       "      <td>0.10120</td>\n",
       "      <td>0.04989</td>\n",
       "      <td>0.1890</td>\n",
       "      <td>...</td>\n",
       "      <td>34.92</td>\n",
       "      <td>128.80</td>\n",
       "      <td>1213.0</td>\n",
       "      <td>0.13300</td>\n",
       "      <td>0.2808</td>\n",
       "      <td>0.3455</td>\n",
       "      <td>0.13170</td>\n",
       "      <td>0.3035</td>\n",
       "      <td>0.08036</td>\n",
       "      <td>3.5</td>\n",
       "    </tr>\n",
       "  </tbody>\n",
       "</table>\n",
       "<p>198 rows × 32 columns</p>\n",
       "</div>"
      ],
      "text/plain": [
       "     Time  radius_mean  texture_mean  perimeter_mean  area_mean  \\\n",
       "0      31        18.02         27.60          117.50     1013.0   \n",
       "1      61        17.99         10.38          122.80     1001.0   \n",
       "2     116        21.37         17.44          137.50     1373.0   \n",
       "3     123        11.42         20.38           77.58      386.1   \n",
       "4      27        20.29         14.34          135.10     1297.0   \n",
       "..    ...          ...           ...             ...        ...   \n",
       "193    10        22.52         21.92          146.90     1597.0   \n",
       "194     8        15.44         31.18          101.00      740.4   \n",
       "195    12        17.17         29.19          110.00      915.3   \n",
       "196     3        21.42         22.84          145.00     1440.0   \n",
       "197     6        16.70         28.13          110.30      885.4   \n",
       "\n",
       "     smoothness_mean  compactness_mean  concavity_mean  concave points_mean  \\\n",
       "0            0.09489           0.10360         0.10860              0.07055   \n",
       "1            0.11840           0.27760         0.30010              0.14710   \n",
       "2            0.08836           0.11890         0.12550              0.08180   \n",
       "3            0.14250           0.28390         0.24140              0.10520   \n",
       "4            0.10030           0.13280         0.19800              0.10430   \n",
       "..               ...               ...             ...                  ...   \n",
       "193          0.07592           0.09162         0.06862              0.06367   \n",
       "194          0.09399           0.10620         0.13750              0.06500   \n",
       "195          0.08952           0.06655         0.06583              0.05068   \n",
       "196          0.10700           0.19390         0.23800              0.13180   \n",
       "197          0.08896           0.11310         0.10120              0.04989   \n",
       "\n",
       "     symmetry_mean  ...  texture_worst  perimeter_worst  area_worst  \\\n",
       "0           0.1865  ...          37.08           139.70      1436.0   \n",
       "1           0.2419  ...          17.33           184.60      2019.0   \n",
       "2           0.2333  ...          20.98           159.10      1949.0   \n",
       "3           0.2597  ...          26.50            98.87       567.7   \n",
       "4           0.1809  ...          16.67           152.20      1575.0   \n",
       "..             ...  ...            ...              ...         ...   \n",
       "193         0.1728  ...          24.81           162.10      1902.0   \n",
       "194         0.1735  ...          41.48           112.60       929.0   \n",
       "195         0.1793  ...          36.66           132.50      1295.0   \n",
       "196         0.1884  ...          27.98           198.30      2375.0   \n",
       "197         0.1890  ...          34.92           128.80      1213.0   \n",
       "\n",
       "     smoothness_worst  compactness_worst  concavity_worst  \\\n",
       "0             0.11950             0.1926           0.3140   \n",
       "1             0.16220             0.6656           0.7119   \n",
       "2             0.11880             0.3449           0.3414   \n",
       "3             0.20980             0.8663           0.6869   \n",
       "4             0.13740             0.2050           0.4000   \n",
       "..                ...                ...              ...   \n",
       "193           0.08191             0.1319           0.1056   \n",
       "194           0.12720             0.2362           0.2975   \n",
       "195           0.12610             0.1572           0.2141   \n",
       "196           0.14980             0.4379           0.5411   \n",
       "197           0.13300             0.2808           0.3455   \n",
       "\n",
       "     concave points_worst  symmetry_worst  fractal_dimension_worst  Tumor Size  \n",
       "0                 0.11700          0.2677                  0.08113         5.0  \n",
       "1                 0.26540          0.4601                  0.11890         3.0  \n",
       "2                 0.20320          0.4334                  0.09067         2.5  \n",
       "3                 0.25750          0.6638                  0.17300         2.0  \n",
       "4                 0.16250          0.2364                  0.07678         3.5  \n",
       "..                    ...             ...                      ...         ...  \n",
       "193               0.09378          0.2061                  0.05788         6.0  \n",
       "194               0.12860          0.2914                  0.08024         1.5  \n",
       "195               0.09520          0.3362                  0.06033         3.7  \n",
       "196               0.22150          0.2832                  0.08981         3.0  \n",
       "197               0.13170          0.3035                  0.08036         3.5  \n",
       "\n",
       "[198 rows x 32 columns]"
      ]
     },
     "execution_count": 12,
     "metadata": {},
     "output_type": "execute_result"
    }
   ],
   "source": [
    "X"
   ]
  },
  {
   "cell_type": "code",
   "execution_count": 13,
   "id": "f6c387c9",
   "metadata": {
    "execution": {
     "iopub.execute_input": "2023-01-16T04:53:12.451323Z",
     "iopub.status.busy": "2023-01-16T04:53:12.450837Z",
     "iopub.status.idle": "2023-01-16T04:53:12.456919Z",
     "shell.execute_reply": "2023-01-16T04:53:12.455415Z"
    },
    "papermill": {
     "duration": 0.0286,
     "end_time": "2023-01-16T04:53:12.459418",
     "exception": false,
     "start_time": "2023-01-16T04:53:12.430818",
     "status": "completed"
    },
    "tags": []
   },
   "outputs": [],
   "source": [
    "y=df['Recurrence']"
   ]
  },
  {
   "cell_type": "code",
   "execution_count": null,
   "id": "68012566",
   "metadata": {
    "papermill": {
     "duration": 0.017516,
     "end_time": "2023-01-16T04:53:12.495958",
     "exception": false,
     "start_time": "2023-01-16T04:53:12.478442",
     "status": "completed"
    },
    "tags": []
   },
   "outputs": [],
   "source": []
  },
  {
   "cell_type": "markdown",
   "id": "022add5c",
   "metadata": {
    "papermill": {
     "duration": 0.018253,
     "end_time": "2023-01-16T04:53:12.533062",
     "exception": false,
     "start_time": "2023-01-16T04:53:12.514809",
     "status": "completed"
    },
    "tags": []
   },
   "source": [
    "## Without any feature selection\n"
   ]
  },
  {
   "cell_type": "markdown",
   "id": "f978ef5c",
   "metadata": {
    "papermill": {
     "duration": 0.017511,
     "end_time": "2023-01-16T04:53:12.568653",
     "exception": false,
     "start_time": "2023-01-16T04:53:12.551142",
     "status": "completed"
    },
    "tags": []
   },
   "source": []
  },
  {
   "cell_type": "code",
   "execution_count": 14,
   "id": "a4689d30",
   "metadata": {
    "execution": {
     "iopub.execute_input": "2023-01-16T04:53:12.607814Z",
     "iopub.status.busy": "2023-01-16T04:53:12.607298Z",
     "iopub.status.idle": "2023-01-16T04:53:12.682194Z",
     "shell.execute_reply": "2023-01-16T04:53:12.680850Z"
    },
    "papermill": {
     "duration": 0.099162,
     "end_time": "2023-01-16T04:53:12.685983",
     "exception": false,
     "start_time": "2023-01-16T04:53:12.586821",
     "status": "completed"
    },
    "tags": []
   },
   "outputs": [],
   "source": [
    "from sklearn.model_selection import train_test_split\n",
    "X_train, X_test, y_train, y_test = train_test_split(X, y, test_size=0.33, random_state=42)"
   ]
  },
  {
   "cell_type": "code",
   "execution_count": 15,
   "id": "8779322d",
   "metadata": {
    "execution": {
     "iopub.execute_input": "2023-01-16T04:53:12.724698Z",
     "iopub.status.busy": "2023-01-16T04:53:12.724257Z",
     "iopub.status.idle": "2023-01-16T04:53:13.137715Z",
     "shell.execute_reply": "2023-01-16T04:53:13.136647Z"
    },
    "papermill": {
     "duration": 0.436489,
     "end_time": "2023-01-16T04:53:13.140744",
     "exception": false,
     "start_time": "2023-01-16T04:53:12.704255",
     "status": "completed"
    },
    "tags": []
   },
   "outputs": [
    {
     "name": "stdout",
     "output_type": "stream",
     "text": [
      "81.81818181818183\n"
     ]
    }
   ],
   "source": [
    "from xgboost import XGBClassifier\n",
    "from sklearn.metrics import accuracy_score\n",
    "model = XGBClassifier(eval_metric='mlogloss')\n",
    "model.fit(X_train, y_train)\n",
    "y_pred1 = model.predict(X_test)\n",
    "accuracy = accuracy_score(y_test, y_pred1)\n",
    "print(accuracy*100)"
   ]
  },
  {
   "cell_type": "code",
   "execution_count": 16,
   "id": "df8df523",
   "metadata": {
    "execution": {
     "iopub.execute_input": "2023-01-16T04:53:13.180637Z",
     "iopub.status.busy": "2023-01-16T04:53:13.180110Z",
     "iopub.status.idle": "2023-01-16T04:53:14.055008Z",
     "shell.execute_reply": "2023-01-16T04:53:14.053759Z"
    },
    "papermill": {
     "duration": 0.897525,
     "end_time": "2023-01-16T04:53:14.057894",
     "exception": false,
     "start_time": "2023-01-16T04:53:13.160369",
     "status": "completed"
    },
    "tags": []
   },
   "outputs": [
    {
     "data": {
      "text/plain": [
       "81.81818181818183"
      ]
     },
     "execution_count": 16,
     "metadata": {},
     "output_type": "execute_result"
    }
   ],
   "source": [
    "from sklearn.linear_model import LogisticRegression\n",
    "logModel=LogisticRegression(solver='lbfgs', max_iter=1000000,dual=False)\n",
    "logModel.fit(X_train, y_train,)\n",
    "predictions = logModel.predict(X_test)\n",
    "from sklearn.metrics import accuracy_score\n",
    "accuracy_score(y_test,predictions)*100"
   ]
  },
  {
   "cell_type": "code",
   "execution_count": 17,
   "id": "46bb7777",
   "metadata": {
    "execution": {
     "iopub.execute_input": "2023-01-16T04:53:14.096539Z",
     "iopub.status.busy": "2023-01-16T04:53:14.095670Z",
     "iopub.status.idle": "2023-01-16T04:53:15.122876Z",
     "shell.execute_reply": "2023-01-16T04:53:15.121127Z"
    },
    "papermill": {
     "duration": 1.050407,
     "end_time": "2023-01-16T04:53:15.126560",
     "exception": false,
     "start_time": "2023-01-16T04:53:14.076153",
     "status": "completed"
    },
    "tags": []
   },
   "outputs": [
    {
     "data": {
      "text/html": [
       "<style type='text/css'>\n",
       ".datatable table.frame { margin-bottom: 0; }\n",
       ".datatable table.frame thead { border-bottom: none; }\n",
       ".datatable table.frame tr.coltypes td {  color: #FFFFFF;  line-height: 6px;  padding: 0 0.5em;}\n",
       ".datatable .bool    { background: #DDDD99; }\n",
       ".datatable .object  { background: #565656; }\n",
       ".datatable .int     { background: #5D9E5D; }\n",
       ".datatable .float   { background: #4040CC; }\n",
       ".datatable .str     { background: #CC4040; }\n",
       ".datatable .time    { background: #40CC40; }\n",
       ".datatable .row_index {  background: var(--jp-border-color3);  border-right: 1px solid var(--jp-border-color0);  color: var(--jp-ui-font-color3);  font-size: 9px;}\n",
       ".datatable .frame tbody td { text-align: left; }\n",
       ".datatable .frame tr.coltypes .row_index {  background: var(--jp-border-color0);}\n",
       ".datatable th:nth-child(2) { padding-left: 12px; }\n",
       ".datatable .hellipsis {  color: var(--jp-cell-editor-border-color);}\n",
       ".datatable .vellipsis {  background: var(--jp-layout-color0);  color: var(--jp-cell-editor-border-color);}\n",
       ".datatable .na {  color: var(--jp-cell-editor-border-color);  font-size: 80%;}\n",
       ".datatable .sp {  opacity: 0.25;}\n",
       ".datatable .footer { font-size: 9px; }\n",
       ".datatable .frame_dimensions {  background: var(--jp-border-color3);  border-top: 1px solid var(--jp-border-color0);  color: var(--jp-ui-font-color3);  display: inline-block;  opacity: 0.6;  padding: 1px 10px 1px 5px;}\n",
       "</style>\n"
      ],
      "text/plain": [
       "<IPython.core.display.HTML object>"
      ]
     },
     "metadata": {},
     "output_type": "display_data"
    },
    {
     "name": "stdout",
     "output_type": "stream",
     "text": [
      "LightGBM Model accuracy score: 77.2727\n"
     ]
    }
   ],
   "source": [
    "import lightgbm as lgb\n",
    "clf = lgb.LGBMClassifier()\n",
    "clf.fit(X_train, y_train)\n",
    "y_pred=clf.predict(X_test)\n",
    "accuracy=accuracy_score(y_pred, y_test)\n",
    "print('LightGBM Model accuracy score: {0:0.4f}'.format(accuracy_score(y_test, y_pred)*100))"
   ]
  },
  {
   "cell_type": "code",
   "execution_count": 18,
   "id": "03df7165",
   "metadata": {
    "execution": {
     "iopub.execute_input": "2023-01-16T04:53:15.167111Z",
     "iopub.status.busy": "2023-01-16T04:53:15.166591Z",
     "iopub.status.idle": "2023-01-16T04:53:15.496437Z",
     "shell.execute_reply": "2023-01-16T04:53:15.494961Z"
    },
    "papermill": {
     "duration": 0.353328,
     "end_time": "2023-01-16T04:53:15.499714",
     "exception": false,
     "start_time": "2023-01-16T04:53:15.146386",
     "status": "completed"
    },
    "tags": []
   },
   "outputs": [],
   "source": [
    "from sklearn.ensemble import RandomForestClassifier\n",
    "clf = RandomForestClassifier(n_estimators = 100) \n",
    " \n",
    "# Training the model on the training dataset\n",
    "# fit function is used to train the model using the training sets as parameters\n",
    "clf.fit(X_train, y_train)\n",
    " \n",
    "# performing predictions on the test dataset\n",
    "y_pred8 = clf.predict(X_test)\n",
    " "
   ]
  },
  {
   "cell_type": "code",
   "execution_count": 19,
   "id": "b2aadd23",
   "metadata": {
    "execution": {
     "iopub.execute_input": "2023-01-16T04:53:15.539713Z",
     "iopub.status.busy": "2023-01-16T04:53:15.539212Z",
     "iopub.status.idle": "2023-01-16T04:53:15.546498Z",
     "shell.execute_reply": "2023-01-16T04:53:15.545396Z"
    },
    "papermill": {
     "duration": 0.030229,
     "end_time": "2023-01-16T04:53:15.549340",
     "exception": false,
     "start_time": "2023-01-16T04:53:15.519111",
     "status": "completed"
    },
    "tags": []
   },
   "outputs": [
    {
     "name": "stdout",
     "output_type": "stream",
     "text": [
      "\n",
      "87.87878787878788\n"
     ]
    }
   ],
   "source": [
    "# metrics are used to find accuracy or error\n",
    "from sklearn import metrics \n",
    "print()\n",
    " \n",
    "# using metrics module for accuracy calculation\n",
    "print( metrics.accuracy_score(y_test, y_pred8)*100)"
   ]
  },
  {
   "cell_type": "code",
   "execution_count": 20,
   "id": "2b52711c",
   "metadata": {
    "execution": {
     "iopub.execute_input": "2023-01-16T04:53:15.590293Z",
     "iopub.status.busy": "2023-01-16T04:53:15.589414Z",
     "iopub.status.idle": "2023-01-16T04:53:15.852869Z",
     "shell.execute_reply": "2023-01-16T04:53:15.851350Z"
    },
    "papermill": {
     "duration": 0.288444,
     "end_time": "2023-01-16T04:53:15.857384",
     "exception": false,
     "start_time": "2023-01-16T04:53:15.568940",
     "status": "completed"
    },
    "tags": []
   },
   "outputs": [
    {
     "name": "stdout",
     "output_type": "stream",
     "text": [
      "84.84848484848484\n"
     ]
    }
   ],
   "source": [
    "from sklearn.ensemble import ExtraTreesClassifier\n",
    "clf = ExtraTreesClassifier(n_estimators=100,max_depth=6,min_samples_split=2,min_weight_fraction_leaf =0.0,n_jobs=-1)\n",
    "clf.fit(X_train, y_train)\n",
    "print(clf.score(X_test, y_test)*100)"
   ]
  },
  {
   "cell_type": "code",
   "execution_count": 21,
   "id": "b0ab4f6f",
   "metadata": {
    "execution": {
     "iopub.execute_input": "2023-01-16T04:53:15.896995Z",
     "iopub.status.busy": "2023-01-16T04:53:15.896481Z",
     "iopub.status.idle": "2023-01-16T04:53:15.920451Z",
     "shell.execute_reply": "2023-01-16T04:53:15.918690Z"
    },
    "papermill": {
     "duration": 0.050518,
     "end_time": "2023-01-16T04:53:15.927020",
     "exception": false,
     "start_time": "2023-01-16T04:53:15.876502",
     "status": "completed"
    },
    "tags": []
   },
   "outputs": [
    {
     "name": "stdout",
     "output_type": "stream",
     "text": [
      "78.78787878787878\n"
     ]
    }
   ],
   "source": [
    "from sklearn.neighbors import KNeighborsClassifier\n",
    "knn = KNeighborsClassifier(n_neighbors=7)\n",
    " \n",
    "knn.fit(X_train, y_train)\n",
    " \n",
    "# Predict on dataset which model has not seen before\n",
    "print(knn.score(X_test, y_test)*100)"
   ]
  },
  {
   "cell_type": "code",
   "execution_count": 22,
   "id": "6d8f48c1",
   "metadata": {
    "execution": {
     "iopub.execute_input": "2023-01-16T04:53:16.034068Z",
     "iopub.status.busy": "2023-01-16T04:53:16.033559Z",
     "iopub.status.idle": "2023-01-16T04:53:32.381640Z",
     "shell.execute_reply": "2023-01-16T04:53:32.380198Z"
    },
    "papermill": {
     "duration": 16.398485,
     "end_time": "2023-01-16T04:53:32.385592",
     "exception": false,
     "start_time": "2023-01-16T04:53:15.987107",
     "status": "completed"
    },
    "tags": []
   },
   "outputs": [
    {
     "name": "stdout",
     "output_type": "stream",
     "text": [
      "83.33333333333334\n"
     ]
    }
   ],
   "source": [
    "from sklearn.svm import SVC \n",
    "from sklearn.metrics import accuracy_score\n",
    "clf = SVC(kernel='linear') \n",
    "  \n",
    "#fitting x samples and y classes \n",
    "clf.fit(X_train, y_train) \n",
    "y_pred2=clf.predict(X_test)\n",
    "accuracy = accuracy_score(y_test, y_pred2)\n",
    "print(accuracy*100)"
   ]
  },
  {
   "cell_type": "markdown",
   "id": "8880126c",
   "metadata": {
    "papermill": {
     "duration": 0.018354,
     "end_time": "2023-01-16T04:53:32.424028",
     "exception": false,
     "start_time": "2023-01-16T04:53:32.405674",
     "status": "completed"
    },
    "tags": []
   },
   "source": [
    "## With feature selection using Correlation coefficient"
   ]
  },
  {
   "cell_type": "code",
   "execution_count": 23,
   "id": "01bed56d",
   "metadata": {
    "execution": {
     "iopub.execute_input": "2023-01-16T04:53:32.463286Z",
     "iopub.status.busy": "2023-01-16T04:53:32.462782Z",
     "iopub.status.idle": "2023-01-16T04:53:32.486143Z",
     "shell.execute_reply": "2023-01-16T04:53:32.484786Z"
    },
    "papermill": {
     "duration": 0.046631,
     "end_time": "2023-01-16T04:53:32.489018",
     "exception": false,
     "start_time": "2023-01-16T04:53:32.442387",
     "status": "completed"
    },
    "tags": []
   },
   "outputs": [
    {
     "data": {
      "text/html": [
       "<div>\n",
       "<style scoped>\n",
       "    .dataframe tbody tr th:only-of-type {\n",
       "        vertical-align: middle;\n",
       "    }\n",
       "\n",
       "    .dataframe tbody tr th {\n",
       "        vertical-align: top;\n",
       "    }\n",
       "\n",
       "    .dataframe thead th {\n",
       "        text-align: right;\n",
       "    }\n",
       "</style>\n",
       "<table border=\"1\" class=\"dataframe\">\n",
       "  <thead>\n",
       "    <tr style=\"text-align: right;\">\n",
       "      <th></th>\n",
       "      <th>feature1</th>\n",
       "      <th>feature2</th>\n",
       "      <th>Correlation</th>\n",
       "    </tr>\n",
       "  </thead>\n",
       "  <tbody>\n",
       "    <tr>\n",
       "      <th>0</th>\n",
       "      <td>radius_mean</td>\n",
       "      <td>perimeter_mean</td>\n",
       "      <td>0.995933</td>\n",
       "    </tr>\n",
       "    <tr>\n",
       "      <th>1</th>\n",
       "      <td>perimeter_mean</td>\n",
       "      <td>radius_mean</td>\n",
       "      <td>0.995933</td>\n",
       "    </tr>\n",
       "    <tr>\n",
       "      <th>2</th>\n",
       "      <td>radius_mean</td>\n",
       "      <td>area_mean</td>\n",
       "      <td>0.992855</td>\n",
       "    </tr>\n",
       "    <tr>\n",
       "      <th>3</th>\n",
       "      <td>area_mean</td>\n",
       "      <td>radius_mean</td>\n",
       "      <td>0.992855</td>\n",
       "    </tr>\n",
       "    <tr>\n",
       "      <th>4</th>\n",
       "      <td>perimeter_mean</td>\n",
       "      <td>area_mean</td>\n",
       "      <td>0.990699</td>\n",
       "    </tr>\n",
       "  </tbody>\n",
       "</table>\n",
       "</div>"
      ],
      "text/plain": [
       "         feature1        feature2  Correlation\n",
       "0     radius_mean  perimeter_mean     0.995933\n",
       "1  perimeter_mean     radius_mean     0.995933\n",
       "2     radius_mean       area_mean     0.992855\n",
       "3       area_mean     radius_mean     0.992855\n",
       "4  perimeter_mean       area_mean     0.990699"
      ]
     },
     "execution_count": 23,
     "metadata": {},
     "output_type": "execute_result"
    }
   ],
   "source": [
    "# Build a Dataframe with Correlation between Features\n",
    "corr_matrix = X.corr()\n",
    "# Take absolute values of correlated coefficients\n",
    "corr_matrix = corr_matrix.abs().unstack()\n",
    "corr_matrix = corr_matrix.sort_values(ascending=False)\n",
    "# Take only features with correlation above threshold of 0.8\n",
    "corr_matrix = corr_matrix[corr_matrix >= 0.8]\n",
    "corr_matrix = corr_matrix[corr_matrix < 1]\n",
    "corr_matrix = pd.DataFrame(corr_matrix).reset_index()\n",
    "corr_matrix.columns = ['feature1', 'feature2', 'Correlation']\n",
    "corr_matrix.head()\n"
   ]
  },
  {
   "cell_type": "code",
   "execution_count": 24,
   "id": "19143ab0",
   "metadata": {
    "execution": {
     "iopub.execute_input": "2023-01-16T04:53:32.529140Z",
     "iopub.status.busy": "2023-01-16T04:53:32.528243Z",
     "iopub.status.idle": "2023-01-16T04:53:32.535578Z",
     "shell.execute_reply": "2023-01-16T04:53:32.534696Z"
    },
    "papermill": {
     "duration": 0.030395,
     "end_time": "2023-01-16T04:53:32.538223",
     "exception": false,
     "start_time": "2023-01-16T04:53:32.507828",
     "status": "completed"
    },
    "tags": []
   },
   "outputs": [],
   "source": [
    "from sklearn.model_selection import train_test_split\n",
    "X_train, X_test, y_train, y_test = train_test_split(X, y, test_size=0.33, random_state=42)"
   ]
  },
  {
   "cell_type": "code",
   "execution_count": 25,
   "id": "7ffa3ab5",
   "metadata": {
    "execution": {
     "iopub.execute_input": "2023-01-16T04:53:32.578372Z",
     "iopub.status.busy": "2023-01-16T04:53:32.577463Z",
     "iopub.status.idle": "2023-01-16T04:53:32.592748Z",
     "shell.execute_reply": "2023-01-16T04:53:32.591497Z"
    },
    "papermill": {
     "duration": 0.039257,
     "end_time": "2023-01-16T04:53:32.596054",
     "exception": false,
     "start_time": "2023-01-16T04:53:32.556797",
     "status": "completed"
    },
    "tags": []
   },
   "outputs": [
    {
     "name": "stdout",
     "output_type": "stream",
     "text": [
      "Found 9 correlated feature groups\n",
      "out of 32 total features.\n"
     ]
    }
   ],
   "source": [
    "# Get groups of features that are correlated amongs themselves\n",
    "grouped_features = []\n",
    "correlated_groups = []\n",
    "\n",
    "for feature in corr_matrix.feature1.unique():\n",
    "    if feature not in grouped_features:\n",
    "        # Find all features correlated to a single feature\n",
    "        correlated_block = corr_matrix[corr_matrix.feature1 == feature]\n",
    "        grouped_features = grouped_features + list(correlated_block.feature2.unique()) + [feature]\n",
    "        \n",
    "        # Append block of features to the list\n",
    "        correlated_groups.append(correlated_block)\n",
    "\n",
    "print('Found {} correlated feature groups'.format(len(correlated_groups)))\n",
    "print('out of {} total features.'.format(X_train.shape[1]))"
   ]
  },
  {
   "cell_type": "code",
   "execution_count": 26,
   "id": "cfbe13b2",
   "metadata": {
    "execution": {
     "iopub.execute_input": "2023-01-16T04:53:32.636980Z",
     "iopub.status.busy": "2023-01-16T04:53:32.636261Z",
     "iopub.status.idle": "2023-01-16T04:53:32.657404Z",
     "shell.execute_reply": "2023-01-16T04:53:32.656179Z"
    },
    "papermill": {
     "duration": 0.044803,
     "end_time": "2023-01-16T04:53:32.660506",
     "exception": false,
     "start_time": "2023-01-16T04:53:32.615703",
     "status": "completed"
    },
    "tags": []
   },
   "outputs": [
    {
     "name": "stdout",
     "output_type": "stream",
     "text": [
      "       feature1         feature2  Correlation\n",
      "0   radius_mean   perimeter_mean     0.995933\n",
      "2   radius_mean        area_mean     0.992855\n",
      "22  radius_mean     radius_worst     0.924183\n",
      "28  radius_mean  perimeter_worst     0.915053\n",
      "34  radius_mean       area_worst     0.891489\n",
      "\n",
      "\n",
      "        feature1   feature2  Correlation\n",
      "12  perimeter_se  radius_se     0.973267\n",
      "18  perimeter_se    area_se     0.929603\n",
      "\n",
      "\n",
      "               feature1        feature2  Correlation\n",
      "32  concave points_mean  concavity_mean      0.90999\n",
      "\n",
      "\n",
      "        feature1       feature2  Correlation\n",
      "38  texture_mean  texture_worst      0.86205\n",
      "\n",
      "\n",
      "             feature1                 feature2  Correlation\n",
      "40  compactness_worst  fractal_dimension_worst     0.847403\n",
      "49  compactness_worst          concavity_worst     0.835064\n",
      "\n",
      "\n",
      "                feature1        feature2  Correlation\n",
      "42  fractal_dimension_se  compactness_se     0.845176\n",
      "\n",
      "\n",
      "                  feature1                 feature2  Correlation\n",
      "44  fractal_dimension_mean  fractal_dimension_worst     0.838737\n",
      "\n",
      "\n",
      "            feature1        feature2  Correlation\n",
      "46  compactness_mean  concavity_mean     0.836015\n",
      "\n",
      "\n",
      "        feature1        feature2  Correlation\n",
      "50  concavity_se  compactness_se     0.813994\n",
      "\n",
      "\n"
     ]
    }
   ],
   "source": [
    "# Visualize Correlated Feature Groups\n",
    "for group in correlated_groups:\n",
    "    print(group)\n",
    "    print('\\n')"
   ]
  },
  {
   "cell_type": "code",
   "execution_count": 27,
   "id": "02c00f3e",
   "metadata": {
    "execution": {
     "iopub.execute_input": "2023-01-16T04:53:32.701604Z",
     "iopub.status.busy": "2023-01-16T04:53:32.701082Z",
     "iopub.status.idle": "2023-01-16T04:53:32.712467Z",
     "shell.execute_reply": "2023-01-16T04:53:32.711052Z"
    },
    "papermill": {
     "duration": 0.035465,
     "end_time": "2023-01-16T04:53:32.715346",
     "exception": false,
     "start_time": "2023-01-16T04:53:32.679881",
     "status": "completed"
    },
    "tags": []
   },
   "outputs": [],
   "source": [
    "df.drop(\"perimeter_mean\",axis=1,inplace=True)\n",
    "df.drop(\"area_mean\",axis=1,inplace=True)\n",
    "df.drop(\"radius_worst\",axis=1,inplace=True)\n",
    "df.drop(\"perimeter_worst\",axis=1,inplace=True)\n",
    "df.drop(\"area_worst\",axis=1,inplace=True)"
   ]
  },
  {
   "cell_type": "code",
   "execution_count": 28,
   "id": "55ea85ef",
   "metadata": {
    "execution": {
     "iopub.execute_input": "2023-01-16T04:53:32.756179Z",
     "iopub.status.busy": "2023-01-16T04:53:32.755546Z",
     "iopub.status.idle": "2023-01-16T04:53:32.764655Z",
     "shell.execute_reply": "2023-01-16T04:53:32.763235Z"
    },
    "papermill": {
     "duration": 0.032766,
     "end_time": "2023-01-16T04:53:32.767282",
     "exception": false,
     "start_time": "2023-01-16T04:53:32.734516",
     "status": "completed"
    },
    "tags": []
   },
   "outputs": [],
   "source": [
    "df.drop(\"radius_se\",axis=1,inplace=True)\n",
    "df.drop(\"area_se\",axis=1,inplace=True)"
   ]
  },
  {
   "cell_type": "code",
   "execution_count": 29,
   "id": "fb848da1",
   "metadata": {
    "execution": {
     "iopub.execute_input": "2023-01-16T04:53:32.807904Z",
     "iopub.status.busy": "2023-01-16T04:53:32.807442Z",
     "iopub.status.idle": "2023-01-16T04:53:32.818430Z",
     "shell.execute_reply": "2023-01-16T04:53:32.817060Z"
    },
    "papermill": {
     "duration": 0.034357,
     "end_time": "2023-01-16T04:53:32.820865",
     "exception": false,
     "start_time": "2023-01-16T04:53:32.786508",
     "status": "completed"
    },
    "tags": []
   },
   "outputs": [],
   "source": [
    "df.drop(\"concavity_mean\",axis=1,inplace=True)\n",
    "df.drop(\"texture_worst\",axis=1,inplace=True)\n",
    "df.drop(\"fractal_dimension_worst\",axis=1,inplace=True)\n",
    "df.drop(\"concavity_worst\",axis=1,inplace=True)\n"
   ]
  },
  {
   "cell_type": "code",
   "execution_count": 30,
   "id": "8c74daa4",
   "metadata": {
    "execution": {
     "iopub.execute_input": "2023-01-16T04:53:32.861442Z",
     "iopub.status.busy": "2023-01-16T04:53:32.860990Z",
     "iopub.status.idle": "2023-01-16T04:53:32.868482Z",
     "shell.execute_reply": "2023-01-16T04:53:32.866929Z"
    },
    "papermill": {
     "duration": 0.030618,
     "end_time": "2023-01-16T04:53:32.870872",
     "exception": false,
     "start_time": "2023-01-16T04:53:32.840254",
     "status": "completed"
    },
    "tags": []
   },
   "outputs": [],
   "source": [
    "df.drop(\"compactness_se\",axis=1,inplace=True)\n"
   ]
  },
  {
   "cell_type": "code",
   "execution_count": 31,
   "id": "ac27833d",
   "metadata": {
    "execution": {
     "iopub.execute_input": "2023-01-16T04:53:32.915167Z",
     "iopub.status.busy": "2023-01-16T04:53:32.914595Z",
     "iopub.status.idle": "2023-01-16T04:53:32.950945Z",
     "shell.execute_reply": "2023-01-16T04:53:32.949389Z"
    },
    "papermill": {
     "duration": 0.060525,
     "end_time": "2023-01-16T04:53:32.953672",
     "exception": false,
     "start_time": "2023-01-16T04:53:32.893147",
     "status": "completed"
    },
    "tags": []
   },
   "outputs": [
    {
     "data": {
      "text/html": [
       "<div>\n",
       "<style scoped>\n",
       "    .dataframe tbody tr th:only-of-type {\n",
       "        vertical-align: middle;\n",
       "    }\n",
       "\n",
       "    .dataframe tbody tr th {\n",
       "        vertical-align: top;\n",
       "    }\n",
       "\n",
       "    .dataframe thead th {\n",
       "        text-align: right;\n",
       "    }\n",
       "</style>\n",
       "<table border=\"1\" class=\"dataframe\">\n",
       "  <thead>\n",
       "    <tr style=\"text-align: right;\">\n",
       "      <th></th>\n",
       "      <th>id</th>\n",
       "      <th>Recurrence</th>\n",
       "      <th>Time</th>\n",
       "      <th>radius_mean</th>\n",
       "      <th>texture_mean</th>\n",
       "      <th>smoothness_mean</th>\n",
       "      <th>compactness_mean</th>\n",
       "      <th>concave points_mean</th>\n",
       "      <th>symmetry_mean</th>\n",
       "      <th>fractal_dimension_mean</th>\n",
       "      <th>...</th>\n",
       "      <th>concavity_se</th>\n",
       "      <th>concave points_se</th>\n",
       "      <th>symmetry_se</th>\n",
       "      <th>fractal_dimension_se</th>\n",
       "      <th>smoothness_worst</th>\n",
       "      <th>compactness_worst</th>\n",
       "      <th>concave points_worst</th>\n",
       "      <th>symmetry_worst</th>\n",
       "      <th>Tumor Size</th>\n",
       "      <th>Lymph node status</th>\n",
       "    </tr>\n",
       "  </thead>\n",
       "  <tbody>\n",
       "    <tr>\n",
       "      <th>0</th>\n",
       "      <td>119513</td>\n",
       "      <td>0</td>\n",
       "      <td>31</td>\n",
       "      <td>18.02</td>\n",
       "      <td>27.60</td>\n",
       "      <td>0.09489</td>\n",
       "      <td>0.10360</td>\n",
       "      <td>0.07055</td>\n",
       "      <td>0.1865</td>\n",
       "      <td>0.06333</td>\n",
       "      <td>...</td>\n",
       "      <td>0.03233</td>\n",
       "      <td>0.009854</td>\n",
       "      <td>0.01694</td>\n",
       "      <td>0.003495</td>\n",
       "      <td>0.11950</td>\n",
       "      <td>0.1926</td>\n",
       "      <td>0.11700</td>\n",
       "      <td>0.2677</td>\n",
       "      <td>5.0</td>\n",
       "      <td>5.100000</td>\n",
       "    </tr>\n",
       "    <tr>\n",
       "      <th>1</th>\n",
       "      <td>8423</td>\n",
       "      <td>0</td>\n",
       "      <td>61</td>\n",
       "      <td>17.99</td>\n",
       "      <td>10.38</td>\n",
       "      <td>0.11840</td>\n",
       "      <td>0.27760</td>\n",
       "      <td>0.14710</td>\n",
       "      <td>0.2419</td>\n",
       "      <td>0.07871</td>\n",
       "      <td>...</td>\n",
       "      <td>0.05373</td>\n",
       "      <td>0.015870</td>\n",
       "      <td>0.03003</td>\n",
       "      <td>0.006193</td>\n",
       "      <td>0.16220</td>\n",
       "      <td>0.6656</td>\n",
       "      <td>0.26540</td>\n",
       "      <td>0.4601</td>\n",
       "      <td>3.0</td>\n",
       "      <td>2.000000</td>\n",
       "    </tr>\n",
       "    <tr>\n",
       "      <th>2</th>\n",
       "      <td>842517</td>\n",
       "      <td>0</td>\n",
       "      <td>116</td>\n",
       "      <td>21.37</td>\n",
       "      <td>17.44</td>\n",
       "      <td>0.08836</td>\n",
       "      <td>0.11890</td>\n",
       "      <td>0.08180</td>\n",
       "      <td>0.2333</td>\n",
       "      <td>0.06010</td>\n",
       "      <td>...</td>\n",
       "      <td>0.03300</td>\n",
       "      <td>0.018050</td>\n",
       "      <td>0.03094</td>\n",
       "      <td>0.005039</td>\n",
       "      <td>0.11880</td>\n",
       "      <td>0.3449</td>\n",
       "      <td>0.20320</td>\n",
       "      <td>0.4334</td>\n",
       "      <td>2.5</td>\n",
       "      <td>0.000000</td>\n",
       "    </tr>\n",
       "    <tr>\n",
       "      <th>3</th>\n",
       "      <td>843483</td>\n",
       "      <td>0</td>\n",
       "      <td>123</td>\n",
       "      <td>11.42</td>\n",
       "      <td>20.38</td>\n",
       "      <td>0.14250</td>\n",
       "      <td>0.28390</td>\n",
       "      <td>0.10520</td>\n",
       "      <td>0.2597</td>\n",
       "      <td>0.09744</td>\n",
       "      <td>...</td>\n",
       "      <td>0.05661</td>\n",
       "      <td>0.018670</td>\n",
       "      <td>0.05963</td>\n",
       "      <td>0.009208</td>\n",
       "      <td>0.20980</td>\n",
       "      <td>0.8663</td>\n",
       "      <td>0.25750</td>\n",
       "      <td>0.6638</td>\n",
       "      <td>2.0</td>\n",
       "      <td>0.000000</td>\n",
       "    </tr>\n",
       "    <tr>\n",
       "      <th>4</th>\n",
       "      <td>843584</td>\n",
       "      <td>1</td>\n",
       "      <td>27</td>\n",
       "      <td>20.29</td>\n",
       "      <td>14.34</td>\n",
       "      <td>0.10030</td>\n",
       "      <td>0.13280</td>\n",
       "      <td>0.10430</td>\n",
       "      <td>0.1809</td>\n",
       "      <td>0.05883</td>\n",
       "      <td>...</td>\n",
       "      <td>0.05688</td>\n",
       "      <td>0.018850</td>\n",
       "      <td>0.01756</td>\n",
       "      <td>0.005115</td>\n",
       "      <td>0.13740</td>\n",
       "      <td>0.2050</td>\n",
       "      <td>0.16250</td>\n",
       "      <td>0.2364</td>\n",
       "      <td>3.5</td>\n",
       "      <td>0.000000</td>\n",
       "    </tr>\n",
       "    <tr>\n",
       "      <th>...</th>\n",
       "      <td>...</td>\n",
       "      <td>...</td>\n",
       "      <td>...</td>\n",
       "      <td>...</td>\n",
       "      <td>...</td>\n",
       "      <td>...</td>\n",
       "      <td>...</td>\n",
       "      <td>...</td>\n",
       "      <td>...</td>\n",
       "      <td>...</td>\n",
       "      <td>...</td>\n",
       "      <td>...</td>\n",
       "      <td>...</td>\n",
       "      <td>...</td>\n",
       "      <td>...</td>\n",
       "      <td>...</td>\n",
       "      <td>...</td>\n",
       "      <td>...</td>\n",
       "      <td>...</td>\n",
       "      <td>...</td>\n",
       "      <td>...</td>\n",
       "    </tr>\n",
       "    <tr>\n",
       "      <th>193</th>\n",
       "      <td>942640</td>\n",
       "      <td>0</td>\n",
       "      <td>10</td>\n",
       "      <td>22.52</td>\n",
       "      <td>21.92</td>\n",
       "      <td>0.07592</td>\n",
       "      <td>0.09162</td>\n",
       "      <td>0.06367</td>\n",
       "      <td>0.1728</td>\n",
       "      <td>0.05262</td>\n",
       "      <td>...</td>\n",
       "      <td>0.02433</td>\n",
       "      <td>0.020360</td>\n",
       "      <td>0.02486</td>\n",
       "      <td>0.003922</td>\n",
       "      <td>0.08191</td>\n",
       "      <td>0.1319</td>\n",
       "      <td>0.09378</td>\n",
       "      <td>0.2061</td>\n",
       "      <td>6.0</td>\n",
       "      <td>2.000000</td>\n",
       "    </tr>\n",
       "    <tr>\n",
       "      <th>194</th>\n",
       "      <td>943471</td>\n",
       "      <td>0</td>\n",
       "      <td>8</td>\n",
       "      <td>15.44</td>\n",
       "      <td>31.18</td>\n",
       "      <td>0.09399</td>\n",
       "      <td>0.10620</td>\n",
       "      <td>0.06500</td>\n",
       "      <td>0.1735</td>\n",
       "      <td>0.06105</td>\n",
       "      <td>...</td>\n",
       "      <td>0.02834</td>\n",
       "      <td>0.010790</td>\n",
       "      <td>0.02122</td>\n",
       "      <td>0.003168</td>\n",
       "      <td>0.12720</td>\n",
       "      <td>0.2362</td>\n",
       "      <td>0.12860</td>\n",
       "      <td>0.2914</td>\n",
       "      <td>1.5</td>\n",
       "      <td>0.000000</td>\n",
       "    </tr>\n",
       "    <tr>\n",
       "      <th>195</th>\n",
       "      <td>94547</td>\n",
       "      <td>0</td>\n",
       "      <td>12</td>\n",
       "      <td>17.17</td>\n",
       "      <td>29.19</td>\n",
       "      <td>0.08952</td>\n",
       "      <td>0.06655</td>\n",
       "      <td>0.05068</td>\n",
       "      <td>0.1793</td>\n",
       "      <td>0.05392</td>\n",
       "      <td>...</td>\n",
       "      <td>0.03155</td>\n",
       "      <td>0.009714</td>\n",
       "      <td>0.02734</td>\n",
       "      <td>0.001377</td>\n",
       "      <td>0.12610</td>\n",
       "      <td>0.1572</td>\n",
       "      <td>0.09520</td>\n",
       "      <td>0.3362</td>\n",
       "      <td>3.7</td>\n",
       "      <td>0.000000</td>\n",
       "    </tr>\n",
       "    <tr>\n",
       "      <th>196</th>\n",
       "      <td>947204</td>\n",
       "      <td>1</td>\n",
       "      <td>3</td>\n",
       "      <td>21.42</td>\n",
       "      <td>22.84</td>\n",
       "      <td>0.10700</td>\n",
       "      <td>0.19390</td>\n",
       "      <td>0.13180</td>\n",
       "      <td>0.1884</td>\n",
       "      <td>0.06472</td>\n",
       "      <td>...</td>\n",
       "      <td>0.04948</td>\n",
       "      <td>0.017700</td>\n",
       "      <td>0.01481</td>\n",
       "      <td>0.003979</td>\n",
       "      <td>0.14980</td>\n",
       "      <td>0.4379</td>\n",
       "      <td>0.22150</td>\n",
       "      <td>0.2832</td>\n",
       "      <td>3.0</td>\n",
       "      <td>3.211856</td>\n",
       "    </tr>\n",
       "    <tr>\n",
       "      <th>197</th>\n",
       "      <td>947489</td>\n",
       "      <td>0</td>\n",
       "      <td>6</td>\n",
       "      <td>16.70</td>\n",
       "      <td>28.13</td>\n",
       "      <td>0.08896</td>\n",
       "      <td>0.11310</td>\n",
       "      <td>0.04989</td>\n",
       "      <td>0.1890</td>\n",
       "      <td>0.06035</td>\n",
       "      <td>...</td>\n",
       "      <td>0.03957</td>\n",
       "      <td>0.014110</td>\n",
       "      <td>0.01957</td>\n",
       "      <td>0.003606</td>\n",
       "      <td>0.13300</td>\n",
       "      <td>0.2808</td>\n",
       "      <td>0.13170</td>\n",
       "      <td>0.3035</td>\n",
       "      <td>3.5</td>\n",
       "      <td>0.000000</td>\n",
       "    </tr>\n",
       "  </tbody>\n",
       "</table>\n",
       "<p>198 rows × 23 columns</p>\n",
       "</div>"
      ],
      "text/plain": [
       "         id  Recurrence  Time  radius_mean  texture_mean  smoothness_mean  \\\n",
       "0    119513           0    31        18.02         27.60          0.09489   \n",
       "1      8423           0    61        17.99         10.38          0.11840   \n",
       "2    842517           0   116        21.37         17.44          0.08836   \n",
       "3    843483           0   123        11.42         20.38          0.14250   \n",
       "4    843584           1    27        20.29         14.34          0.10030   \n",
       "..      ...         ...   ...          ...           ...              ...   \n",
       "193  942640           0    10        22.52         21.92          0.07592   \n",
       "194  943471           0     8        15.44         31.18          0.09399   \n",
       "195   94547           0    12        17.17         29.19          0.08952   \n",
       "196  947204           1     3        21.42         22.84          0.10700   \n",
       "197  947489           0     6        16.70         28.13          0.08896   \n",
       "\n",
       "     compactness_mean  concave points_mean  symmetry_mean  \\\n",
       "0             0.10360              0.07055         0.1865   \n",
       "1             0.27760              0.14710         0.2419   \n",
       "2             0.11890              0.08180         0.2333   \n",
       "3             0.28390              0.10520         0.2597   \n",
       "4             0.13280              0.10430         0.1809   \n",
       "..                ...                  ...            ...   \n",
       "193           0.09162              0.06367         0.1728   \n",
       "194           0.10620              0.06500         0.1735   \n",
       "195           0.06655              0.05068         0.1793   \n",
       "196           0.19390              0.13180         0.1884   \n",
       "197           0.11310              0.04989         0.1890   \n",
       "\n",
       "     fractal_dimension_mean  ...  concavity_se  concave points_se  \\\n",
       "0                   0.06333  ...       0.03233           0.009854   \n",
       "1                   0.07871  ...       0.05373           0.015870   \n",
       "2                   0.06010  ...       0.03300           0.018050   \n",
       "3                   0.09744  ...       0.05661           0.018670   \n",
       "4                   0.05883  ...       0.05688           0.018850   \n",
       "..                      ...  ...           ...                ...   \n",
       "193                 0.05262  ...       0.02433           0.020360   \n",
       "194                 0.06105  ...       0.02834           0.010790   \n",
       "195                 0.05392  ...       0.03155           0.009714   \n",
       "196                 0.06472  ...       0.04948           0.017700   \n",
       "197                 0.06035  ...       0.03957           0.014110   \n",
       "\n",
       "     symmetry_se  fractal_dimension_se  smoothness_worst  compactness_worst  \\\n",
       "0        0.01694              0.003495           0.11950             0.1926   \n",
       "1        0.03003              0.006193           0.16220             0.6656   \n",
       "2        0.03094              0.005039           0.11880             0.3449   \n",
       "3        0.05963              0.009208           0.20980             0.8663   \n",
       "4        0.01756              0.005115           0.13740             0.2050   \n",
       "..           ...                   ...               ...                ...   \n",
       "193      0.02486              0.003922           0.08191             0.1319   \n",
       "194      0.02122              0.003168           0.12720             0.2362   \n",
       "195      0.02734              0.001377           0.12610             0.1572   \n",
       "196      0.01481              0.003979           0.14980             0.4379   \n",
       "197      0.01957              0.003606           0.13300             0.2808   \n",
       "\n",
       "     concave points_worst  symmetry_worst  Tumor Size  Lymph node status  \n",
       "0                 0.11700          0.2677         5.0           5.100000  \n",
       "1                 0.26540          0.4601         3.0           2.000000  \n",
       "2                 0.20320          0.4334         2.5           0.000000  \n",
       "3                 0.25750          0.6638         2.0           0.000000  \n",
       "4                 0.16250          0.2364         3.5           0.000000  \n",
       "..                    ...             ...         ...                ...  \n",
       "193               0.09378          0.2061         6.0           2.000000  \n",
       "194               0.12860          0.2914         1.5           0.000000  \n",
       "195               0.09520          0.3362         3.7           0.000000  \n",
       "196               0.22150          0.2832         3.0           3.211856  \n",
       "197               0.13170          0.3035         3.5           0.000000  \n",
       "\n",
       "[198 rows x 23 columns]"
      ]
     },
     "execution_count": 31,
     "metadata": {},
     "output_type": "execute_result"
    }
   ],
   "source": [
    "df"
   ]
  },
  {
   "cell_type": "code",
   "execution_count": 32,
   "id": "82b809bb",
   "metadata": {
    "execution": {
     "iopub.execute_input": "2023-01-16T04:53:32.995106Z",
     "iopub.status.busy": "2023-01-16T04:53:32.994599Z",
     "iopub.status.idle": "2023-01-16T04:53:32.999915Z",
     "shell.execute_reply": "2023-01-16T04:53:32.998581Z"
    },
    "papermill": {
     "duration": 0.02953,
     "end_time": "2023-01-16T04:53:33.002937",
     "exception": false,
     "start_time": "2023-01-16T04:53:32.973407",
     "status": "completed"
    },
    "tags": []
   },
   "outputs": [],
   "source": [
    "## Normalising skewed rows"
   ]
  },
  {
   "cell_type": "code",
   "execution_count": 33,
   "id": "7064ee03",
   "metadata": {
    "execution": {
     "iopub.execute_input": "2023-01-16T04:53:33.046231Z",
     "iopub.status.busy": "2023-01-16T04:53:33.045742Z",
     "iopub.status.idle": "2023-01-16T04:53:33.056349Z",
     "shell.execute_reply": "2023-01-16T04:53:33.055088Z"
    },
    "papermill": {
     "duration": 0.036299,
     "end_time": "2023-01-16T04:53:33.059252",
     "exception": false,
     "start_time": "2023-01-16T04:53:33.022953",
     "status": "completed"
    },
    "tags": []
   },
   "outputs": [
    {
     "data": {
      "text/plain": [
       "id                        1.990248\n",
       "Recurrence                1.243958\n",
       "Time                      0.514322\n",
       "radius_mean               0.313726\n",
       "texture_mean              0.571373\n",
       "smoothness_mean           0.443359\n",
       "compactness_mean          0.614172\n",
       "concave points_mean       0.697699\n",
       "symmetry_mean             0.775116\n",
       "fractal_dimension_mean    0.999702\n",
       "texture_se                1.309493\n",
       "perimeter_se              1.262808\n",
       "smoothness_se             3.905352\n",
       "concavity_se              1.749850\n",
       "concave points_se         1.280522\n",
       "symmetry_se               2.130190\n",
       "fractal_dimension_se      1.683379\n",
       "smoothness_worst          0.460028\n",
       "compactness_worst         1.165402\n",
       "concave points_worst     -0.147846\n",
       "symmetry_worst            1.120878\n",
       "Tumor Size                1.752621\n",
       "Lymph node status         2.278842\n",
       "dtype: float64"
      ]
     },
     "execution_count": 33,
     "metadata": {},
     "output_type": "execute_result"
    }
   ],
   "source": [
    "df.skew(axis = 0)"
   ]
  },
  {
   "cell_type": "code",
   "execution_count": 34,
   "id": "59ec3e12",
   "metadata": {
    "execution": {
     "iopub.execute_input": "2023-01-16T04:53:33.101529Z",
     "iopub.status.busy": "2023-01-16T04:53:33.101057Z",
     "iopub.status.idle": "2023-01-16T04:53:33.108032Z",
     "shell.execute_reply": "2023-01-16T04:53:33.106584Z"
    },
    "papermill": {
     "duration": 0.031056,
     "end_time": "2023-01-16T04:53:33.110461",
     "exception": false,
     "start_time": "2023-01-16T04:53:33.079405",
     "status": "completed"
    },
    "tags": []
   },
   "outputs": [],
   "source": [
    "df['smoothness_se']=np.log(df['smoothness_se'])"
   ]
  },
  {
   "cell_type": "code",
   "execution_count": 35,
   "id": "f2616943",
   "metadata": {
    "execution": {
     "iopub.execute_input": "2023-01-16T04:53:33.151943Z",
     "iopub.status.busy": "2023-01-16T04:53:33.151456Z",
     "iopub.status.idle": "2023-01-16T04:53:33.162854Z",
     "shell.execute_reply": "2023-01-16T04:53:33.161702Z"
    },
    "papermill": {
     "duration": 0.034952,
     "end_time": "2023-01-16T04:53:33.165123",
     "exception": false,
     "start_time": "2023-01-16T04:53:33.130171",
     "status": "completed"
    },
    "tags": []
   },
   "outputs": [
    {
     "data": {
      "text/plain": [
       "id                        1.990248\n",
       "Recurrence                1.243958\n",
       "Time                      0.514322\n",
       "radius_mean               0.313726\n",
       "texture_mean              0.571373\n",
       "smoothness_mean           0.443359\n",
       "compactness_mean          0.614172\n",
       "concave points_mean       0.697699\n",
       "symmetry_mean             0.775116\n",
       "fractal_dimension_mean    0.999702\n",
       "texture_se                1.309493\n",
       "perimeter_se              1.262808\n",
       "smoothness_se             0.658615\n",
       "concavity_se              1.749850\n",
       "concave points_se         1.280522\n",
       "symmetry_se               2.130190\n",
       "fractal_dimension_se      1.683379\n",
       "smoothness_worst          0.460028\n",
       "compactness_worst         1.165402\n",
       "concave points_worst     -0.147846\n",
       "symmetry_worst            1.120878\n",
       "Tumor Size                1.752621\n",
       "Lymph node status         2.278842\n",
       "dtype: float64"
      ]
     },
     "execution_count": 35,
     "metadata": {},
     "output_type": "execute_result"
    }
   ],
   "source": [
    "df.skew(axis=0)"
   ]
  },
  {
   "cell_type": "markdown",
   "id": "8631314b",
   "metadata": {
    "papermill": {
     "duration": 0.019669,
     "end_time": "2023-01-16T04:53:33.205011",
     "exception": false,
     "start_time": "2023-01-16T04:53:33.185342",
     "status": "completed"
    },
    "tags": []
   },
   "source": [
    "## Applying ML models on the new feature reduced data"
   ]
  },
  {
   "cell_type": "code",
   "execution_count": 36,
   "id": "d955768c",
   "metadata": {
    "execution": {
     "iopub.execute_input": "2023-01-16T04:53:33.247419Z",
     "iopub.status.busy": "2023-01-16T04:53:33.246815Z",
     "iopub.status.idle": "2023-01-16T04:53:33.253486Z",
     "shell.execute_reply": "2023-01-16T04:53:33.252142Z"
    },
    "papermill": {
     "duration": 0.030761,
     "end_time": "2023-01-16T04:53:33.256087",
     "exception": false,
     "start_time": "2023-01-16T04:53:33.225326",
     "status": "completed"
    },
    "tags": []
   },
   "outputs": [],
   "source": [
    "X=df.iloc[:,2:23]"
   ]
  },
  {
   "cell_type": "code",
   "execution_count": 37,
   "id": "93127423",
   "metadata": {
    "execution": {
     "iopub.execute_input": "2023-01-16T04:53:33.298900Z",
     "iopub.status.busy": "2023-01-16T04:53:33.298407Z",
     "iopub.status.idle": "2023-01-16T04:53:33.333886Z",
     "shell.execute_reply": "2023-01-16T04:53:33.332724Z"
    },
    "papermill": {
     "duration": 0.060047,
     "end_time": "2023-01-16T04:53:33.336367",
     "exception": false,
     "start_time": "2023-01-16T04:53:33.276320",
     "status": "completed"
    },
    "tags": []
   },
   "outputs": [
    {
     "data": {
      "text/html": [
       "<div>\n",
       "<style scoped>\n",
       "    .dataframe tbody tr th:only-of-type {\n",
       "        vertical-align: middle;\n",
       "    }\n",
       "\n",
       "    .dataframe tbody tr th {\n",
       "        vertical-align: top;\n",
       "    }\n",
       "\n",
       "    .dataframe thead th {\n",
       "        text-align: right;\n",
       "    }\n",
       "</style>\n",
       "<table border=\"1\" class=\"dataframe\">\n",
       "  <thead>\n",
       "    <tr style=\"text-align: right;\">\n",
       "      <th></th>\n",
       "      <th>Time</th>\n",
       "      <th>radius_mean</th>\n",
       "      <th>texture_mean</th>\n",
       "      <th>smoothness_mean</th>\n",
       "      <th>compactness_mean</th>\n",
       "      <th>concave points_mean</th>\n",
       "      <th>symmetry_mean</th>\n",
       "      <th>fractal_dimension_mean</th>\n",
       "      <th>texture_se</th>\n",
       "      <th>perimeter_se</th>\n",
       "      <th>...</th>\n",
       "      <th>concavity_se</th>\n",
       "      <th>concave points_se</th>\n",
       "      <th>symmetry_se</th>\n",
       "      <th>fractal_dimension_se</th>\n",
       "      <th>smoothness_worst</th>\n",
       "      <th>compactness_worst</th>\n",
       "      <th>concave points_worst</th>\n",
       "      <th>symmetry_worst</th>\n",
       "      <th>Tumor Size</th>\n",
       "      <th>Lymph node status</th>\n",
       "    </tr>\n",
       "  </thead>\n",
       "  <tbody>\n",
       "    <tr>\n",
       "      <th>0</th>\n",
       "      <td>31</td>\n",
       "      <td>18.02</td>\n",
       "      <td>27.60</td>\n",
       "      <td>0.09489</td>\n",
       "      <td>0.10360</td>\n",
       "      <td>0.07055</td>\n",
       "      <td>0.1865</td>\n",
       "      <td>0.06333</td>\n",
       "      <td>1.8900</td>\n",
       "      <td>3.972</td>\n",
       "      <td>...</td>\n",
       "      <td>0.03233</td>\n",
       "      <td>0.009854</td>\n",
       "      <td>0.01694</td>\n",
       "      <td>0.003495</td>\n",
       "      <td>0.11950</td>\n",
       "      <td>0.1926</td>\n",
       "      <td>0.11700</td>\n",
       "      <td>0.2677</td>\n",
       "      <td>5.0</td>\n",
       "      <td>5.100000</td>\n",
       "    </tr>\n",
       "    <tr>\n",
       "      <th>1</th>\n",
       "      <td>61</td>\n",
       "      <td>17.99</td>\n",
       "      <td>10.38</td>\n",
       "      <td>0.11840</td>\n",
       "      <td>0.27760</td>\n",
       "      <td>0.14710</td>\n",
       "      <td>0.2419</td>\n",
       "      <td>0.07871</td>\n",
       "      <td>0.9053</td>\n",
       "      <td>8.589</td>\n",
       "      <td>...</td>\n",
       "      <td>0.05373</td>\n",
       "      <td>0.015870</td>\n",
       "      <td>0.03003</td>\n",
       "      <td>0.006193</td>\n",
       "      <td>0.16220</td>\n",
       "      <td>0.6656</td>\n",
       "      <td>0.26540</td>\n",
       "      <td>0.4601</td>\n",
       "      <td>3.0</td>\n",
       "      <td>2.000000</td>\n",
       "    </tr>\n",
       "    <tr>\n",
       "      <th>2</th>\n",
       "      <td>116</td>\n",
       "      <td>21.37</td>\n",
       "      <td>17.44</td>\n",
       "      <td>0.08836</td>\n",
       "      <td>0.11890</td>\n",
       "      <td>0.08180</td>\n",
       "      <td>0.2333</td>\n",
       "      <td>0.06010</td>\n",
       "      <td>0.6105</td>\n",
       "      <td>3.928</td>\n",
       "      <td>...</td>\n",
       "      <td>0.03300</td>\n",
       "      <td>0.018050</td>\n",
       "      <td>0.03094</td>\n",
       "      <td>0.005039</td>\n",
       "      <td>0.11880</td>\n",
       "      <td>0.3449</td>\n",
       "      <td>0.20320</td>\n",
       "      <td>0.4334</td>\n",
       "      <td>2.5</td>\n",
       "      <td>0.000000</td>\n",
       "    </tr>\n",
       "    <tr>\n",
       "      <th>3</th>\n",
       "      <td>123</td>\n",
       "      <td>11.42</td>\n",
       "      <td>20.38</td>\n",
       "      <td>0.14250</td>\n",
       "      <td>0.28390</td>\n",
       "      <td>0.10520</td>\n",
       "      <td>0.2597</td>\n",
       "      <td>0.09744</td>\n",
       "      <td>1.1560</td>\n",
       "      <td>3.445</td>\n",
       "      <td>...</td>\n",
       "      <td>0.05661</td>\n",
       "      <td>0.018670</td>\n",
       "      <td>0.05963</td>\n",
       "      <td>0.009208</td>\n",
       "      <td>0.20980</td>\n",
       "      <td>0.8663</td>\n",
       "      <td>0.25750</td>\n",
       "      <td>0.6638</td>\n",
       "      <td>2.0</td>\n",
       "      <td>0.000000</td>\n",
       "    </tr>\n",
       "    <tr>\n",
       "      <th>4</th>\n",
       "      <td>27</td>\n",
       "      <td>20.29</td>\n",
       "      <td>14.34</td>\n",
       "      <td>0.10030</td>\n",
       "      <td>0.13280</td>\n",
       "      <td>0.10430</td>\n",
       "      <td>0.1809</td>\n",
       "      <td>0.05883</td>\n",
       "      <td>0.7813</td>\n",
       "      <td>5.438</td>\n",
       "      <td>...</td>\n",
       "      <td>0.05688</td>\n",
       "      <td>0.018850</td>\n",
       "      <td>0.01756</td>\n",
       "      <td>0.005115</td>\n",
       "      <td>0.13740</td>\n",
       "      <td>0.2050</td>\n",
       "      <td>0.16250</td>\n",
       "      <td>0.2364</td>\n",
       "      <td>3.5</td>\n",
       "      <td>0.000000</td>\n",
       "    </tr>\n",
       "    <tr>\n",
       "      <th>...</th>\n",
       "      <td>...</td>\n",
       "      <td>...</td>\n",
       "      <td>...</td>\n",
       "      <td>...</td>\n",
       "      <td>...</td>\n",
       "      <td>...</td>\n",
       "      <td>...</td>\n",
       "      <td>...</td>\n",
       "      <td>...</td>\n",
       "      <td>...</td>\n",
       "      <td>...</td>\n",
       "      <td>...</td>\n",
       "      <td>...</td>\n",
       "      <td>...</td>\n",
       "      <td>...</td>\n",
       "      <td>...</td>\n",
       "      <td>...</td>\n",
       "      <td>...</td>\n",
       "      <td>...</td>\n",
       "      <td>...</td>\n",
       "      <td>...</td>\n",
       "    </tr>\n",
       "    <tr>\n",
       "      <th>193</th>\n",
       "      <td>10</td>\n",
       "      <td>22.52</td>\n",
       "      <td>21.92</td>\n",
       "      <td>0.07592</td>\n",
       "      <td>0.09162</td>\n",
       "      <td>0.06367</td>\n",
       "      <td>0.1728</td>\n",
       "      <td>0.05262</td>\n",
       "      <td>2.3120</td>\n",
       "      <td>9.938</td>\n",
       "      <td>...</td>\n",
       "      <td>0.02433</td>\n",
       "      <td>0.020360</td>\n",
       "      <td>0.02486</td>\n",
       "      <td>0.003922</td>\n",
       "      <td>0.08191</td>\n",
       "      <td>0.1319</td>\n",
       "      <td>0.09378</td>\n",
       "      <td>0.2061</td>\n",
       "      <td>6.0</td>\n",
       "      <td>2.000000</td>\n",
       "    </tr>\n",
       "    <tr>\n",
       "      <th>194</th>\n",
       "      <td>8</td>\n",
       "      <td>15.44</td>\n",
       "      <td>31.18</td>\n",
       "      <td>0.09399</td>\n",
       "      <td>0.10620</td>\n",
       "      <td>0.06500</td>\n",
       "      <td>0.1735</td>\n",
       "      <td>0.06105</td>\n",
       "      <td>1.8390</td>\n",
       "      <td>1.971</td>\n",
       "      <td>...</td>\n",
       "      <td>0.02834</td>\n",
       "      <td>0.010790</td>\n",
       "      <td>0.02122</td>\n",
       "      <td>0.003168</td>\n",
       "      <td>0.12720</td>\n",
       "      <td>0.2362</td>\n",
       "      <td>0.12860</td>\n",
       "      <td>0.2914</td>\n",
       "      <td>1.5</td>\n",
       "      <td>0.000000</td>\n",
       "    </tr>\n",
       "    <tr>\n",
       "      <th>195</th>\n",
       "      <td>12</td>\n",
       "      <td>17.17</td>\n",
       "      <td>29.19</td>\n",
       "      <td>0.08952</td>\n",
       "      <td>0.06655</td>\n",
       "      <td>0.05068</td>\n",
       "      <td>0.1793</td>\n",
       "      <td>0.05392</td>\n",
       "      <td>1.4250</td>\n",
       "      <td>3.827</td>\n",
       "      <td>...</td>\n",
       "      <td>0.03155</td>\n",
       "      <td>0.009714</td>\n",
       "      <td>0.02734</td>\n",
       "      <td>0.001377</td>\n",
       "      <td>0.12610</td>\n",
       "      <td>0.1572</td>\n",
       "      <td>0.09520</td>\n",
       "      <td>0.3362</td>\n",
       "      <td>3.7</td>\n",
       "      <td>0.000000</td>\n",
       "    </tr>\n",
       "    <tr>\n",
       "      <th>196</th>\n",
       "      <td>3</td>\n",
       "      <td>21.42</td>\n",
       "      <td>22.84</td>\n",
       "      <td>0.10700</td>\n",
       "      <td>0.19390</td>\n",
       "      <td>0.13180</td>\n",
       "      <td>0.1884</td>\n",
       "      <td>0.06472</td>\n",
       "      <td>0.8469</td>\n",
       "      <td>8.308</td>\n",
       "      <td>...</td>\n",
       "      <td>0.04948</td>\n",
       "      <td>0.017700</td>\n",
       "      <td>0.01481</td>\n",
       "      <td>0.003979</td>\n",
       "      <td>0.14980</td>\n",
       "      <td>0.4379</td>\n",
       "      <td>0.22150</td>\n",
       "      <td>0.2832</td>\n",
       "      <td>3.0</td>\n",
       "      <td>3.211856</td>\n",
       "    </tr>\n",
       "    <tr>\n",
       "      <th>197</th>\n",
       "      <td>6</td>\n",
       "      <td>16.70</td>\n",
       "      <td>28.13</td>\n",
       "      <td>0.08896</td>\n",
       "      <td>0.11310</td>\n",
       "      <td>0.04989</td>\n",
       "      <td>0.1890</td>\n",
       "      <td>0.06035</td>\n",
       "      <td>1.2350</td>\n",
       "      <td>4.243</td>\n",
       "      <td>...</td>\n",
       "      <td>0.03957</td>\n",
       "      <td>0.014110</td>\n",
       "      <td>0.01957</td>\n",
       "      <td>0.003606</td>\n",
       "      <td>0.13300</td>\n",
       "      <td>0.2808</td>\n",
       "      <td>0.13170</td>\n",
       "      <td>0.3035</td>\n",
       "      <td>3.5</td>\n",
       "      <td>0.000000</td>\n",
       "    </tr>\n",
       "  </tbody>\n",
       "</table>\n",
       "<p>198 rows × 21 columns</p>\n",
       "</div>"
      ],
      "text/plain": [
       "     Time  radius_mean  texture_mean  smoothness_mean  compactness_mean  \\\n",
       "0      31        18.02         27.60          0.09489           0.10360   \n",
       "1      61        17.99         10.38          0.11840           0.27760   \n",
       "2     116        21.37         17.44          0.08836           0.11890   \n",
       "3     123        11.42         20.38          0.14250           0.28390   \n",
       "4      27        20.29         14.34          0.10030           0.13280   \n",
       "..    ...          ...           ...              ...               ...   \n",
       "193    10        22.52         21.92          0.07592           0.09162   \n",
       "194     8        15.44         31.18          0.09399           0.10620   \n",
       "195    12        17.17         29.19          0.08952           0.06655   \n",
       "196     3        21.42         22.84          0.10700           0.19390   \n",
       "197     6        16.70         28.13          0.08896           0.11310   \n",
       "\n",
       "     concave points_mean  symmetry_mean  fractal_dimension_mean  texture_se  \\\n",
       "0                0.07055         0.1865                 0.06333      1.8900   \n",
       "1                0.14710         0.2419                 0.07871      0.9053   \n",
       "2                0.08180         0.2333                 0.06010      0.6105   \n",
       "3                0.10520         0.2597                 0.09744      1.1560   \n",
       "4                0.10430         0.1809                 0.05883      0.7813   \n",
       "..                   ...            ...                     ...         ...   \n",
       "193              0.06367         0.1728                 0.05262      2.3120   \n",
       "194              0.06500         0.1735                 0.06105      1.8390   \n",
       "195              0.05068         0.1793                 0.05392      1.4250   \n",
       "196              0.13180         0.1884                 0.06472      0.8469   \n",
       "197              0.04989         0.1890                 0.06035      1.2350   \n",
       "\n",
       "     perimeter_se  ...  concavity_se  concave points_se  symmetry_se  \\\n",
       "0           3.972  ...       0.03233           0.009854      0.01694   \n",
       "1           8.589  ...       0.05373           0.015870      0.03003   \n",
       "2           3.928  ...       0.03300           0.018050      0.03094   \n",
       "3           3.445  ...       0.05661           0.018670      0.05963   \n",
       "4           5.438  ...       0.05688           0.018850      0.01756   \n",
       "..            ...  ...           ...                ...          ...   \n",
       "193         9.938  ...       0.02433           0.020360      0.02486   \n",
       "194         1.971  ...       0.02834           0.010790      0.02122   \n",
       "195         3.827  ...       0.03155           0.009714      0.02734   \n",
       "196         8.308  ...       0.04948           0.017700      0.01481   \n",
       "197         4.243  ...       0.03957           0.014110      0.01957   \n",
       "\n",
       "     fractal_dimension_se  smoothness_worst  compactness_worst  \\\n",
       "0                0.003495           0.11950             0.1926   \n",
       "1                0.006193           0.16220             0.6656   \n",
       "2                0.005039           0.11880             0.3449   \n",
       "3                0.009208           0.20980             0.8663   \n",
       "4                0.005115           0.13740             0.2050   \n",
       "..                    ...               ...                ...   \n",
       "193              0.003922           0.08191             0.1319   \n",
       "194              0.003168           0.12720             0.2362   \n",
       "195              0.001377           0.12610             0.1572   \n",
       "196              0.003979           0.14980             0.4379   \n",
       "197              0.003606           0.13300             0.2808   \n",
       "\n",
       "     concave points_worst  symmetry_worst  Tumor Size  Lymph node status  \n",
       "0                 0.11700          0.2677         5.0           5.100000  \n",
       "1                 0.26540          0.4601         3.0           2.000000  \n",
       "2                 0.20320          0.4334         2.5           0.000000  \n",
       "3                 0.25750          0.6638         2.0           0.000000  \n",
       "4                 0.16250          0.2364         3.5           0.000000  \n",
       "..                    ...             ...         ...                ...  \n",
       "193               0.09378          0.2061         6.0           2.000000  \n",
       "194               0.12860          0.2914         1.5           0.000000  \n",
       "195               0.09520          0.3362         3.7           0.000000  \n",
       "196               0.22150          0.2832         3.0           3.211856  \n",
       "197               0.13170          0.3035         3.5           0.000000  \n",
       "\n",
       "[198 rows x 21 columns]"
      ]
     },
     "execution_count": 37,
     "metadata": {},
     "output_type": "execute_result"
    }
   ],
   "source": [
    "X"
   ]
  },
  {
   "cell_type": "code",
   "execution_count": 38,
   "id": "2ef02ba7",
   "metadata": {
    "execution": {
     "iopub.execute_input": "2023-01-16T04:53:33.380876Z",
     "iopub.status.busy": "2023-01-16T04:53:33.380381Z",
     "iopub.status.idle": "2023-01-16T04:53:33.386542Z",
     "shell.execute_reply": "2023-01-16T04:53:33.385060Z"
    },
    "papermill": {
     "duration": 0.031187,
     "end_time": "2023-01-16T04:53:33.388963",
     "exception": false,
     "start_time": "2023-01-16T04:53:33.357776",
     "status": "completed"
    },
    "tags": []
   },
   "outputs": [],
   "source": [
    "y=df['Recurrence']"
   ]
  },
  {
   "cell_type": "code",
   "execution_count": 39,
   "id": "9f3cf2ca",
   "metadata": {
    "execution": {
     "iopub.execute_input": "2023-01-16T04:53:33.432904Z",
     "iopub.status.busy": "2023-01-16T04:53:33.432229Z",
     "iopub.status.idle": "2023-01-16T04:53:33.438774Z",
     "shell.execute_reply": "2023-01-16T04:53:33.437536Z"
    },
    "papermill": {
     "duration": 0.032015,
     "end_time": "2023-01-16T04:53:33.441746",
     "exception": false,
     "start_time": "2023-01-16T04:53:33.409731",
     "status": "completed"
    },
    "tags": []
   },
   "outputs": [],
   "source": [
    "from sklearn.model_selection import train_test_split\n",
    "X_train, X_test, y_train, y_test = train_test_split(X, y, test_size=0.33, random_state=42)"
   ]
  },
  {
   "cell_type": "code",
   "execution_count": 40,
   "id": "71b07a8d",
   "metadata": {
    "execution": {
     "iopub.execute_input": "2023-01-16T04:53:33.485023Z",
     "iopub.status.busy": "2023-01-16T04:53:33.484494Z",
     "iopub.status.idle": "2023-01-16T04:53:33.748456Z",
     "shell.execute_reply": "2023-01-16T04:53:33.746364Z"
    },
    "papermill": {
     "duration": 0.289637,
     "end_time": "2023-01-16T04:53:33.751922",
     "exception": false,
     "start_time": "2023-01-16T04:53:33.462285",
     "status": "completed"
    },
    "tags": []
   },
   "outputs": [
    {
     "name": "stdout",
     "output_type": "stream",
     "text": [
      "83.33333333333334\n"
     ]
    }
   ],
   "source": [
    "from xgboost import XGBClassifier\n",
    "from sklearn.metrics import accuracy_score\n",
    "model = XGBClassifier(eval_metric='mlogloss')\n",
    "model.fit(X_train, y_train)\n",
    "y_pred1 = model.predict(X_test)\n",
    "accuracy = accuracy_score(y_test, y_pred1)\n",
    "print(accuracy*100)"
   ]
  },
  {
   "cell_type": "code",
   "execution_count": 41,
   "id": "73bf4258",
   "metadata": {
    "execution": {
     "iopub.execute_input": "2023-01-16T04:53:33.796644Z",
     "iopub.status.busy": "2023-01-16T04:53:33.796145Z",
     "iopub.status.idle": "2023-01-16T04:53:33.865058Z",
     "shell.execute_reply": "2023-01-16T04:53:33.863742Z"
    },
    "papermill": {
     "duration": 0.093852,
     "end_time": "2023-01-16T04:53:33.867762",
     "exception": false,
     "start_time": "2023-01-16T04:53:33.773910",
     "status": "completed"
    },
    "tags": []
   },
   "outputs": [
    {
     "data": {
      "text/plain": [
       "80.3030303030303"
      ]
     },
     "execution_count": 41,
     "metadata": {},
     "output_type": "execute_result"
    }
   ],
   "source": [
    "from sklearn.linear_model import LogisticRegression\n",
    "logModel=LogisticRegression(solver='lbfgs', max_iter=1000000,dual=False)\n",
    "logModel.fit(X_train, y_train,)\n",
    "predictions = logModel.predict(X_test)\n",
    "from sklearn.metrics import accuracy_score\n",
    "accuracy_score(y_test,predictions)*100"
   ]
  },
  {
   "cell_type": "code",
   "execution_count": 42,
   "id": "afffaefc",
   "metadata": {
    "execution": {
     "iopub.execute_input": "2023-01-16T04:53:33.917932Z",
     "iopub.status.busy": "2023-01-16T04:53:33.916501Z",
     "iopub.status.idle": "2023-01-16T04:53:34.005694Z",
     "shell.execute_reply": "2023-01-16T04:53:34.003996Z"
    },
    "papermill": {
     "duration": 0.119358,
     "end_time": "2023-01-16T04:53:34.009050",
     "exception": false,
     "start_time": "2023-01-16T04:53:33.889692",
     "status": "completed"
    },
    "tags": []
   },
   "outputs": [
    {
     "name": "stdout",
     "output_type": "stream",
     "text": [
      "LightGBM Model accuracy score: 87.8788\n"
     ]
    }
   ],
   "source": [
    "import lightgbm as lgb\n",
    "clf = lgb.LGBMClassifier()\n",
    "clf.fit(X_train, y_train)\n",
    "y_pred=clf.predict(X_test)\n",
    "accuracy=accuracy_score(y_pred, y_test)\n",
    "print('LightGBM Model accuracy score: {0:0.4f}'.format(accuracy_score(y_test, y_pred)*100))"
   ]
  },
  {
   "cell_type": "code",
   "execution_count": 43,
   "id": "eb2dea4f",
   "metadata": {
    "execution": {
     "iopub.execute_input": "2023-01-16T04:53:34.063850Z",
     "iopub.status.busy": "2023-01-16T04:53:34.063399Z",
     "iopub.status.idle": "2023-01-16T04:53:34.235218Z",
     "shell.execute_reply": "2023-01-16T04:53:34.234235Z"
    },
    "papermill": {
     "duration": 0.197859,
     "end_time": "2023-01-16T04:53:34.238099",
     "exception": false,
     "start_time": "2023-01-16T04:53:34.040240",
     "status": "completed"
    },
    "tags": []
   },
   "outputs": [],
   "source": [
    "from sklearn.ensemble import RandomForestClassifier\n",
    "clf = RandomForestClassifier(n_estimators = 100) \n",
    " \n",
    "# Training the model on the training dataset\n",
    "# fit function is used to train the model using the training sets as parameters\n",
    "clf.fit(X_train, y_train)\n",
    " \n",
    "# performing predictions on the test dataset\n",
    "y_pred8 = clf.predict(X_test)\n",
    " "
   ]
  },
  {
   "cell_type": "code",
   "execution_count": 44,
   "id": "401f5c17",
   "metadata": {
    "execution": {
     "iopub.execute_input": "2023-01-16T04:53:34.282552Z",
     "iopub.status.busy": "2023-01-16T04:53:34.281643Z",
     "iopub.status.idle": "2023-01-16T04:53:34.289322Z",
     "shell.execute_reply": "2023-01-16T04:53:34.287841Z"
    },
    "papermill": {
     "duration": 0.033254,
     "end_time": "2023-01-16T04:53:34.292444",
     "exception": false,
     "start_time": "2023-01-16T04:53:34.259190",
     "status": "completed"
    },
    "tags": []
   },
   "outputs": [
    {
     "name": "stdout",
     "output_type": "stream",
     "text": [
      "\n",
      "84.84848484848484\n"
     ]
    }
   ],
   "source": [
    "# metrics are used to find accuracy or error\n",
    "from sklearn import metrics \n",
    "print()\n",
    " \n",
    "# using metrics module for accuracy calculation\n",
    "print( metrics.accuracy_score(y_test, y_pred8)*100)"
   ]
  },
  {
   "cell_type": "code",
   "execution_count": 45,
   "id": "fe9e9cbc",
   "metadata": {
    "execution": {
     "iopub.execute_input": "2023-01-16T04:53:34.338302Z",
     "iopub.status.busy": "2023-01-16T04:53:34.337511Z",
     "iopub.status.idle": "2023-01-16T04:53:34.695198Z",
     "shell.execute_reply": "2023-01-16T04:53:34.693992Z"
    },
    "papermill": {
     "duration": 0.383324,
     "end_time": "2023-01-16T04:53:34.697867",
     "exception": false,
     "start_time": "2023-01-16T04:53:34.314543",
     "status": "completed"
    },
    "tags": []
   },
   "outputs": [
    {
     "name": "stdout",
     "output_type": "stream",
     "text": [
      "81.81818181818183\n"
     ]
    }
   ],
   "source": [
    "from sklearn.ensemble import ExtraTreesClassifier\n",
    "clf = ExtraTreesClassifier(n_estimators=100,max_depth=6,min_samples_split=2,min_weight_fraction_leaf =0.0,n_jobs=-1)\n",
    "clf.fit(X_train, y_train)\n",
    "print(clf.score(X_test, y_test)*100)"
   ]
  },
  {
   "cell_type": "code",
   "execution_count": 46,
   "id": "2bd359b4",
   "metadata": {
    "execution": {
     "iopub.execute_input": "2023-01-16T04:53:34.744112Z",
     "iopub.status.busy": "2023-01-16T04:53:34.742393Z",
     "iopub.status.idle": "2023-01-16T04:53:34.760812Z",
     "shell.execute_reply": "2023-01-16T04:53:34.759221Z"
    },
    "papermill": {
     "duration": 0.045003,
     "end_time": "2023-01-16T04:53:34.764790",
     "exception": false,
     "start_time": "2023-01-16T04:53:34.719787",
     "status": "completed"
    },
    "tags": []
   },
   "outputs": [
    {
     "name": "stdout",
     "output_type": "stream",
     "text": [
      "75.75757575757575\n"
     ]
    }
   ],
   "source": [
    "from sklearn.neighbors import KNeighborsClassifier\n",
    "knn = KNeighborsClassifier(n_neighbors=7)\n",
    " \n",
    "knn.fit(X_train, y_train)\n",
    " \n",
    "# Predict on dataset which model has not seen before\n",
    "print(knn.score(X_test, y_test)*100)"
   ]
  },
  {
   "cell_type": "code",
   "execution_count": 47,
   "id": "c628a016",
   "metadata": {
    "execution": {
     "iopub.execute_input": "2023-01-16T04:53:34.809582Z",
     "iopub.status.busy": "2023-01-16T04:53:34.808166Z",
     "iopub.status.idle": "2023-01-16T04:53:34.865551Z",
     "shell.execute_reply": "2023-01-16T04:53:34.863042Z"
    },
    "papermill": {
     "duration": 0.08258,
     "end_time": "2023-01-16T04:53:34.868509",
     "exception": false,
     "start_time": "2023-01-16T04:53:34.785929",
     "status": "completed"
    },
    "tags": []
   },
   "outputs": [
    {
     "name": "stdout",
     "output_type": "stream",
     "text": [
      "78.78787878787878\n"
     ]
    }
   ],
   "source": [
    "from sklearn.svm import SVC \n",
    "from sklearn.metrics import accuracy_score\n",
    "clf = SVC(kernel='linear') \n",
    "  \n",
    "#fitting x samples and y classes \n",
    "clf.fit(X_train, y_train) \n",
    "y_pred2=clf.predict(X_test)\n",
    "accuracy = accuracy_score(y_test, y_pred2)\n",
    "print(accuracy*100)"
   ]
  },
  {
   "cell_type": "markdown",
   "id": "ce23cf62",
   "metadata": {
    "papermill": {
     "duration": 0.020671,
     "end_time": "2023-01-16T04:53:34.911066",
     "exception": false,
     "start_time": "2023-01-16T04:53:34.890395",
     "status": "completed"
    },
    "tags": []
   },
   "source": [
    "## Using PCA"
   ]
  },
  {
   "cell_type": "code",
   "execution_count": 48,
   "id": "33f902f0",
   "metadata": {
    "execution": {
     "iopub.execute_input": "2023-01-16T04:53:34.955204Z",
     "iopub.status.busy": "2023-01-16T04:53:34.954697Z",
     "iopub.status.idle": "2023-01-16T04:53:34.959438Z",
     "shell.execute_reply": "2023-01-16T04:53:34.958565Z"
    },
    "papermill": {
     "duration": 0.02965,
     "end_time": "2023-01-16T04:53:34.961509",
     "exception": false,
     "start_time": "2023-01-16T04:53:34.931859",
     "status": "completed"
    },
    "tags": []
   },
   "outputs": [],
   "source": [
    "from sklearn.decomposition import PCA\n",
    "pca_n=PCA(n_components=10,random_state=2020)"
   ]
  },
  {
   "cell_type": "code",
   "execution_count": 49,
   "id": "469b0a0a",
   "metadata": {
    "execution": {
     "iopub.execute_input": "2023-01-16T04:53:35.005959Z",
     "iopub.status.busy": "2023-01-16T04:53:35.005121Z",
     "iopub.status.idle": "2023-01-16T04:53:35.032006Z",
     "shell.execute_reply": "2023-01-16T04:53:35.030779Z"
    },
    "papermill": {
     "duration": 0.051806,
     "end_time": "2023-01-16T04:53:35.034459",
     "exception": false,
     "start_time": "2023-01-16T04:53:34.982653",
     "status": "completed"
    },
    "tags": []
   },
   "outputs": [
    {
     "data": {
      "text/plain": [
       "PCA(n_components=10, random_state=2020)"
      ]
     },
     "execution_count": 49,
     "metadata": {},
     "output_type": "execute_result"
    }
   ],
   "source": [
    "pca_n.fit(X)"
   ]
  },
  {
   "cell_type": "code",
   "execution_count": 50,
   "id": "33b108ee",
   "metadata": {
    "execution": {
     "iopub.execute_input": "2023-01-16T04:53:35.079290Z",
     "iopub.status.busy": "2023-01-16T04:53:35.078012Z",
     "iopub.status.idle": "2023-01-16T04:53:35.086755Z",
     "shell.execute_reply": "2023-01-16T04:53:35.085573Z"
    },
    "papermill": {
     "duration": 0.03381,
     "end_time": "2023-01-16T04:53:35.089467",
     "exception": false,
     "start_time": "2023-01-16T04:53:35.055657",
     "status": "completed"
    },
    "tags": []
   },
   "outputs": [],
   "source": [
    "X_pca_n=pca_n.transform(X)"
   ]
  },
  {
   "cell_type": "code",
   "execution_count": 51,
   "id": "86f3e76e",
   "metadata": {
    "execution": {
     "iopub.execute_input": "2023-01-16T04:53:35.134218Z",
     "iopub.status.busy": "2023-01-16T04:53:35.133665Z",
     "iopub.status.idle": "2023-01-16T04:53:35.140939Z",
     "shell.execute_reply": "2023-01-16T04:53:35.140052Z"
    },
    "papermill": {
     "duration": 0.032791,
     "end_time": "2023-01-16T04:53:35.143388",
     "exception": false,
     "start_time": "2023-01-16T04:53:35.110597",
     "status": "completed"
    },
    "tags": []
   },
   "outputs": [
    {
     "data": {
      "text/plain": [
       "99.9998218148083"
      ]
     },
     "execution_count": 51,
     "metadata": {},
     "output_type": "execute_result"
    }
   ],
   "source": [
    "sum(pca_n.explained_variance_ratio_*100)"
   ]
  },
  {
   "cell_type": "code",
   "execution_count": 52,
   "id": "5a296bdc",
   "metadata": {
    "execution": {
     "iopub.execute_input": "2023-01-16T04:53:35.189004Z",
     "iopub.status.busy": "2023-01-16T04:53:35.188113Z",
     "iopub.status.idle": "2023-01-16T04:53:35.196791Z",
     "shell.execute_reply": "2023-01-16T04:53:35.195621Z"
    },
    "papermill": {
     "duration": 0.0342,
     "end_time": "2023-01-16T04:53:35.199331",
     "exception": false,
     "start_time": "2023-01-16T04:53:35.165131",
     "status": "completed"
    },
    "tags": []
   },
   "outputs": [
    {
     "data": {
      "text/plain": [
       "array([94.93410889, 97.31637047, 98.69228049, 99.55235438, 99.77357819,\n",
       "       99.97462217, 99.99078529, 99.99719936, 99.99957426, 99.99982181])"
      ]
     },
     "execution_count": 52,
     "metadata": {},
     "output_type": "execute_result"
    }
   ],
   "source": [
    "np.cumsum(pca_n.explained_variance_ratio_*100)"
   ]
  },
  {
   "cell_type": "code",
   "execution_count": 53,
   "id": "6f58dec6",
   "metadata": {
    "execution": {
     "iopub.execute_input": "2023-01-16T04:53:35.244278Z",
     "iopub.status.busy": "2023-01-16T04:53:35.243725Z",
     "iopub.status.idle": "2023-01-16T04:53:35.485961Z",
     "shell.execute_reply": "2023-01-16T04:53:35.484680Z"
    },
    "papermill": {
     "duration": 0.268278,
     "end_time": "2023-01-16T04:53:35.489108",
     "exception": false,
     "start_time": "2023-01-16T04:53:35.220830",
     "status": "completed"
    },
    "tags": []
   },
   "outputs": [
    {
     "data": {
      "text/plain": [
       "Text(0, 0.5, 'Explained variance')"
      ]
     },
     "execution_count": 53,
     "metadata": {},
     "output_type": "execute_result"
    },
    {
     "data": {
      "image/png": "[encoded data removed]",
      "text/plain": [
       "<Figure size 432x288 with 1 Axes>"
      ]
     },
     "metadata": {
      "needs_background": "light"
     },
     "output_type": "display_data"
    }
   ],
   "source": [
    "plt.plot(np.cumsum(pca_n.explained_variance_ratio_*100))\n",
    "plt.xlabel('No. of components')\n",
    "plt.ylabel('Explained variance')"
   ]
  },
  {
   "cell_type": "code",
   "execution_count": 54,
   "id": "b9f932ac",
   "metadata": {
    "execution": {
     "iopub.execute_input": "2023-01-16T04:53:35.536147Z",
     "iopub.status.busy": "2023-01-16T04:53:35.535602Z",
     "iopub.status.idle": "2023-01-16T04:53:35.541607Z",
     "shell.execute_reply": "2023-01-16T04:53:35.540338Z"
    },
    "papermill": {
     "duration": 0.031838,
     "end_time": "2023-01-16T04:53:35.544079",
     "exception": false,
     "start_time": "2023-01-16T04:53:35.512241",
     "status": "completed"
    },
    "tags": []
   },
   "outputs": [],
   "source": [
    "pca_98=PCA(n_components=0.99,random_state=2020)"
   ]
  },
  {
   "cell_type": "code",
   "execution_count": 55,
   "id": "c5b64d1e",
   "metadata": {
    "execution": {
     "iopub.execute_input": "2023-01-16T04:53:35.590100Z",
     "iopub.status.busy": "2023-01-16T04:53:35.589152Z",
     "iopub.status.idle": "2023-01-16T04:53:35.600021Z",
     "shell.execute_reply": "2023-01-16T04:53:35.599016Z"
    },
    "papermill": {
     "duration": 0.036828,
     "end_time": "2023-01-16T04:53:35.602749",
     "exception": false,
     "start_time": "2023-01-16T04:53:35.565921",
     "status": "completed"
    },
    "tags": []
   },
   "outputs": [],
   "source": [
    "pca_98.fit(X)\n",
    "X_pca_98=pca_98.transform(X)"
   ]
  },
  {
   "cell_type": "code",
   "execution_count": 56,
   "id": "ef6ddf0e",
   "metadata": {
    "execution": {
     "iopub.execute_input": "2023-01-16T04:53:35.649999Z",
     "iopub.status.busy": "2023-01-16T04:53:35.649071Z",
     "iopub.status.idle": "2023-01-16T04:53:35.656214Z",
     "shell.execute_reply": "2023-01-16T04:53:35.655029Z"
    },
    "papermill": {
     "duration": 0.033493,
     "end_time": "2023-01-16T04:53:35.658710",
     "exception": false,
     "start_time": "2023-01-16T04:53:35.625217",
     "status": "completed"
    },
    "tags": []
   },
   "outputs": [],
   "source": [
    "X_new=pd.DataFrame(X_pca_98,columns=['PC1','PC2','PC3','PC4'])"
   ]
  },
  {
   "cell_type": "code",
   "execution_count": 57,
   "id": "4bd25c8a",
   "metadata": {
    "execution": {
     "iopub.execute_input": "2023-01-16T04:53:35.704738Z",
     "iopub.status.busy": "2023-01-16T04:53:35.703843Z",
     "iopub.status.idle": "2023-01-16T04:53:35.712142Z",
     "shell.execute_reply": "2023-01-16T04:53:35.711024Z"
    },
    "papermill": {
     "duration": 0.03462,
     "end_time": "2023-01-16T04:53:35.714878",
     "exception": false,
     "start_time": "2023-01-16T04:53:35.680258",
     "status": "completed"
    },
    "tags": []
   },
   "outputs": [],
   "source": [
    "from sklearn.model_selection import train_test_split\n",
    "X_train, X_test, y_train, y_test = train_test_split(X_new, y, test_size=0.33, random_state=42)"
   ]
  },
  {
   "cell_type": "code",
   "execution_count": 58,
   "id": "ed0c03e0",
   "metadata": {
    "execution": {
     "iopub.execute_input": "2023-01-16T04:53:35.761910Z",
     "iopub.status.busy": "2023-01-16T04:53:35.761394Z",
     "iopub.status.idle": "2023-01-16T04:53:35.776382Z",
     "shell.execute_reply": "2023-01-16T04:53:35.774940Z"
    },
    "papermill": {
     "duration": 0.041536,
     "end_time": "2023-01-16T04:53:35.779283",
     "exception": false,
     "start_time": "2023-01-16T04:53:35.737747",
     "status": "completed"
    },
    "tags": []
   },
   "outputs": [],
   "source": [
    "from sklearn.preprocessing import StandardScaler\n",
    "sc=StandardScaler()\n",
    "X_train=sc.fit_transform(X_train)\n",
    "X_test=sc.fit_transform(X_test)"
   ]
  },
  {
   "cell_type": "code",
   "execution_count": 59,
   "id": "37bfff6b",
   "metadata": {
    "execution": {
     "iopub.execute_input": "2023-01-16T04:53:35.825445Z",
     "iopub.status.busy": "2023-01-16T04:53:35.824163Z",
     "iopub.status.idle": "2023-01-16T04:53:35.856952Z",
     "shell.execute_reply": "2023-01-16T04:53:35.856017Z"
    },
    "papermill": {
     "duration": 0.058798,
     "end_time": "2023-01-16T04:53:35.859845",
     "exception": false,
     "start_time": "2023-01-16T04:53:35.801047",
     "status": "completed"
    },
    "tags": []
   },
   "outputs": [
    {
     "name": "stdout",
     "output_type": "stream",
     "text": [
      "LightGBM Model accuracy score: 83.3333\n"
     ]
    }
   ],
   "source": [
    "import lightgbm as lgb\n",
    "clf = lgb.LGBMClassifier()\n",
    "clf.fit(X_train, y_train)\n",
    "y_pred=clf.predict(X_test)\n",
    "accuracy=accuracy_score(y_pred, y_test)\n",
    "print('LightGBM Model accuracy score: {0:0.4f}'.format(accuracy_score(y_test, y_pred)*100))"
   ]
  },
  {
   "cell_type": "code",
   "execution_count": 60,
   "id": "ccaa9039",
   "metadata": {
    "execution": {
     "iopub.execute_input": "2023-01-16T04:53:35.907696Z",
     "iopub.status.busy": "2023-01-16T04:53:35.907246Z",
     "iopub.status.idle": "2023-01-16T04:53:36.164615Z",
     "shell.execute_reply": "2023-01-16T04:53:36.163302Z"
    },
    "papermill": {
     "duration": 0.284064,
     "end_time": "2023-01-16T04:53:36.167809",
     "exception": false,
     "start_time": "2023-01-16T04:53:35.883745",
     "status": "completed"
    },
    "tags": []
   },
   "outputs": [
    {
     "name": "stdout",
     "output_type": "stream",
     "text": [
      "81.81818181818183\n"
     ]
    }
   ],
   "source": [
    "from sklearn.ensemble import ExtraTreesClassifier\n",
    "clf = ExtraTreesClassifier(n_estimators=100,max_depth=6,min_samples_split=2,min_weight_fraction_leaf =0.0,n_jobs=-1)\n",
    "clf.fit(X_train, y_train)\n",
    "print(clf.score(X_test, y_test)*100)"
   ]
  },
  {
   "cell_type": "code",
   "execution_count": 61,
   "id": "e61853c2",
   "metadata": {
    "execution": {
     "iopub.execute_input": "2023-01-16T04:53:36.213025Z",
     "iopub.status.busy": "2023-01-16T04:53:36.212040Z",
     "iopub.status.idle": "2023-01-16T04:53:36.373932Z",
     "shell.execute_reply": "2023-01-16T04:53:36.372509Z"
    },
    "papermill": {
     "duration": 0.188135,
     "end_time": "2023-01-16T04:53:36.377475",
     "exception": false,
     "start_time": "2023-01-16T04:53:36.189340",
     "status": "completed"
    },
    "tags": []
   },
   "outputs": [],
   "source": [
    "from sklearn.ensemble import RandomForestClassifier\n",
    "clf = RandomForestClassifier(n_estimators = 100) \n",
    " \n",
    "# Training the model on the training dataset\n",
    "# fit function is used to train the model using the training sets as parameters\n",
    "clf.fit(X_train, y_train)\n",
    " \n",
    "# performing predictions on the test dataset\n",
    "y_pred8 = clf.predict(X_test)"
   ]
  },
  {
   "cell_type": "code",
   "execution_count": 62,
   "id": "9c594f38",
   "metadata": {
    "execution": {
     "iopub.execute_input": "2023-01-16T04:53:36.423913Z",
     "iopub.status.busy": "2023-01-16T04:53:36.423148Z",
     "iopub.status.idle": "2023-01-16T04:53:36.431288Z",
     "shell.execute_reply": "2023-01-16T04:53:36.429832Z"
    },
    "papermill": {
     "duration": 0.034276,
     "end_time": "2023-01-16T04:53:36.434180",
     "exception": false,
     "start_time": "2023-01-16T04:53:36.399904",
     "status": "completed"
    },
    "tags": []
   },
   "outputs": [
    {
     "name": "stdout",
     "output_type": "stream",
     "text": [
      "\n",
      "78.78787878787878\n"
     ]
    }
   ],
   "source": [
    "# metrics are used to find accuracy or error\n",
    "from sklearn import metrics \n",
    "print()\n",
    " \n",
    "# using metrics module for accuracy calculation\n",
    "print( metrics.accuracy_score(y_test, y_pred8)*100)"
   ]
  },
  {
   "cell_type": "code",
   "execution_count": 63,
   "id": "2aae3ecd",
   "metadata": {
    "execution": {
     "iopub.execute_input": "2023-01-16T04:53:36.482606Z",
     "iopub.status.busy": "2023-01-16T04:53:36.481650Z",
     "iopub.status.idle": "2023-01-16T04:53:36.494022Z",
     "shell.execute_reply": "2023-01-16T04:53:36.492490Z"
    },
    "papermill": {
     "duration": 0.039431,
     "end_time": "2023-01-16T04:53:36.497393",
     "exception": false,
     "start_time": "2023-01-16T04:53:36.457962",
     "status": "completed"
    },
    "tags": []
   },
   "outputs": [
    {
     "name": "stdout",
     "output_type": "stream",
     "text": [
      "83.33333333333334\n"
     ]
    }
   ],
   "source": [
    "from sklearn.neighbors import KNeighborsClassifier\n",
    "knn = KNeighborsClassifier(n_neighbors=7)\n",
    " \n",
    "knn.fit(X_train, y_train)\n",
    " \n",
    "# Predict on dataset which model has not seen before\n",
    "print(knn.score(X_test, y_test)*100)"
   ]
  },
  {
   "cell_type": "code",
   "execution_count": 64,
   "id": "8226bdfe",
   "metadata": {
    "execution": {
     "iopub.execute_input": "2023-01-16T04:53:36.544258Z",
     "iopub.status.busy": "2023-01-16T04:53:36.543098Z",
     "iopub.status.idle": "2023-01-16T04:53:36.556998Z",
     "shell.execute_reply": "2023-01-16T04:53:36.555688Z"
    },
    "papermill": {
     "duration": 0.039929,
     "end_time": "2023-01-16T04:53:36.559740",
     "exception": false,
     "start_time": "2023-01-16T04:53:36.519811",
     "status": "completed"
    },
    "tags": []
   },
   "outputs": [
    {
     "data": {
      "text/plain": [
       "84.84848484848484"
      ]
     },
     "execution_count": 64,
     "metadata": {},
     "output_type": "execute_result"
    }
   ],
   "source": [
    "from sklearn.linear_model import LogisticRegression\n",
    "logModel=LogisticRegression(solver='lbfgs', max_iter=1000000,dual=False)\n",
    "logModel.fit(X_train, y_train,)\n",
    "predictions = logModel.predict(X_test)\n",
    "from sklearn.metrics import accuracy_score\n",
    "accuracy_score(y_test,predictions)*100"
   ]
  },
  {
   "cell_type": "code",
   "execution_count": 65,
   "id": "2e7268da",
   "metadata": {
    "execution": {
     "iopub.execute_input": "2023-01-16T04:53:36.606293Z",
     "iopub.status.busy": "2023-01-16T04:53:36.605410Z",
     "iopub.status.idle": "2023-01-16T04:53:36.980278Z",
     "shell.execute_reply": "2023-01-16T04:53:36.978751Z"
    },
    "papermill": {
     "duration": 0.402763,
     "end_time": "2023-01-16T04:53:36.984571",
     "exception": false,
     "start_time": "2023-01-16T04:53:36.581808",
     "status": "completed"
    },
    "tags": []
   },
   "outputs": [
    {
     "name": "stdout",
     "output_type": "stream",
     "text": [
      "83.33333333333334\n"
     ]
    }
   ],
   "source": [
    "from xgboost import XGBClassifier\n",
    "from sklearn.metrics import accuracy_score\n",
    "model = XGBClassifier(eval_metric='mlogloss')\n",
    "model.fit(X_train, y_train)\n",
    "y_pred1 = model.predict(X_test)\n",
    "accuracy = accuracy_score(y_test, y_pred1)\n",
    "print(accuracy*100)"
   ]
  },
  {
   "cell_type": "code",
   "execution_count": 66,
   "id": "d65f484e",
   "metadata": {
    "execution": {
     "iopub.execute_input": "2023-01-16T04:53:37.033083Z",
     "iopub.status.busy": "2023-01-16T04:53:37.032495Z",
     "iopub.status.idle": "2023-01-16T04:53:37.043663Z",
     "shell.execute_reply": "2023-01-16T04:53:37.042173Z"
    },
    "papermill": {
     "duration": 0.037611,
     "end_time": "2023-01-16T04:53:37.046412",
     "exception": false,
     "start_time": "2023-01-16T04:53:37.008801",
     "status": "completed"
    },
    "tags": []
   },
   "outputs": [
    {
     "name": "stdout",
     "output_type": "stream",
     "text": [
      "80.3030303030303\n"
     ]
    }
   ],
   "source": [
    "from sklearn.svm import SVC  \n",
    "clf = SVC(kernel='linear') \n",
    "  \n",
    "#fitting x samples and y classes \n",
    "clf.fit(X_train, y_train) \n",
    "y_pred2=clf.predict(X_test)\n",
    "accuracy = accuracy_score(y_test, y_pred2)\n",
    "print(accuracy*100)"
   ]
  }
 ],
 "metadata": {
  "kernelspec": {
   "display_name": "Python 3",
   "language": "python",
   "name": "python3"
  },
  "language_info": {
   "codemirror_mode": {
    "name": "ipython",
    "version": 3
   },
   "file_extension": ".py",
   "mimetype": "text/x-python",
   "name": "python",
   "nbconvert_exporter": "python",
   "pygments_lexer": "ipython3",
   "version": "3.7.12"
  },
  "papermill": {
   "default_parameters": {},
   "duration": 36.992004,
   "end_time": "2023-01-16T04:53:37.993279",
   "environment_variables": {},
   "exception": null,
   "input_path": "__notebook__.ipynb",
   "output_path": "__notebook__.ipynb",
   "parameters": {},
   "start_time": "2023-01-16T04:53:01.001275",
   "version": "2.3.4"
  }
 },
 "nbformat": 4,
 "nbformat_minor": 5
}
